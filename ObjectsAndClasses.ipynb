{
 "cells": [
  {
   "cell_type": "markdown",
   "id": "e12257a3",
   "metadata": {},
   "source": [
    "# create a class"
   ]
  },
  {
   "cell_type": "code",
   "execution_count": 3,
   "id": "42574468",
   "metadata": {},
   "outputs": [
    {
     "name": "stdout",
     "output_type": "stream",
     "text": [
      "Hi I am Stella\n",
      "I am eligible to vote\n"
     ]
    }
   ],
   "source": [
    "class person :\n",
    "    \n",
    "    def __init__(self):\n",
    "        self.name=\"Stella\"\n",
    "        self.gender=\"Female\"\n",
    "        self.age=25\n",
    "    def talk(self):\n",
    "        print(\"Hi I am\", self.name)\n",
    "    def vote(self):\n",
    "        if self.age<18 :\n",
    "            print(\"I am not eligible to vote\")\n",
    "        else :\n",
    "            print(\"I am eligible to vote\")\n",
    "obj=person()\n",
    "person.talk(obj)\n",
    "person.vote(obj)"
   ]
  },
  {
   "cell_type": "code",
   "execution_count": 5,
   "id": "7d89df97",
   "metadata": {},
   "outputs": [
    {
     "name": "stdout",
     "output_type": "stream",
     "text": [
      "Hi I am Stella\n",
      "I am eligible to vote\n"
     ]
    }
   ],
   "source": [
    "# create a class\n",
    "class person :\n",
    "    \n",
    "    def __init__(self):\n",
    "        self.name=\"Stella\"\n",
    "        self.gender=\"Female\"\n",
    "        self.age=25\n",
    "    def talk(self):\n",
    "        print(\"Hi I am\", self.name)\n",
    "    def vote(self):\n",
    "        if self.age<18 :\n",
    "            print(\"I am not eligible to vote\")\n",
    "        else :\n",
    "            print(\"I am eligible to vote\")\n",
    "obj=person()\n",
    "obj.talk()\n",
    "obj.vote()"
   ]
  },
  {
   "cell_type": "markdown",
   "id": "2a6c6b16",
   "metadata": {},
   "source": [
    "# Create 2 seperate objects"
   ]
  },
  {
   "cell_type": "code",
   "execution_count": 9,
   "id": "41d4e9d0",
   "metadata": {},
   "outputs": [
    {
     "name": "stdout",
     "output_type": "stream",
     "text": [
      "Hi I am Stella\n",
      "I am eligible to vote\n",
      "Hi I am Eric\n",
      "I am not eligible to vote\n"
     ]
    }
   ],
   "source": [
    "# create a class\n",
    "class person :\n",
    "    \n",
    "    def __init__(self, n, g,a):\n",
    "        self.name=n\n",
    "        self.gender=g\n",
    "        self.age=a\n",
    "    def talk(self):\n",
    "        print(\"Hi I am\", self.name)\n",
    "    def vote(self):\n",
    "        if self.age<18 :\n",
    "            print(\"I am not eligible to vote\")\n",
    "        else :\n",
    "            print(\"I am eligible to vote\")\n",
    "obj1= person(\"Stella\", \"Female\",25)\n",
    "obj2= person(\"Eric\", \"Male\",16)\n",
    "# print(obj1.name, obj2.name)\n",
    "\n",
    "# call the metho\n",
    "obj1.talk()\n",
    "obj1.vote()\n",
    "\n",
    "obj2.talk()\n",
    "obj2.vote()"
   ]
  },
  {
   "cell_type": "code",
   "execution_count": null,
   "id": "34fcb2f5",
   "metadata": {},
   "outputs": [],
   "source": []
  }
 ],
 "metadata": {
  "kernelspec": {
   "display_name": "Python 3 (ipykernel)",
   "language": "python",
   "name": "python3"
  },
  "language_info": {
   "codemirror_mode": {
    "name": "ipython",
    "version": 3
   },
   "file_extension": ".py",
   "mimetype": "text/x-python",
   "name": "python",
   "nbconvert_exporter": "python",
   "pygments_lexer": "ipython3",
   "version": "3.9.12"
  }
 },
 "nbformat": 4,
 "nbformat_minor": 5
}
