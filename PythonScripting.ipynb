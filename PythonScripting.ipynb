{
 "cells": [
  {
   "cell_type": "markdown",
   "id": "9ed4a06f",
   "metadata": {},
   "source": [
    "# Scripting Libraries"
   ]
  },
  {
   "cell_type": "code",
   "execution_count": 1,
   "id": "d05149cb",
   "metadata": {},
   "outputs": [],
   "source": [
    "import os\n",
    "\n",
    "def current_directory():\n",
    "    cwd=os.getcwd()\n",
    "    print(cwd)"
   ]
  },
  {
   "cell_type": "code",
   "execution_count": 2,
   "id": "4bc74a5a",
   "metadata": {},
   "outputs": [
    {
     "data": {
      "text/plain": [
       "<function __main__.current_directory()>"
      ]
     },
     "execution_count": 2,
     "metadata": {},
     "output_type": "execute_result"
    }
   ],
   "source": [
    "current_directory"
   ]
  },
  {
   "cell_type": "code",
   "execution_count": 4,
   "id": "06b9fc6d",
   "metadata": {},
   "outputs": [
    {
     "name": "stdout",
     "output_type": "stream",
     "text": [
      "C:\\Users\\sgitu\\simplilearn\n",
      "C:\\Users\\sgitu\\simplilearn\\sample.txt\n"
     ]
    }
   ],
   "source": [
    "import os\n",
    "\n",
    "def current_directory():\n",
    "    cwd=os.getcwd()\n",
    "    print(cwd)\n",
    "def file_path(filename):\n",
    "    path=os.path.abspath((filename))\n",
    "    print(path)\n",
    "    \n",
    "current_directory()\n",
    "filename=\"sample.txt\"\n",
    "file_path(filename)"
   ]
  },
  {
   "cell_type": "markdown",
   "id": "882e845d",
   "metadata": {},
   "source": [
    "# Time module"
   ]
  },
  {
   "cell_type": "code",
   "execution_count": 9,
   "id": "20984e8f",
   "metadata": {},
   "outputs": [
    {
     "name": "stdout",
     "output_type": "stream",
     "text": [
      "1657810452.0309522\n",
      "time.struct_time(tm_year=2022, tm_mon=7, tm_mday=14, tm_hour=17, tm_min=54, tm_sec=12, tm_wday=3, tm_yday=195, tm_isdst=0)\n",
      "2022\n",
      "Thu Jul 14 17:54:12 2022\n"
     ]
    }
   ],
   "source": [
    "import time\n",
    "\n",
    "\n",
    "epc=time.time()\n",
    "print(epc)\n",
    "localtime=time.localtime(epc)\n",
    "print(localtime)\n",
    "print(localtime.tm_year)\n",
    "\n",
    "print(time.ctime(epc))"
   ]
  },
  {
   "cell_type": "markdown",
   "id": "28aa3da0",
   "metadata": {},
   "source": [
    "# smtp module:- For sending emails"
   ]
  },
  {
   "cell_type": "code",
   "execution_count": 26,
   "id": "b348b9d5",
   "metadata": {},
   "outputs": [
    {
     "ename": "SMTPAuthenticationError",
     "evalue": "(534, b'5.7.9 Application-specific password required. Learn more at\\n5.7.9  https://support.google.com/mail/?p=InvalidSecondFactor j9-20020a05600c190900b0039db31f6372sm7130743wmq.2 - gsmtp')",
     "output_type": "error",
     "traceback": [
      "\u001b[1;31m---------------------------------------------------------------------------\u001b[0m",
      "\u001b[1;31mSMTPAuthenticationError\u001b[0m                   Traceback (most recent call last)",
      "Input \u001b[1;32mIn [26]\u001b[0m, in \u001b[0;36m<cell line: 6>\u001b[1;34m()\u001b[0m\n\u001b[0;32m      4\u001b[0m smtobj\u001b[38;5;241m.\u001b[39mehlo()\n\u001b[0;32m      5\u001b[0m smtobj\u001b[38;5;241m.\u001b[39mstarttls()\n\u001b[1;32m----> 6\u001b[0m \u001b[43msmtobj\u001b[49m\u001b[38;5;241;43m.\u001b[39;49m\u001b[43mlogin\u001b[49m\u001b[43m(\u001b[49m\u001b[38;5;124;43m'\u001b[39;49m\u001b[38;5;124;43msgituire@gmail.com\u001b[39;49m\u001b[38;5;124;43m'\u001b[39;49m\u001b[43m,\u001b[49m\u001b[43m \u001b[49m\u001b[38;5;124;43m'\u001b[39;49m\u001b[38;5;124;43mjoakiste1525\u001b[39;49m\u001b[38;5;124;43m'\u001b[39;49m\u001b[43m)\u001b[49m\n\u001b[0;32m      7\u001b[0m smtobj\u001b[38;5;241m.\u001b[39msendmail(\u001b[38;5;124m\"\u001b[39m\u001b[38;5;124msgituire@gmail.com\u001b[39m\u001b[38;5;124m\"\u001b[39m,\u001b[38;5;124m\"\u001b[39m\u001b[38;5;124mericwachai@gmail.com\u001b[39m\u001b[38;5;124m\"\u001b[39m, \u001b[38;5;124m\"\u001b[39m\u001b[38;5;124midahbelle@gmail.com\u001b[39m\u001b[38;5;124m\"\u001b[39m, \u001b[38;5;124m'\u001b[39m\u001b[38;5;124mSubject: SMTP check. \u001b[39m\u001b[38;5;130;01m\\n\u001b[39;00m\u001b[38;5;124m This is a test email from Stella\u001b[39m\u001b[38;5;124m'\u001b[39m)\n\u001b[0;32m      8\u001b[0m smtobj\u001b[38;5;241m.\u001b[39mquit()\n",
      "File \u001b[1;32m~\\anaconda3\\lib\\smtplib.py:750\u001b[0m, in \u001b[0;36mSMTP.login\u001b[1;34m(self, user, password, initial_response_ok)\u001b[0m\n\u001b[0;32m    747\u001b[0m         last_exception \u001b[38;5;241m=\u001b[39m e\n\u001b[0;32m    749\u001b[0m \u001b[38;5;66;03m# We could not login successfully.  Return result of last attempt.\u001b[39;00m\n\u001b[1;32m--> 750\u001b[0m \u001b[38;5;28;01mraise\u001b[39;00m last_exception\n",
      "File \u001b[1;32m~\\anaconda3\\lib\\smtplib.py:739\u001b[0m, in \u001b[0;36mSMTP.login\u001b[1;34m(self, user, password, initial_response_ok)\u001b[0m\n\u001b[0;32m    737\u001b[0m method_name \u001b[38;5;241m=\u001b[39m \u001b[38;5;124m'\u001b[39m\u001b[38;5;124mauth_\u001b[39m\u001b[38;5;124m'\u001b[39m \u001b[38;5;241m+\u001b[39m authmethod\u001b[38;5;241m.\u001b[39mlower()\u001b[38;5;241m.\u001b[39mreplace(\u001b[38;5;124m'\u001b[39m\u001b[38;5;124m-\u001b[39m\u001b[38;5;124m'\u001b[39m, \u001b[38;5;124m'\u001b[39m\u001b[38;5;124m_\u001b[39m\u001b[38;5;124m'\u001b[39m)\n\u001b[0;32m    738\u001b[0m \u001b[38;5;28;01mtry\u001b[39;00m:\n\u001b[1;32m--> 739\u001b[0m     (code, resp) \u001b[38;5;241m=\u001b[39m \u001b[38;5;28;43mself\u001b[39;49m\u001b[38;5;241;43m.\u001b[39;49m\u001b[43mauth\u001b[49m\u001b[43m(\u001b[49m\n\u001b[0;32m    740\u001b[0m \u001b[43m        \u001b[49m\u001b[43mauthmethod\u001b[49m\u001b[43m,\u001b[49m\u001b[43m \u001b[49m\u001b[38;5;28;43mgetattr\u001b[39;49m\u001b[43m(\u001b[49m\u001b[38;5;28;43mself\u001b[39;49m\u001b[43m,\u001b[49m\u001b[43m \u001b[49m\u001b[43mmethod_name\u001b[49m\u001b[43m)\u001b[49m\u001b[43m,\u001b[49m\n\u001b[0;32m    741\u001b[0m \u001b[43m        \u001b[49m\u001b[43minitial_response_ok\u001b[49m\u001b[38;5;241;43m=\u001b[39;49m\u001b[43minitial_response_ok\u001b[49m\u001b[43m)\u001b[49m\n\u001b[0;32m    742\u001b[0m     \u001b[38;5;66;03m# 235 == 'Authentication successful'\u001b[39;00m\n\u001b[0;32m    743\u001b[0m     \u001b[38;5;66;03m# 503 == 'Error: already authenticated'\u001b[39;00m\n\u001b[0;32m    744\u001b[0m     \u001b[38;5;28;01mif\u001b[39;00m code \u001b[38;5;129;01min\u001b[39;00m (\u001b[38;5;241m235\u001b[39m, \u001b[38;5;241m503\u001b[39m):\n",
      "File \u001b[1;32m~\\anaconda3\\lib\\smtplib.py:662\u001b[0m, in \u001b[0;36mSMTP.auth\u001b[1;34m(self, mechanism, authobject, initial_response_ok)\u001b[0m\n\u001b[0;32m    660\u001b[0m \u001b[38;5;28;01mif\u001b[39;00m code \u001b[38;5;129;01min\u001b[39;00m (\u001b[38;5;241m235\u001b[39m, \u001b[38;5;241m503\u001b[39m):\n\u001b[0;32m    661\u001b[0m     \u001b[38;5;28;01mreturn\u001b[39;00m (code, resp)\n\u001b[1;32m--> 662\u001b[0m \u001b[38;5;28;01mraise\u001b[39;00m SMTPAuthenticationError(code, resp)\n",
      "\u001b[1;31mSMTPAuthenticationError\u001b[0m: (534, b'5.7.9 Application-specific password required. Learn more at\\n5.7.9  https://support.google.com/mail/?p=InvalidSecondFactor j9-20020a05600c190900b0039db31f6372sm7130743wmq.2 - gsmtp')"
     ]
    }
   ],
   "source": [
    "import smtplib\n",
    "\n",
    "smtobj=smtplib.SMTP(\"smtp.gmail.com\",587)\n",
    "smtobj.ehlo()\n",
    "smtobj.starttls()\n",
    "smtobj.login('sgituire@gmail.com', 'joakiste1525')\n",
    "smtobj.sendmail(\"sgituire@gmail.com\",\"ericwachai@gmail.com\", \"idahbelle@gmail.com\", 'Subject: SMTP check. \\n This is a test email from Stella')\n",
    "smtobj.quit()"
   ]
  },
  {
   "cell_type": "code",
   "execution_count": 27,
   "id": "b6093814",
   "metadata": {},
   "outputs": [
    {
     "name": "stdout",
     "output_type": "stream",
     "text": [
      "Type your password and press enter:joakiste1525\n"
     ]
    },
    {
     "ename": "SMTPAuthenticationError",
     "evalue": "(534, b'5.7.9 Application-specific password required. Learn more at\\n5.7.9  https://support.google.com/mail/?p=InvalidSecondFactor k11-20020a7bc40b000000b0039c5cecf206sm2275193wmi.4 - gsmtp')",
     "output_type": "error",
     "traceback": [
      "\u001b[1;31m---------------------------------------------------------------------------\u001b[0m",
      "\u001b[1;31mSMTPAuthenticationError\u001b[0m                   Traceback (most recent call last)",
      "Input \u001b[1;32mIn [27]\u001b[0m, in \u001b[0;36m<cell line: 14>\u001b[1;34m()\u001b[0m\n\u001b[0;32m     16\u001b[0m server\u001b[38;5;241m.\u001b[39mstarttls(context\u001b[38;5;241m=\u001b[39mcontext)\n\u001b[0;32m     17\u001b[0m server\u001b[38;5;241m.\u001b[39mehlo()  \u001b[38;5;66;03m# Can be omitted\u001b[39;00m\n\u001b[1;32m---> 18\u001b[0m \u001b[43mserver\u001b[49m\u001b[38;5;241;43m.\u001b[39;49m\u001b[43mlogin\u001b[49m\u001b[43m(\u001b[49m\u001b[43msender_email\u001b[49m\u001b[43m,\u001b[49m\u001b[43m \u001b[49m\u001b[43mpassword\u001b[49m\u001b[43m)\u001b[49m\n\u001b[0;32m     19\u001b[0m server\u001b[38;5;241m.\u001b[39msendmail(sender_email, receiver_email, message)\n",
      "File \u001b[1;32m~\\anaconda3\\lib\\smtplib.py:750\u001b[0m, in \u001b[0;36mSMTP.login\u001b[1;34m(self, user, password, initial_response_ok)\u001b[0m\n\u001b[0;32m    747\u001b[0m         last_exception \u001b[38;5;241m=\u001b[39m e\n\u001b[0;32m    749\u001b[0m \u001b[38;5;66;03m# We could not login successfully.  Return result of last attempt.\u001b[39;00m\n\u001b[1;32m--> 750\u001b[0m \u001b[38;5;28;01mraise\u001b[39;00m last_exception\n",
      "File \u001b[1;32m~\\anaconda3\\lib\\smtplib.py:739\u001b[0m, in \u001b[0;36mSMTP.login\u001b[1;34m(self, user, password, initial_response_ok)\u001b[0m\n\u001b[0;32m    737\u001b[0m method_name \u001b[38;5;241m=\u001b[39m \u001b[38;5;124m'\u001b[39m\u001b[38;5;124mauth_\u001b[39m\u001b[38;5;124m'\u001b[39m \u001b[38;5;241m+\u001b[39m authmethod\u001b[38;5;241m.\u001b[39mlower()\u001b[38;5;241m.\u001b[39mreplace(\u001b[38;5;124m'\u001b[39m\u001b[38;5;124m-\u001b[39m\u001b[38;5;124m'\u001b[39m, \u001b[38;5;124m'\u001b[39m\u001b[38;5;124m_\u001b[39m\u001b[38;5;124m'\u001b[39m)\n\u001b[0;32m    738\u001b[0m \u001b[38;5;28;01mtry\u001b[39;00m:\n\u001b[1;32m--> 739\u001b[0m     (code, resp) \u001b[38;5;241m=\u001b[39m \u001b[38;5;28;43mself\u001b[39;49m\u001b[38;5;241;43m.\u001b[39;49m\u001b[43mauth\u001b[49m\u001b[43m(\u001b[49m\n\u001b[0;32m    740\u001b[0m \u001b[43m        \u001b[49m\u001b[43mauthmethod\u001b[49m\u001b[43m,\u001b[49m\u001b[43m \u001b[49m\u001b[38;5;28;43mgetattr\u001b[39;49m\u001b[43m(\u001b[49m\u001b[38;5;28;43mself\u001b[39;49m\u001b[43m,\u001b[49m\u001b[43m \u001b[49m\u001b[43mmethod_name\u001b[49m\u001b[43m)\u001b[49m\u001b[43m,\u001b[49m\n\u001b[0;32m    741\u001b[0m \u001b[43m        \u001b[49m\u001b[43minitial_response_ok\u001b[49m\u001b[38;5;241;43m=\u001b[39;49m\u001b[43minitial_response_ok\u001b[49m\u001b[43m)\u001b[49m\n\u001b[0;32m    742\u001b[0m     \u001b[38;5;66;03m# 235 == 'Authentication successful'\u001b[39;00m\n\u001b[0;32m    743\u001b[0m     \u001b[38;5;66;03m# 503 == 'Error: already authenticated'\u001b[39;00m\n\u001b[0;32m    744\u001b[0m     \u001b[38;5;28;01mif\u001b[39;00m code \u001b[38;5;129;01min\u001b[39;00m (\u001b[38;5;241m235\u001b[39m, \u001b[38;5;241m503\u001b[39m):\n",
      "File \u001b[1;32m~\\anaconda3\\lib\\smtplib.py:662\u001b[0m, in \u001b[0;36mSMTP.auth\u001b[1;34m(self, mechanism, authobject, initial_response_ok)\u001b[0m\n\u001b[0;32m    660\u001b[0m \u001b[38;5;28;01mif\u001b[39;00m code \u001b[38;5;129;01min\u001b[39;00m (\u001b[38;5;241m235\u001b[39m, \u001b[38;5;241m503\u001b[39m):\n\u001b[0;32m    661\u001b[0m     \u001b[38;5;28;01mreturn\u001b[39;00m (code, resp)\n\u001b[1;32m--> 662\u001b[0m \u001b[38;5;28;01mraise\u001b[39;00m SMTPAuthenticationError(code, resp)\n",
      "\u001b[1;31mSMTPAuthenticationError\u001b[0m: (534, b'5.7.9 Application-specific password required. Learn more at\\n5.7.9  https://support.google.com/mail/?p=InvalidSecondFactor k11-20020a7bc40b000000b0039c5cecf206sm2275193wmi.4 - gsmtp')"
     ]
    }
   ],
   "source": [
    "import smtplib, ssl\n",
    "\n",
    "port = 587  # For starttls\n",
    "smtp_server = \"smtp.gmail.com\"\n",
    "sender_email = \"sgituire@gmail.com\"\n",
    "receiver_email = \"idahbelle@gmail.com\"\n",
    "password = input(\"Type your password and press enter:\")\n",
    "message = \"\"\"\\\n",
    "Subject: Hi there\n",
    "\n",
    "This message is sent from Python.\"\"\"\n",
    "\n",
    "context = ssl.create_default_context()\n",
    "with smtplib.SMTP(smtp_server, port) as server:\n",
    "    server.ehlo()  # Can be omitted\n",
    "    server.starttls(context=context)\n",
    "    server.ehlo()  # Can be omitted\n",
    "    server.login(sender_email, password)\n",
    "    server.sendmail(sender_email, receiver_email, message)"
   ]
  },
  {
   "cell_type": "code",
   "execution_count": 20,
   "id": "aaab66c9",
   "metadata": {},
   "outputs": [
    {
     "name": "stdout",
     "output_type": "stream",
     "text": [
      "File created\n"
     ]
    }
   ],
   "source": [
    "from os import path\n",
    "\n",
    "def createFile(dest):\n",
    "    if not(path.isfile(dest)):\n",
    "        f=open(dest,'w')\n",
    "        f.write(\"Welcome to Python scripting\")\n",
    "        f.close()\n",
    "        \n",
    "dest=(r\"C:\\Users\\sgitu\\simplilearn\\sample.txt\")\n",
    "\n",
    "createFile(dest)\n",
    "\n",
    "print(\"File created\")"
   ]
  },
  {
   "cell_type": "markdown",
   "id": "c959e521",
   "metadata": {},
   "source": [
    "# Nested functions"
   ]
  },
  {
   "cell_type": "code",
   "execution_count": 29,
   "id": "b5956ab4",
   "metadata": {},
   "outputs": [
    {
     "name": "stdout",
     "output_type": "stream",
     "text": [
      "10\n",
      "20\n",
      "30\n",
      "40\n",
      "50\n",
      "Stella\n"
     ]
    }
   ],
   "source": [
    "def func1(* args):\n",
    "    for i in args:\n",
    "        print(i)\n",
    "    \n",
    "    \n",
    "func1(10,20,30,40,50, 'Stella')    "
   ]
  },
  {
   "cell_type": "code",
   "execution_count": 35,
   "id": "c336afee",
   "metadata": {},
   "outputs": [
    {
     "name": "stdout",
     "output_type": "stream",
     "text": [
      "('a', 10)\n",
      "('b', 20)\n",
      "('c', 30)\n"
     ]
    }
   ],
   "source": [
    "def func1(* args, **kwargs):\n",
    "    for i in kwargs.items():\n",
    "            print(i)\n",
    "    \n",
    "    \n",
    "func1(a=10, b=20, c=30)"
   ]
  },
  {
   "cell_type": "code",
   "execution_count": 36,
   "id": "82a8444c",
   "metadata": {},
   "outputs": [
    {
     "name": "stdout",
     "output_type": "stream",
     "text": [
      "11\n"
     ]
    }
   ],
   "source": [
    "def func1():\n",
    "    x=10\n",
    "    def func2(x):\n",
    "        return x+1\n",
    "    return func2(x)\n",
    "\n",
    "result=func1()\n",
    "print(result)\n"
   ]
  },
  {
   "cell_type": "code",
   "execution_count": 41,
   "id": "16dafddc",
   "metadata": {},
   "outputs": [
    {
     "name": "stdout",
     "output_type": "stream",
     "text": [
      "This is the first function\n",
      "This is a nested function\n",
      "This is the outer function\n"
     ]
    }
   ],
   "source": [
    "def func1(called_func):\n",
    "    print(\"This is the first function\")\n",
    "    def nested_func1(called_func):\n",
    "        print(\"This is a nested function\")\n",
    "        called_func()\n",
    "    return nested_func1(called_func)    \n",
    "        \n",
    "def outer_func():\n",
    "    print(\"This is the outer function\")\n",
    "    \n",
    "obj=func1(outer_func)    "
   ]
  },
  {
   "cell_type": "markdown",
   "id": "e629016f",
   "metadata": {},
   "source": [
    "# factory"
   ]
  },
  {
   "cell_type": "code",
   "execution_count": 48,
   "id": "af60694f",
   "metadata": {},
   "outputs": [
    {
     "name": "stdout",
     "output_type": "stream",
     "text": [
      "5\n",
      "10\n"
     ]
    }
   ],
   "source": [
    "B=type(\"BaseClass\", (object,), {})\n",
    "c1=type(\"c1\",(B, ), {'val' :5})\n",
    "c2=type(\"c2\",(B, ), {'val' :10})\n",
    "\n",
    "def classCreator(bool) :\n",
    "    if bool:\n",
    "        return c1()\n",
    "    else:\n",
    "        return c2()\n",
    "    \n",
    "print(classCreator(True).val)\n",
    "print(classCreator(False).val)"
   ]
  },
  {
   "cell_type": "code",
   "execution_count": 52,
   "id": "587e1321",
   "metadata": {},
   "outputs": [
    {
     "name": "stdout",
     "output_type": "stream",
     "text": [
      "This is the first function\n",
      "This is a nested function\n",
      "This is the outer function\n"
     ]
    }
   ],
   "source": [
    "def func1(called_func):\n",
    "    print(\"This is the first function\")\n",
    "    def nested_func1():\n",
    "        print(\"This is a nested function\")\n",
    "        called_func()\n",
    "    return nested_func1  \n",
    "@func1        \n",
    "def outer_func():\n",
    "    print(\"This is the outer function\")\n",
    "    \n",
    "outer_func()"
   ]
  },
  {
   "cell_type": "code",
   "execution_count": null,
   "id": "5c743670",
   "metadata": {},
   "outputs": [],
   "source": []
  }
 ],
 "metadata": {
  "kernelspec": {
   "display_name": "Python 3 (ipykernel)",
   "language": "python",
   "name": "python3"
  },
  "language_info": {
   "codemirror_mode": {
    "name": "ipython",
    "version": 3
   },
   "file_extension": ".py",
   "mimetype": "text/x-python",
   "name": "python",
   "nbconvert_exporter": "python",
   "pygments_lexer": "ipython3",
   "version": "3.9.12"
  }
 },
 "nbformat": 4,
 "nbformat_minor": 5
}
