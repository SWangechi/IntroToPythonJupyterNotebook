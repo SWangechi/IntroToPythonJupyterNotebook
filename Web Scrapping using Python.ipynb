{
 "cells": [
  {
   "cell_type": "code",
   "execution_count": 1,
   "id": "b4ed9e6d",
   "metadata": {},
   "outputs": [],
   "source": [
    "import pandas as pd\n",
    "import numpy as np\n",
    "import matplotlib.pyplot as plt\n",
    "\n",
    "%matplotlib inline\n",
    "\n",
    "from urllib.request import urlopen\n",
    "from bs4 import BeautifulSoup\n",
    "import re"
   ]
  },
  {
   "cell_type": "code",
   "execution_count": 6,
   "id": "43f875dc",
   "metadata": {},
   "outputs": [],
   "source": [
    "url= \"https://www.hubertiming.com/results/2018MLK\"  #open link\n",
    "html= urlopen(url)"
   ]
  },
  {
   "cell_type": "code",
   "execution_count": 7,
   "id": "9edd37f4",
   "metadata": {},
   "outputs": [],
   "source": [
    "soup= BeautifulSoup(html)"
   ]
  },
  {
   "cell_type": "code",
   "execution_count": 9,
   "id": "221b06dd",
   "metadata": {},
   "outputs": [
    {
     "name": "stdout",
     "output_type": "stream",
     "text": [
      "<title>Race results for the 2018 MLK Dream Run!</title>\n",
      "Race results for the 2018 MLK Dream Run!\n"
     ]
    }
   ],
   "source": [
    "title= soup.title\n",
    "print(title)\n",
    "print(title.text)"
   ]
  },
  {
   "cell_type": "code",
   "execution_count": 12,
   "id": "14270876",
   "metadata": {},
   "outputs": [
    {
     "name": "stdout",
     "output_type": "stream",
     "text": [
      "[<a href=\"https://www.mlkdreamrun.com/\" target=\"_blank\">MLK Dream Run</a>, <a href=\"mailto:timing@hubertiming.com\">timing@hubertiming.com</a>, <a href=\"https://www.hubertiming.com\">Huber Timing Home</a>, <a class=\"btn btn-primary btn-lg\" href=\"/results/2018MLK10K\" role=\"button\" style=\"margin: 0px 0px 5px 5px\"><i aria-hidden=\"true\" class=\"fa fa-user\"></i> 10K</a>, <a class=\"btn btn-primary btn-lg\" href=\"/results/2018MLK15K\" role=\"button\" style=\"margin: 0px 0px 5px 5px\"><i aria-hidden=\"true\" class=\"fa fa-user\"></i> 15K</a>, <a class=\"btn btn-primary btn-lg\" href=\"/results/summary/2018MLK\" role=\"button\" style=\"margin: 0px 0px 5px 5px\"><i class=\"fa fa-stream\"></i> Summary</a>, <a id=\"individual\" name=\"individual\"></a>, <a data-url=\"/results/2018MLK\" href=\"#tabs-1\" id=\"rootTab\" style=\"font-size: 18px\">5K Results</a>, <a href=\"https://www.hubertiming.com/\"><img height=\"65\" src=\"https://www.hubertiming.com//sites/all/themes/hubertiming/images/clockWithFinishSign_small.png\" width=\"50\"/>Huber Timing</a>, <a href=\"https://facebook.com/hubertiming/\"><img src=\"https://www.hubertiming.com/results/FB-f-Logo__blue_50.png\"/></a>, <a class=\"small\" id=\"bestFeatureEver\" style=\"color:#007bff\">Dark Mode</a>]\n"
     ]
    }
   ],
   "source": [
    "links= soup.find_all('a')\n",
    "print(links)"
   ]
  },
  {
   "cell_type": "code",
   "execution_count": 13,
   "id": "7b4f3c32",
   "metadata": {},
   "outputs": [
    {
     "name": "stdout",
     "output_type": "stream",
     "text": [
      "https://www.mlkdreamrun.com/\n",
      "mailto:timing@hubertiming.com\n",
      "https://www.hubertiming.com\n",
      "/results/2018MLK10K\n",
      "/results/2018MLK15K\n",
      "/results/summary/2018MLK\n",
      "#tabs-1\n",
      "https://www.hubertiming.com/\n",
      "https://facebook.com/hubertiming/\n"
     ]
    }
   ],
   "source": [
    "links= soup.find_all('a', href=True)\n",
    "for link in links:\n",
    "    print(link['href'])"
   ]
  },
  {
   "cell_type": "code",
   "execution_count": 17,
   "id": "b2b09905",
   "metadata": {},
   "outputs": [
    {
     "name": "stdout",
     "output_type": "stream",
     "text": [
      "[<tr colspan=\"2\">\n",
      "<b>5K:</b>\n",
      "</tr>, <tr>\n",
      "<td>Finishers:</td>\n",
      "<td>191</td>\n",
      "</tr>, <tr>\n",
      "<td>Male:</td>\n",
      "<td>78</td>\n",
      "</tr>, <tr>\n",
      "<td>Female:</td>\n",
      "<td>113</td>\n",
      "</tr>, <tr class=\"header\">\n",
      "<th>Place</th>\n",
      "<th>Bib</th>\n",
      "<th>Name</th>\n",
      "<th>Gender</th>\n",
      "<th>Age</th>\n",
      "<th>City</th>\n",
      "<th>State</th>\n",
      "<th>Chip Pace</th>\n",
      "<th>Chip Time</th>\n",
      "<th>Gender Place</th>\n",
      "<th>Age Group</th>\n",
      "<th>Age Group Place</th>\n",
      "<th>Time to Start</th>\n",
      "<th>Gun Time</th>\n",
      "</tr>, <tr data-bib=\"1191\">\n",
      "<td>1</td>\n",
      "<td>1191</td>\n",
      "<td>\r\n",
      "\r\n",
      "                    MAX RANDOLPH\r\n",
      "\r\n",
      "                </td>\n",
      "<td>M</td>\n",
      "<td>29</td>\n",
      "<td>WASHINGTON</td>\n",
      "<td>DC</td>\n",
      "<td>5:25</td>\n",
      "<td>16:48</td>\n",
      "<td>\r\n",
      "\r\n",
      "                    1 of 78\r\n",
      "\r\n",
      "                </td>\n",
      "<td>M 21-39</td>\n",
      "<td>\r\n",
      "\r\n",
      "                    1 of 33\r\n",
      "\r\n",
      "                </td>\n",
      "<td>0:08</td>\n",
      "<td>16:56</td>\n",
      "</tr>, <tr data-bib=\"1080\">\n",
      "<td>2</td>\n",
      "<td>1080</td>\n",
      "<td>\r\n",
      "\r\n",
      "                    NEED NAME KAISER RUNNER\r\n",
      "\r\n",
      "                </td>\n",
      "<td>M</td>\n",
      "<td>25</td>\n",
      "<td>PORTLAND</td>\n",
      "<td>OR</td>\n",
      "<td>5:39</td>\n",
      "<td>17:31</td>\n",
      "<td>\r\n",
      "\r\n",
      "                    2 of 78\r\n",
      "\r\n",
      "                </td>\n",
      "<td>M 21-39</td>\n",
      "<td>\r\n",
      "\r\n",
      "                    2 of 33\r\n",
      "\r\n",
      "                </td>\n",
      "<td>0:09</td>\n",
      "<td>17:40</td>\n",
      "</tr>, <tr data-bib=\"1275\">\n",
      "<td>3</td>\n",
      "<td>1275</td>\n",
      "<td>\r\n",
      "\r\n",
      "                    DAN FRANEK\r\n",
      "\r\n",
      "                </td>\n",
      "<td>M</td>\n",
      "<td>52</td>\n",
      "<td>PORTLAND</td>\n",
      "<td>OR</td>\n",
      "<td>5:53</td>\n",
      "<td>18:15</td>\n",
      "<td>\r\n",
      "\r\n",
      "                    3 of 78\r\n",
      "\r\n",
      "                </td>\n",
      "<td>M 40-54</td>\n",
      "<td>\r\n",
      "\r\n",
      "                    1 of 27\r\n",
      "\r\n",
      "                </td>\n",
      "<td>0:07</td>\n",
      "<td>18:22</td>\n",
      "</tr>, <tr data-bib=\"1223\">\n",
      "<td>4</td>\n",
      "<td>1223</td>\n",
      "<td>\r\n",
      "\r\n",
      "                    PAUL TAYLOR\r\n",
      "\r\n",
      "                </td>\n",
      "<td>M</td>\n",
      "<td>54</td>\n",
      "<td>PORTLAND</td>\n",
      "<td>OR</td>\n",
      "<td>5:58</td>\n",
      "<td>18:31</td>\n",
      "<td>\r\n",
      "\r\n",
      "                    4 of 78\r\n",
      "\r\n",
      "                </td>\n",
      "<td>M 40-54</td>\n",
      "<td>\r\n",
      "\r\n",
      "                    2 of 27\r\n",
      "\r\n",
      "                </td>\n",
      "<td>0:07</td>\n",
      "<td>18:38</td>\n",
      "</tr>, <tr data-bib=\"1245\">\n",
      "<td>5</td>\n",
      "<td>1245</td>\n",
      "<td>\r\n",
      "\r\n",
      "                    THEO KINMAN\r\n",
      "\r\n",
      "                </td>\n",
      "<td>M</td>\n",
      "<td>22</td>\n",
      "<td></td>\n",
      "<td></td>\n",
      "<td>6:17</td>\n",
      "<td>19:31</td>\n",
      "<td>\r\n",
      "\r\n",
      "                    5 of 78\r\n",
      "\r\n",
      "                </td>\n",
      "<td>M 21-39</td>\n",
      "<td>\r\n",
      "\r\n",
      "                    3 of 33\r\n",
      "\r\n",
      "                </td>\n",
      "<td>0:09</td>\n",
      "<td>19:40</td>\n",
      "</tr>]\n"
     ]
    }
   ],
   "source": [
    "allrows= soup.find_all(\"tr\")\n",
    "print(allrows[:10])"
   ]
  },
  {
   "cell_type": "code",
   "execution_count": 19,
   "id": "0e1bfe4b",
   "metadata": {},
   "outputs": [
    {
     "name": "stdout",
     "output_type": "stream",
     "text": [
      "[<td>191</td>, <td>1216</td>, <td>\r\n",
      "\r\n",
      "                    ZULMA OCHOA\r\n",
      "\r\n",
      "                </td>, <td>F</td>, <td>40</td>, <td>GRESHAM</td>, <td>OR</td>, <td>33:22</td>, <td>1:43:27</td>, <td>\r\n",
      "\r\n",
      "                    113 of 113\r\n",
      "\r\n",
      "                </td>, <td>F 40-54</td>, <td>\r\n",
      "\r\n",
      "                    37 of 37\r\n",
      "\r\n",
      "                </td>, <td>0:00</td>, <td>1:43:27</td>]\n"
     ]
    }
   ],
   "source": [
    "allrows= soup.find_all(\"tr\")\n",
    "for row in allrows:\n",
    "    row_list= row.find_all(\"td\")\n",
    "print(row_list)    "
   ]
  },
  {
   "cell_type": "code",
   "execution_count": 20,
   "id": "e94e3202",
   "metadata": {},
   "outputs": [
    {
     "name": "stdout",
     "output_type": "stream",
     "text": [
      "[<td>191</td>, <td>1216</td>, <td>\r\n",
      "\r\n",
      "                    ZULMA OCHOA\r\n",
      "\r\n",
      "                </td>, <td>F</td>, <td>40</td>, <td>GRESHAM</td>, <td>OR</td>, <td>33:22</td>, <td>1:43:27</td>, <td>\r\n",
      "\r\n",
      "                    113 of 113\r\n",
      "\r\n",
      "                </td>, <td>F 40-54</td>, <td>\r\n",
      "\r\n",
      "                    37 of 37\r\n",
      "\r\n",
      "                </td>, <td>0:00</td>, <td>1:43:27</td>]\n",
      "191\n",
      "1216\n",
      "\r\n",
      "\r\n",
      "                    ZULMA OCHOA\r\n",
      "\r\n",
      "                \n",
      "F\n",
      "40\n",
      "GRESHAM\n",
      "OR\n",
      "33:22\n",
      "1:43:27\n",
      "\r\n",
      "\r\n",
      "                    113 of 113\r\n",
      "\r\n",
      "                \n",
      "F 40-54\n",
      "\r\n",
      "\r\n",
      "                    37 of 37\r\n",
      "\r\n",
      "                \n",
      "0:00\n",
      "1:43:27\n"
     ]
    }
   ],
   "source": [
    "allrows= soup.find_all(\"tr\")\n",
    "for row in allrows:\n",
    "    row_list= row.find_all(\"td\")\n",
    "print(row_list) \n",
    "\n",
    "for cell in row_list:\n",
    "    print(cell.text)"
   ]
  },
  {
   "cell_type": "code",
   "execution_count": 21,
   "id": "d915063e",
   "metadata": {},
   "outputs": [
    {
     "name": "stdout",
     "output_type": "stream",
     "text": [
      "[[], ['Finishers:', '191'], ['Male:', '78'], ['Female:', '113'], [], ['1', '1191', '\\r\\n\\r\\n                    MAX RANDOLPH\\r\\n\\r\\n                ', 'M', '29', 'WASHINGTON', 'DC', '5:25', '16:48', '\\r\\n\\r\\n                    1 of 78\\r\\n\\r\\n                ', 'M 21-39', '\\r\\n\\r\\n                    1 of 33\\r\\n\\r\\n                ', '0:08', '16:56'], ['2', '1080', '\\r\\n\\r\\n                    NEED NAME KAISER RUNNER\\r\\n\\r\\n                ', 'M', '25', 'PORTLAND', 'OR', '5:39', '17:31', '\\r\\n\\r\\n                    2 of 78\\r\\n\\r\\n                ', 'M 21-39', '\\r\\n\\r\\n                    2 of 33\\r\\n\\r\\n                ', '0:09', '17:40'], ['3', '1275', '\\r\\n\\r\\n                    DAN FRANEK\\r\\n\\r\\n                ', 'M', '52', 'PORTLAND', 'OR', '5:53', '18:15', '\\r\\n\\r\\n                    3 of 78\\r\\n\\r\\n                ', 'M 40-54', '\\r\\n\\r\\n                    1 of 27\\r\\n\\r\\n                ', '0:07', '18:22'], ['4', '1223', '\\r\\n\\r\\n                    PAUL TAYLOR\\r\\n\\r\\n                ', 'M', '54', 'PORTLAND', 'OR', '5:58', '18:31', '\\r\\n\\r\\n                    4 of 78\\r\\n\\r\\n                ', 'M 40-54', '\\r\\n\\r\\n                    2 of 27\\r\\n\\r\\n                ', '0:07', '18:38'], ['5', '1245', '\\r\\n\\r\\n                    THEO KINMAN\\r\\n\\r\\n                ', 'M', '22', '', '', '6:17', '19:31', '\\r\\n\\r\\n                    5 of 78\\r\\n\\r\\n                ', 'M 21-39', '\\r\\n\\r\\n                    3 of 33\\r\\n\\r\\n                ', '0:09', '19:40'], ['6', '1185', '\\r\\n\\r\\n                    MELISSA GIRGIS\\r\\n\\r\\n                ', 'F', '27', 'PORTLAND', 'OR', '6:20', '19:39', '\\r\\n\\r\\n                    1 of 113\\r\\n\\r\\n                ', 'F 21-39', '\\r\\n\\r\\n                    1 of 53\\r\\n\\r\\n                ', '0:07', '19:46'], ['7', '1251', '\\r\\n\\r\\n                    CHARLIE COGGESHALL\\r\\n\\r\\n                ', 'M', '39', 'PORTLAND', 'OR', '6:24', '19:51', '\\r\\n\\r\\n                    6 of 78\\r\\n\\r\\n                ', 'M 21-39', '\\r\\n\\r\\n                    4 of 33\\r\\n\\r\\n                ', '0:10', '20:01'], ['8', '1154', '\\r\\n\\r\\n                    UNKNOWN RUNNER SEE TIMER\\r\\n\\r\\n                ', 'M', '', '', '', '8:03', '24:58', '\\r\\n\\r\\n                    7 of 78\\r\\n\\r\\n                ', '', '\\r\\n\\r\\n                    1 of 9\\r\\n\\r\\n                ', '2:00', '26:58'], ['9', '1163', '\\r\\n\\r\\n                    UNKNOWN RUNNER SEE TIMER\\r\\n\\r\\n                ', 'M', '', '', '', '8:04', '25:01', '\\r\\n\\r\\n                    8 of 78\\r\\n\\r\\n                ', '', '\\r\\n\\r\\n                    2 of 9\\r\\n\\r\\n                ', '1:59', '27:00'], ['10', '1242', '\\r\\n\\r\\n                    KIMONTI WILSON\\r\\n\\r\\n                ', 'F', '48', '', '', '8:04', '25:01', '\\r\\n\\r\\n                    2 of 113\\r\\n\\r\\n                ', 'F 40-54', '\\r\\n\\r\\n                    1 of 37\\r\\n\\r\\n                ', '1:59', '27:00'], ['11', '1017', '\\r\\n\\r\\n                    COREY MCMANUS\\r\\n\\r\\n                ', 'M', '37', 'BEAVERTON', 'OR', '8:09', '25:17', '\\r\\n\\r\\n                    9 of 78\\r\\n\\r\\n                ', 'M 21-39', '\\r\\n\\r\\n                    5 of 33\\r\\n\\r\\n                ', '0:22', '25:39'], ['12', '1112', '\\r\\n\\r\\n                    MITCHELL JOHNSON\\r\\n\\r\\n                ', 'M', '25', 'PORTLAND', 'OR', '8:13', '25:31', '\\r\\n\\r\\n                    10 of 78\\r\\n\\r\\n                ', 'M 21-39', '\\r\\n\\r\\n                    6 of 33\\r\\n\\r\\n                ', '0:15', '25:46'], ['13', '1062', '\\r\\n\\r\\n                    ALEX KABA\\r\\n\\r\\n                ', 'M', '36', 'PORTLAND', 'OR', '8:14', '25:31', '\\r\\n\\r\\n                    11 of 78\\r\\n\\r\\n                ', 'M 21-39', '\\r\\n\\r\\n                    7 of 33\\r\\n\\r\\n                ', '0:14', '25:45'], ['14', '1227', '\\r\\n\\r\\n                    ROBYN MCGILLIS\\r\\n\\r\\n                ', 'F', '44', 'PORTLAND', 'OR', '8:18', '25:44', '\\r\\n\\r\\n                    3 of 113\\r\\n\\r\\n                ', 'F 40-54', '\\r\\n\\r\\n                    2 of 37\\r\\n\\r\\n                ', '0:08', '25:52'], ['15', '1067', '\\r\\n\\r\\n                    MITCHELL WARDEN\\r\\n\\r\\n                ', 'M', '29', 'PORTLAND', 'OR', '8:19', '25:46', '\\r\\n\\r\\n                    12 of 78\\r\\n\\r\\n                ', 'M 21-39', '\\r\\n\\r\\n                    8 of 33\\r\\n\\r\\n                ', '0:14', '26:00'], ['16', '1136', '\\r\\n\\r\\n                    JULIA METZ\\r\\n\\r\\n                ', 'F', '32', 'PORTLAND', 'OR', '8:33', '26:31', '\\r\\n\\r\\n                    4 of 113\\r\\n\\r\\n                ', 'F 21-39', '\\r\\n\\r\\n                    2 of 53\\r\\n\\r\\n                ', '0:33', '27:04'], ['17', '1199', '\\r\\n\\r\\n                    JEREMY AREZZINI\\r\\n\\r\\n                ', 'M', '38', 'LAKE OSWEGO', 'OR', '8:37', '26:44', '\\r\\n\\r\\n                    13 of 78\\r\\n\\r\\n                ', 'M 21-39', '\\r\\n\\r\\n                    9 of 33\\r\\n\\r\\n                ', '0:41', '27:25'], ['18', '1252', '\\r\\n\\r\\n                    ETHAN POWELL\\r\\n\\r\\n                ', 'M', '', '', '', '8:40', '26:52', '\\r\\n\\r\\n                    14 of 78\\r\\n\\r\\n                ', '', '\\r\\n\\r\\n                    3 of 9\\r\\n\\r\\n                ', '0:11', '27:03'], ['19', '1231', '\\r\\n\\r\\n                    TIMOTHY KEARNEY\\r\\n\\r\\n                ', 'M', '42', 'PORTLAND', 'OR', '8:42', '26:58', '\\r\\n\\r\\n                    15 of 78\\r\\n\\r\\n                ', 'M 40-54', '\\r\\n\\r\\n                    3 of 27\\r\\n\\r\\n                ', '0:11', '27:09'], ['20', '1108', '\\r\\n\\r\\n                    TIMOTHY RINGERING\\r\\n\\r\\n                ', 'M', '50', 'VANCOUVER', 'WA', '8:43', '27:02', '\\r\\n\\r\\n                    16 of 78\\r\\n\\r\\n                ', 'M 40-54', '\\r\\n\\r\\n                    4 of 27\\r\\n\\r\\n                ', '0:10', '27:12'], ['21', '1118', '\\r\\n\\r\\n                    PONTUS JADERHOLM\\r\\n\\r\\n                ', 'M', '43', 'PORTLAND', 'OR', '8:45', '27:08', '\\r\\n\\r\\n                    17 of 78\\r\\n\\r\\n                ', 'M 40-54', '\\r\\n\\r\\n                    5 of 27\\r\\n\\r\\n                ', '0:13', '27:21'], ['22', '1246', '\\r\\n\\r\\n                    KERRY FLAGG\\r\\n\\r\\n                ', 'M', '', '', '', '8:45', '27:10', '\\r\\n\\r\\n                    18 of 78\\r\\n\\r\\n                ', '', '\\r\\n\\r\\n                    4 of 9\\r\\n\\r\\n                ', '0:10', '27:20'], ['23', '1244', '\\r\\n\\r\\n                    JARRED FLAGG\\r\\n\\r\\n                ', 'M', '', '', '', '8:46', '27:11', '\\r\\n\\r\\n                    19 of 78\\r\\n\\r\\n                ', '', '\\r\\n\\r\\n                    5 of 9\\r\\n\\r\\n                ', '0:10', '27:21'], ['24', '1224', '\\r\\n\\r\\n                    KEN SKEEN\\r\\n\\r\\n                ', 'M', '57', 'PORTLAND', 'OR', '8:46', '27:12', '\\r\\n\\r\\n                    20 of 78\\r\\n\\r\\n                ', 'M 55+', '\\r\\n\\r\\n                    1 of 5\\r\\n\\r\\n                ', '0:18', '27:30'], ['25', '1065', '\\r\\n\\r\\n                    SARA KOPTON\\r\\n\\r\\n                ', 'F', '40', 'PORTLAND', 'OR', '8:51', '27:27', '\\r\\n\\r\\n                    5 of 113\\r\\n\\r\\n                ', 'F 40-54', '\\r\\n\\r\\n                    3 of 37\\r\\n\\r\\n                ', '0:20', '27:47'], ['26', '1274', '\\r\\n\\r\\n                    KAISER GUEST\\r\\n\\r\\n                ', 'F', '40', 'PORTLAND', 'OR', '8:54', '27:37', '\\r\\n\\r\\n                    6 of 113\\r\\n\\r\\n                ', 'F 40-54', '\\r\\n\\r\\n                    4 of 37\\r\\n\\r\\n                ', '0:09', '27:46'], ['27', '1208', '\\r\\n\\r\\n                    JUSTIN PERZ\\r\\n\\r\\n                ', 'M', '33', 'PORTLAND', 'OR', '8:55', '27:39', '\\r\\n\\r\\n                    21 of 78\\r\\n\\r\\n                ', 'M 21-39', '\\r\\n\\r\\n                    10 of 33\\r\\n\\r\\n                ', '0:38', '28:17'], ['28', '1072', '\\r\\n\\r\\n                    ESTELA SÁNCHEZ\\r\\n\\r\\n                ', 'F', '41', 'PORTLAND', 'OR', '8:57', '27:45', '\\r\\n\\r\\n                    7 of 113\\r\\n\\r\\n                ', 'F 40-54', '\\r\\n\\r\\n                    5 of 37\\r\\n\\r\\n                ', '0:08', '27:53'], ['29', '1018', '\\r\\n\\r\\n                    JASON WILLIAMS\\r\\n\\r\\n                ', 'M', '41', 'PORTLAND', 'OR', '8:58', '27:50', '\\r\\n\\r\\n                    22 of 78\\r\\n\\r\\n                ', 'M 40-54', '\\r\\n\\r\\n                    6 of 27\\r\\n\\r\\n                ', '0:23', '28:13'], ['30', '1297', '\\r\\n\\r\\n                    ADRIANA BRITTON\\r\\n\\r\\n                ', 'F', '53', 'PORTLAND', 'OR', '9:00', '27:54', '\\r\\n\\r\\n                    8 of 113\\r\\n\\r\\n                ', 'F 40-54', '\\r\\n\\r\\n                    6 of 37\\r\\n\\r\\n                ', '0:12', '28:06'], ['31', '1117', '\\r\\n\\r\\n                    MARK WOOD\\r\\n\\r\\n                ', 'M', '43', 'PORTLAND', 'OR', '9:03', '28:05', '\\r\\n\\r\\n                    23 of 78\\r\\n\\r\\n                ', 'M 40-54', '\\r\\n\\r\\n                    7 of 27\\r\\n\\r\\n                ', '0:30', '28:35'], ['32', '1201', '\\r\\n\\r\\n                    STEVE CRANDELL\\r\\n\\r\\n                ', 'M', '61', 'PORTLAND', 'OR', '9:03', '28:06', '\\r\\n\\r\\n                    24 of 78\\r\\n\\r\\n                ', 'M 55+', '\\r\\n\\r\\n                    2 of 5\\r\\n\\r\\n                ', '0:09', '28:15'], ['33', '1110', '\\r\\n\\r\\n                    DARRELL KRIECHBAUM\\r\\n\\r\\n                ', 'M', '53', 'PORTLAND', 'OR', '9:05', '28:11', '\\r\\n\\r\\n                    25 of 78\\r\\n\\r\\n                ', 'M 40-54', '\\r\\n\\r\\n                    8 of 27\\r\\n\\r\\n                ', '0:12', '28:23'], ['34', '1104', '\\r\\n\\r\\n                    JANICE JACOBS\\r\\n\\r\\n                ', 'F', '55', 'SALEM', 'OR', '9:05', '28:11', '\\r\\n\\r\\n                    9 of 113\\r\\n\\r\\n                ', 'F 55+', '\\r\\n\\r\\n                    1 of 14\\r\\n\\r\\n                ', '0:15', '28:26'], ['35', '1300', '\\r\\n\\r\\n                    CORY ANDERSON\\r\\n\\r\\n                ', 'M', '30', 'PORTLAND', 'OR', '9:06', '28:14', '\\r\\n\\r\\n                    26 of 78\\r\\n\\r\\n                ', 'M 21-39', '\\r\\n\\r\\n                    11 of 33\\r\\n\\r\\n                ', '0:19', '28:33'], ['36', '1238', '\\r\\n\\r\\n                    PAUL SUMMERS\\r\\n\\r\\n                ', 'M', '24', 'PORTLAND', 'OR', '9:08', '28:21', '\\r\\n\\r\\n                    27 of 78\\r\\n\\r\\n                ', 'M 21-39', '\\r\\n\\r\\n                    12 of 33\\r\\n\\r\\n                ', '0:15', '28:36'], ['37', '1298', '\\r\\n\\r\\n                    ALEX NGUYEN\\r\\n\\r\\n                ', 'M', '26', '', '', '9:09', '28:22', '\\r\\n\\r\\n                    28 of 78\\r\\n\\r\\n                ', 'M 21-39', '\\r\\n\\r\\n                    13 of 33\\r\\n\\r\\n                ', '0:19', '28:41'], ['38', '1157', '\\r\\n\\r\\n                    JEREMY SWEET\\r\\n\\r\\n                ', 'M', '27', 'PORTLAND', 'OR', '9:12', '28:32', '\\r\\n\\r\\n                    29 of 78\\r\\n\\r\\n                ', 'M 21-39', '\\r\\n\\r\\n                    14 of 33\\r\\n\\r\\n                ', '0:20', '28:52'], ['39', '1106', '\\r\\n\\r\\n                    DANIEL JOHNSTON\\r\\n\\r\\n                ', 'M', '43', 'PORTLAND', 'OR', '9:12', '28:32', '\\r\\n\\r\\n                    30 of 78\\r\\n\\r\\n                ', 'M 40-54', '\\r\\n\\r\\n                    9 of 27\\r\\n\\r\\n                ', '0:12', '28:44'], ['40', '1196', '\\r\\n\\r\\n                    LIZANN DUNEGAN\\r\\n\\r\\n                ', 'F', '53', 'PORTLAND', 'OR', '9:13', '28:34', '\\r\\n\\r\\n                    10 of 113\\r\\n\\r\\n                ', 'F 40-54', '\\r\\n\\r\\n                    7 of 37\\r\\n\\r\\n                ', '0:14', '28:48'], ['41', '1239', '\\r\\n\\r\\n                    ALYX WYNN\\r\\n\\r\\n                ', 'F', '28', 'PORTLAND', 'OR', '9:14', '28:37', '\\r\\n\\r\\n                    11 of 113\\r\\n\\r\\n                ', 'F 21-39', '\\r\\n\\r\\n                    3 of 53\\r\\n\\r\\n                ', '0:21', '28:58'], ['42', '1087', '\\r\\n\\r\\n                    YALOUNDA HUNT\\r\\n\\r\\n                ', 'F', '60', 'PORTLAND', 'OR', '9:14', '28:40', '\\r\\n\\r\\n                    12 of 113\\r\\n\\r\\n                ', 'F 55+', '\\r\\n\\r\\n                    2 of 14\\r\\n\\r\\n                ', '0:09', '28:49'], ['43', '1068', '\\r\\n\\r\\n                    SERGIO RIVERA\\r\\n\\r\\n                ', 'M', '32', 'PORTLAND', 'OR', '9:15', '28:41', '\\r\\n\\r\\n                    31 of 78\\r\\n\\r\\n                ', 'M 21-39', '\\r\\n\\r\\n                    15 of 33\\r\\n\\r\\n                ', '0:21', '29:02'], ['44', '1071', '\\r\\n\\r\\n                    PEDRO FLORES\\r\\n\\r\\n                ', 'M', '42', 'PORTLAND', 'OR', '9:15', '28:42', '\\r\\n\\r\\n                    32 of 78\\r\\n\\r\\n                ', 'M 40-54', '\\r\\n\\r\\n                    10 of 27\\r\\n\\r\\n                ', '0:08', '28:50'], ['45', '1159', '\\r\\n\\r\\n                    JEFF DOWNEY\\r\\n\\r\\n                ', 'M', '36', 'PORTLAND', 'OR', '9:15', '28:42', '\\r\\n\\r\\n                    33 of 78\\r\\n\\r\\n                ', 'M 21-39', '\\r\\n\\r\\n                    16 of 33\\r\\n\\r\\n                ', '0:19', '29:01'], ['46', '1241', '\\r\\n\\r\\n                    NICK SCHUDER\\r\\n\\r\\n                ', 'M', '44', 'PORTLAND', 'OR', '9:16', '28:45', '\\r\\n\\r\\n                    34 of 78\\r\\n\\r\\n                ', 'M 40-54', '\\r\\n\\r\\n                    11 of 27\\r\\n\\r\\n                ', '0:18', '29:03'], ['47', '1023', '\\r\\n\\r\\n                    JOHN GARDNER\\r\\n\\r\\n                ', 'M', '44', 'PORTLAND', 'OR', '9:18', '28:51', '\\r\\n\\r\\n                    35 of 78\\r\\n\\r\\n                ', 'M 40-54', '\\r\\n\\r\\n                    12 of 27\\r\\n\\r\\n                ', '0:25', '29:16'], ['48', '1253', '\\r\\n\\r\\n                    JAZMIN BEMBRY\\r\\n\\r\\n                ', 'F', '23', 'PORTLAND', 'OR', '9:20', '28:56', '\\r\\n\\r\\n                    13 of 113\\r\\n\\r\\n                ', 'F 21-39', '\\r\\n\\r\\n                    4 of 53\\r\\n\\r\\n                ', '0:15', '29:11'], ['49', '1247', '\\r\\n\\r\\n                    THEO KINWAN\\r\\n\\r\\n                ', 'F', '', '', '', '9:24', '29:09', '\\r\\n\\r\\n                    14 of 113\\r\\n\\r\\n                ', '', '\\r\\n\\r\\n                    6 of 9\\r\\n\\r\\n                ', '0:10', '29:19'], ['50', '1019', '\\r\\n\\r\\n                    ERIKA TURNEY\\r\\n\\r\\n                ', 'F', '46', 'BATTLE GROUNDB', 'WA', '9:24', '29:10', '\\r\\n\\r\\n                    15 of 113\\r\\n\\r\\n                ', 'F 40-54', '\\r\\n\\r\\n                    8 of 37\\r\\n\\r\\n                ', '0:24', '29:34'], ['51', '1066', '\\r\\n\\r\\n                    MICHELLE FRAZIER\\r\\n\\r\\n                ', 'F', '27', 'PORTLAND', 'OR', '9:25', '29:12', '\\r\\n\\r\\n                    16 of 113\\r\\n\\r\\n                ', 'F 21-39', '\\r\\n\\r\\n                    5 of 53\\r\\n\\r\\n                ', '0:13', '29:25'], ['52', '1151', '\\r\\n\\r\\n                    CHRISTINA LECHER\\r\\n\\r\\n                ', 'F', '31', 'MILWAUKEE', 'WI', '9:28', '29:21', '\\r\\n\\r\\n                    17 of 113\\r\\n\\r\\n                ', 'F 21-39', '\\r\\n\\r\\n                    6 of 53\\r\\n\\r\\n                ', '0:18', '29:39'], ['53', '1152', '\\r\\n\\r\\n                    BERNARD RAHMING\\r\\n\\r\\n                ', 'M', '31', 'PORTLAND', 'OR', '9:28', '29:21', '\\r\\n\\r\\n                    36 of 78\\r\\n\\r\\n                ', 'M 21-39', '\\r\\n\\r\\n                    17 of 33\\r\\n\\r\\n                ', '0:18', '29:39'], ['54', '1095', '\\r\\n\\r\\n                    TROY PICKARD\\r\\n\\r\\n                ', 'M', '36', 'PORTLAND', 'OR', '9:28', '29:22', '\\r\\n\\r\\n                    37 of 78\\r\\n\\r\\n                ', 'M 21-39', '\\r\\n\\r\\n                    18 of 33\\r\\n\\r\\n                ', '0:44', '30:06'], ['55', '1028', '\\r\\n\\r\\n                    JONATHAN TILLMAN\\r\\n\\r\\n                ', 'M', '49', 'PORTLAND', 'OR', '9:28', '29:23', '\\r\\n\\r\\n                    38 of 78\\r\\n\\r\\n                ', 'M 40-54', '\\r\\n\\r\\n                    13 of 27\\r\\n\\r\\n                ', '0:24', '29:47'], ['56', '1174', '\\r\\n\\r\\n                    CYNJAYSHA BOLES\\r\\n\\r\\n                ', 'F', '26', 'PORTLAND', 'OR', '9:36', '29:46', '\\r\\n\\r\\n                    18 of 113\\r\\n\\r\\n                ', 'F 21-39', '\\r\\n\\r\\n                    7 of 53\\r\\n\\r\\n                ', '0:09', '29:55'], ['57', '1013', '\\r\\n\\r\\n                    TERESA MCGRATH\\r\\n\\r\\n                ', 'F', '65', 'PORTLAND', 'OR', '9:37', '29:51', '\\r\\n\\r\\n                    19 of 113\\r\\n\\r\\n                ', 'F 55+', '\\r\\n\\r\\n                    3 of 14\\r\\n\\r\\n                ', '0:10', '30:01'], ['58', '1237', '\\r\\n\\r\\n                    ERYN HOERSTER\\r\\n\\r\\n                ', 'F', '37', 'PORTLAND', 'OR', '9:53', '30:41', '\\r\\n\\r\\n                    20 of 113\\r\\n\\r\\n                ', 'F 21-39', '\\r\\n\\r\\n                    8 of 53\\r\\n\\r\\n                ', '0:40', '31:21'], ['59', '1230', '\\r\\n\\r\\n                    EDUARDO ARIZAGA\\r\\n\\r\\n                ', 'M', '38', 'PORTLAND', 'OR', '9:58', '30:55', '\\r\\n\\r\\n                    39 of 78\\r\\n\\r\\n                ', 'M 21-39', '\\r\\n\\r\\n                    19 of 33\\r\\n\\r\\n                ', '0:47', '31:42'], ['60', '1236', '\\r\\n\\r\\n                    BEN HOERSTER\\r\\n\\r\\n                ', 'M', '37', 'PORTLAND', 'OR', '10:09', '31:29', '\\r\\n\\r\\n                    40 of 78\\r\\n\\r\\n                ', 'M 21-39', '\\r\\n\\r\\n                    20 of 33\\r\\n\\r\\n                ', '0:43', '32:12'], ['61', '1125', '\\r\\n\\r\\n                    ABIGAIL VAN GELDER\\r\\n\\r\\n                ', 'F', '36', 'PORTLAND', 'OR', '10:12', '31:37', '\\r\\n\\r\\n                    21 of 113\\r\\n\\r\\n                ', 'F 21-39', '\\r\\n\\r\\n                    9 of 53\\r\\n\\r\\n                ', '0:16', '31:53'], ['62', '1053', '\\r\\n\\r\\n                    DAMIANA KING\\r\\n\\r\\n                ', 'F', '38', 'PORTLAND', 'OR', '10:20', '32:02', '\\r\\n\\r\\n                    22 of 113\\r\\n\\r\\n                ', 'F 21-39', '\\r\\n\\r\\n                    10 of 53\\r\\n\\r\\n                ', '0:12', '32:14'], ['63', '1010', '\\r\\n\\r\\n                    HEATHER CERMAK\\r\\n\\r\\n                ', 'F', '29', 'PORTLAND', 'OR', '10:23', '32:11', '\\r\\n\\r\\n                    23 of 113\\r\\n\\r\\n                ', 'F 21-39', '\\r\\n\\r\\n                    11 of 53\\r\\n\\r\\n                ', '0:41', '32:52'], ['64', '1011', '\\r\\n\\r\\n                    COLE CHRIST\\r\\n\\r\\n                ', 'M', '19', 'PORTLAND', 'OR', '10:23', '32:11', '\\r\\n\\r\\n                    41 of 78\\r\\n\\r\\n                ', 'M 20 and Under', '\\r\\n\\r\\n                    1 of 7\\r\\n\\r\\n                ', '0:42', '32:53'], ['65', '1179', '\\r\\n\\r\\n                    MIRIAN HINOJOSA\\r\\n\\r\\n                ', 'F', '40', 'MILWAUKIE', 'OR', '10:34', '32:48', '\\r\\n\\r\\n                    24 of 113\\r\\n\\r\\n                ', 'F 40-54', '\\r\\n\\r\\n                    9 of 37\\r\\n\\r\\n                ', '0:14', '33:02'], ['66', '1183', '\\r\\n\\r\\n                    CAMERON SEIDLING\\r\\n\\r\\n                ', 'M', '28', 'PORTLAND', 'OR', '10:44', '33:16', '\\r\\n\\r\\n                    42 of 78\\r\\n\\r\\n                ', 'M 21-39', '\\r\\n\\r\\n                    21 of 33\\r\\n\\r\\n                ', '0:37', '33:53'], ['67', '1137', '\\r\\n\\r\\n                    LARRY JENKINS\\r\\n\\r\\n                ', 'M', '31', 'PORTLAND', 'OR', '10:44', '33:16', '\\r\\n\\r\\n                    43 of 78\\r\\n\\r\\n                ', 'M 21-39', '\\r\\n\\r\\n                    22 of 33\\r\\n\\r\\n                ', '0:34', '33:50'], ['68', '1173', '\\r\\n\\r\\n                    ALYS MEYER\\r\\n\\r\\n                ', 'F', '12', 'PORTLAND', 'OR', '10:49', '33:33', '\\r\\n\\r\\n                    25 of 113\\r\\n\\r\\n                ', 'F 20 and Under', '\\r\\n\\r\\n                    1 of 6\\r\\n\\r\\n                ', '0:27', '34:00'], ['69', '1103', '\\r\\n\\r\\n                    SARAH MEYER\\r\\n\\r\\n                ', 'F', '34', 'PORTLAND', 'OR', '10:50', '33:36', '\\r\\n\\r\\n                    26 of 113\\r\\n\\r\\n                ', 'F 21-39', '\\r\\n\\r\\n                    12 of 53\\r\\n\\r\\n                ', '0:26', '34:02'], ['70', '1100', '\\r\\n\\r\\n                    ELIZABETH TAYLOR\\r\\n\\r\\n                ', 'F', '39', 'PORTLAND', 'OR', '10:51', '33:40', '\\r\\n\\r\\n                    27 of 113\\r\\n\\r\\n                ', 'F 21-39', '\\r\\n\\r\\n                    13 of 53\\r\\n\\r\\n                ', '0:37', '34:17'], ['71', '1190', '\\r\\n\\r\\n                    RICARDO BARRERA\\r\\n\\r\\n                ', 'M', '45', 'PORTLAND', 'OR', '10:58', '34:00', '\\r\\n\\r\\n                    44 of 78\\r\\n\\r\\n                ', 'M 40-54', '\\r\\n\\r\\n                    14 of 27\\r\\n\\r\\n                ', '0:29', '34:29'], ['72', '1127', '\\r\\n\\r\\n                    MOIRA SHERRY\\r\\n\\r\\n                ', 'F', '24', 'PORTLAND', 'OR', '11:02', '34:14', '\\r\\n\\r\\n                    28 of 113\\r\\n\\r\\n                ', 'F 21-39', '\\r\\n\\r\\n                    14 of 53\\r\\n\\r\\n                ', '0:19', '34:33'], ['73', '1299', '\\r\\n\\r\\n                    BRYNDON COUGHLIN\\r\\n\\r\\n                ', 'M', '27', 'PORTLAND', 'OR', '11:03', '34:16', '\\r\\n\\r\\n                    45 of 78\\r\\n\\r\\n                ', 'M 21-39', '\\r\\n\\r\\n                    23 of 33\\r\\n\\r\\n                ', '0:44', '35:00'], ['74', '1261', '\\r\\n\\r\\n                    CHADI BOTRNS\\r\\n\\r\\n                ', 'M', '', '', '', '11:04', '34:19', '\\r\\n\\r\\n                    46 of 78\\r\\n\\r\\n                ', '', '\\r\\n\\r\\n                    7 of 9\\r\\n\\r\\n                ', '0:30', '34:49'], ['75', '1006', '\\r\\n\\r\\n                    HELEN SHARP\\r\\n\\r\\n                ', 'F', '53', 'FOREST GROVE', 'OR', '11:08', '34:32', '\\r\\n\\r\\n                    29 of 113\\r\\n\\r\\n                ', 'F 40-54', '\\r\\n\\r\\n                    10 of 37\\r\\n\\r\\n                ', '0:16', '34:48'], ['76', '1165', '\\r\\n\\r\\n                    CLAYTON BELL\\r\\n\\r\\n                ', 'M', '40', 'PORTLAND', 'OR', '11:10', '34:38', '\\r\\n\\r\\n                    47 of 78\\r\\n\\r\\n                ', 'M 40-54', '\\r\\n\\r\\n                    15 of 27\\r\\n\\r\\n                ', '0:18', '34:56'], ['77', '1219', '\\r\\n\\r\\n                    PATRICIA ENGLE\\r\\n\\r\\n                ', 'F', '43', 'PORTLAND', 'OR', '11:11', '34:42', '\\r\\n\\r\\n                    30 of 113\\r\\n\\r\\n                ', 'F 40-54', '\\r\\n\\r\\n                    11 of 37\\r\\n\\r\\n                ', '0:30', '35:12'], ['78', '1200', '\\r\\n\\r\\n                    BEN KLEVIT\\r\\n\\r\\n                ', 'M', '53', 'LAKE OSWEGO', 'OR', '11:13', '34:49', '\\r\\n\\r\\n                    48 of 78\\r\\n\\r\\n                ', 'M 40-54', '\\r\\n\\r\\n                    16 of 27\\r\\n\\r\\n                ', '0:39', '35:28'], ['79', '1132', '\\r\\n\\r\\n                    KAYLEN GIBBENS\\r\\n\\r\\n                ', 'F', '41', 'HILLSBORO', 'OR', '11:15', '34:54', '\\r\\n\\r\\n                    31 of 113\\r\\n\\r\\n                ', 'F 40-54', '\\r\\n\\r\\n                    12 of 37\\r\\n\\r\\n                ', '0:20', '35:14'], ['80', '1122', '\\r\\n\\r\\n                    AUGUST EPSTEIN\\r\\n\\r\\n                ', 'M', '26', 'PORTLAND', 'OR', '11:36', '35:57', '\\r\\n\\r\\n                    49 of 78\\r\\n\\r\\n                ', 'M 21-39', '\\r\\n\\r\\n                    24 of 33\\r\\n\\r\\n                ', '0:12', '36:09'], ['81', '1121', '\\r\\n\\r\\n                    SAMANTHA PINKERTON\\r\\n\\r\\n                ', 'F', '26', 'PORTLAND', 'OR', '11:36', '35:58', '\\r\\n\\r\\n                    32 of 113\\r\\n\\r\\n                ', 'F 21-39', '\\r\\n\\r\\n                    15 of 53\\r\\n\\r\\n                ', '0:12', '36:10'], ['82', '1107', '\\r\\n\\r\\n                    NICOLE SCHULMERICH\\r\\n\\r\\n                ', 'F', '33', 'PORTLAND', 'OR', '11:40', '36:10', '\\r\\n\\r\\n                    33 of 113\\r\\n\\r\\n                ', 'F 21-39', '\\r\\n\\r\\n                    16 of 53\\r\\n\\r\\n                ', '0:27', '36:37'], ['83', '1056', '\\r\\n\\r\\n                    MARYJANE YACOBY\\r\\n\\r\\n                ', 'F', '35', 'VANCOUVER', 'WA', '11:54', '36:53', '\\r\\n\\r\\n                    34 of 113\\r\\n\\r\\n                ', 'F 21-39', '\\r\\n\\r\\n                    17 of 53\\r\\n\\r\\n                ', '0:22', '37:15'], ['84', '1057', '\\r\\n\\r\\n                    JOEL YACOBY\\r\\n\\r\\n                ', 'M', '40', 'VANCOUVER', 'WA', '11:54', '36:56', '\\r\\n\\r\\n                    50 of 78\\r\\n\\r\\n                ', 'M 40-54', '\\r\\n\\r\\n                    17 of 27\\r\\n\\r\\n                ', '0:22', '37:18'], ['85', '1055', '\\r\\n\\r\\n                    JILL TIMSHEL\\r\\n\\r\\n                ', 'F', '39', 'BATTLE GROUND', 'WA', '11:55', '36:56', '\\r\\n\\r\\n                    35 of 113\\r\\n\\r\\n                ', 'F 21-39', '\\r\\n\\r\\n                    18 of 53\\r\\n\\r\\n                ', '0:23', '37:19'], ['86', '1022', '\\r\\n\\r\\n                    CHRISTIE VANG\\r\\n\\r\\n                ', 'F', '32', 'PORTLAND', 'OR', '11:57', '37:02', '\\r\\n\\r\\n                    36 of 113\\r\\n\\r\\n                ', 'F 21-39', '\\r\\n\\r\\n                    19 of 53\\r\\n\\r\\n                ', '0:29', '37:31'], ['87', '1192', '\\r\\n\\r\\n                    JUNE REYES\\r\\n\\r\\n                ', 'F', '30', 'PORTLAND', 'OR', '12:02', '37:18', '\\r\\n\\r\\n                    37 of 113\\r\\n\\r\\n                ', 'F 21-39', '\\r\\n\\r\\n                    20 of 53\\r\\n\\r\\n                ', '0:20', '37:38'], ['88', '1078', '\\r\\n\\r\\n                    FRED SMITH\\r\\n\\r\\n                ', 'M', '46', 'PORTLAND', 'OR', '12:17', '38:06', '\\r\\n\\r\\n                    51 of 78\\r\\n\\r\\n                ', 'M 40-54', '\\r\\n\\r\\n                    18 of 27\\r\\n\\r\\n                ', '0:18', '38:24'], ['89', '1077', '\\r\\n\\r\\n                    BRIANNA MILLER\\r\\n\\r\\n                ', 'F', '25', 'PORTLAND', 'OR', '12:20', '38:15', '\\r\\n\\r\\n                    38 of 113\\r\\n\\r\\n                ', 'F 21-39', '\\r\\n\\r\\n                    21 of 53\\r\\n\\r\\n                ', '0:26', '38:41'], ['90', '1073', '\\r\\n\\r\\n                    RAÚL ROMERO\\r\\n\\r\\n                ', 'M', '42', 'PORTLAND', 'OR', '12:23', '38:23', '\\r\\n\\r\\n                    52 of 78\\r\\n\\r\\n                ', 'M 40-54', '\\r\\n\\r\\n                    19 of 27\\r\\n\\r\\n                ', '0:00', '38:23'], ['91', '1134', '\\r\\n\\r\\n                    AMANDA MATLIN\\r\\n\\r\\n                ', 'F', '36', 'PORTLAND', 'OR', '12:40', '39:17', '\\r\\n\\r\\n                    39 of 113\\r\\n\\r\\n                ', 'F 21-39', '\\r\\n\\r\\n                    22 of 53\\r\\n\\r\\n                ', '0:35', '39:52'], ['92', '1096', '\\r\\n\\r\\n                    SHAYLA VELASQUEZ\\r\\n\\r\\n                ', 'F', '28', 'TROUTDALEUTDALE', 'OR', '12:40', '39:18', '\\r\\n\\r\\n                    40 of 113\\r\\n\\r\\n                ', 'F 21-39', '\\r\\n\\r\\n                    23 of 53\\r\\n\\r\\n                ', '0:26', '39:44'], ['93', '1195', '\\r\\n\\r\\n                    PEYTON VELASQUEZ\\r\\n\\r\\n                ', 'M', '9', 'TROUTDALEUTDALE', 'OR', '12:40', '39:18', '\\r\\n\\r\\n                    53 of 78\\r\\n\\r\\n                ', 'M 20 and Under', '\\r\\n\\r\\n                    2 of 7\\r\\n\\r\\n                ', '0:26', '39:44'], ['94', '1176', '\\r\\n\\r\\n                    JOSHUA BRUNO\\r\\n\\r\\n                ', 'M', '40', 'PORTLAND', 'OR', '12:41', '39:20', '\\r\\n\\r\\n                    54 of 78\\r\\n\\r\\n                ', 'M 40-54', '\\r\\n\\r\\n                    20 of 27\\r\\n\\r\\n                ', '0:33', '39:53'], ['95', '1064', '\\r\\n\\r\\n                    DANIALE LYNCH\\r\\n\\r\\n                ', 'F', '39', 'PORTLAND', 'OR', '12:44', '39:28', '\\r\\n\\r\\n                    41 of 113\\r\\n\\r\\n                ', 'F 21-39', '\\r\\n\\r\\n                    24 of 53\\r\\n\\r\\n                ', '0:22', '39:50'], ['96', '1189', '\\r\\n\\r\\n                    SHAYLA TURNER\\r\\n\\r\\n                ', 'F', '33', 'PORTLAND', 'OR', '12:44', '39:30', '\\r\\n\\r\\n                    42 of 113\\r\\n\\r\\n                ', 'F 21-39', '\\r\\n\\r\\n                    25 of 53\\r\\n\\r\\n                ', '0:18', '39:48'], ['97', '1177', '\\r\\n\\r\\n                    MELITA LYNCH\\r\\n\\r\\n                ', 'F', '22', 'PORTLAND', 'OR', '12:52', '39:55', '\\r\\n\\r\\n                    43 of 113\\r\\n\\r\\n                ', 'F 21-39', '\\r\\n\\r\\n                    26 of 53\\r\\n\\r\\n                ', '0:23', '40:18'], ['98', '1178', '\\r\\n\\r\\n                    DEVON WONG\\r\\n\\r\\n                ', 'M', '26', 'PORTLAND', 'OR', '12:52', '39:55', '\\r\\n\\r\\n                    55 of 78\\r\\n\\r\\n                ', 'M 21-39', '\\r\\n\\r\\n                    25 of 33\\r\\n\\r\\n                ', '0:23', '40:18'], ['99', '1184', '\\r\\n\\r\\n                    KELLY BUCHANAN\\r\\n\\r\\n                ', 'F', '28', 'PORTLAND', 'OR', '12:55', '40:03', '\\r\\n\\r\\n                    44 of 113\\r\\n\\r\\n                ', 'F 21-39', '\\r\\n\\r\\n                    27 of 53\\r\\n\\r\\n                ', '0:36', '40:39'], ['100', '1029', '\\r\\n\\r\\n                    MOLLI MITCHELL\\r\\n\\r\\n                ', 'F', '36', 'PORTLAND', 'OR', '13:01', '40:21', '\\r\\n\\r\\n                    45 of 113\\r\\n\\r\\n                ', 'F 21-39', '\\r\\n\\r\\n                    28 of 53\\r\\n\\r\\n                ', '0:30', '40:51'], ['101', '1158', '\\r\\n\\r\\n                    JAYMES LATIMER\\r\\n\\r\\n                ', 'M', '27', 'PORTLAND', 'OR', '13:10', '40:50', '\\r\\n\\r\\n                    56 of 78\\r\\n\\r\\n                ', 'M 21-39', '\\r\\n\\r\\n                    26 of 33\\r\\n\\r\\n                ', '0:19', '41:09'], ['102', '1296', '\\r\\n\\r\\n                    SUE ANN HIGGENS\\r\\n\\r\\n                ', 'F', '57', 'PORTLAND', 'OR', '13:18', '41:15', '\\r\\n\\r\\n                    46 of 113\\r\\n\\r\\n                ', 'F 55+', '\\r\\n\\r\\n                    4 of 14\\r\\n\\r\\n                ', '0:17', '41:32'], ['103', '1020', '\\r\\n\\r\\n                    NAT KIM\\r\\n\\r\\n                ', 'F', '38', 'PORTLAND', 'OR', '13:20', '41:21', '\\r\\n\\r\\n                    47 of 113\\r\\n\\r\\n                ', 'F 21-39', '\\r\\n\\r\\n                    29 of 53\\r\\n\\r\\n                ', '0:10', '41:31'], ['104', '1052', '\\r\\n\\r\\n                    BETH BOGDEWIECZ\\r\\n\\r\\n                ', 'F', '37', 'PORTLAND', 'OR', '13:29', '41:50', '\\r\\n\\r\\n                    48 of 113\\r\\n\\r\\n                ', 'F 21-39', '\\r\\n\\r\\n                    30 of 53\\r\\n\\r\\n                ', '0:27', '42:17'], ['105', '1051', '\\r\\n\\r\\n                    AMBER BOGDEWIECZ\\r\\n\\r\\n                ', 'F', '38', 'PORTLAND', 'OR', '13:29', '41:50', '\\r\\n\\r\\n                    49 of 113\\r\\n\\r\\n                ', 'F 21-39', '\\r\\n\\r\\n                    31 of 53\\r\\n\\r\\n                ', '0:27', '42:17'], ['106', '1069', '\\r\\n\\r\\n                    PAM CROW\\r\\n\\r\\n                ', 'F', '61', 'PORTLAND', 'OR', '13:34', '42:04', '\\r\\n\\r\\n                    50 of 113\\r\\n\\r\\n                ', 'F 55+', '\\r\\n\\r\\n                    5 of 14\\r\\n\\r\\n                ', '0:23', '42:27'], ['107', '1076', '\\r\\n\\r\\n                    MARLON BROUSSARD\\r\\n\\r\\n                ', 'M', '47', 'PORTLAND', 'OR', '13:39', '42:21', '\\r\\n\\r\\n                    57 of 78\\r\\n\\r\\n                ', 'M 40-54', '\\r\\n\\r\\n                    21 of 27\\r\\n\\r\\n                ', '0:19', '42:40'], ['108', '1070', '\\r\\n\\r\\n                    HAILEI ABERSON\\r\\n\\r\\n                ', 'F', '23', 'PORTLAND', 'OR', '13:52', '43:01', '\\r\\n\\r\\n                    51 of 113\\r\\n\\r\\n                ', 'F 21-39', '\\r\\n\\r\\n                    32 of 53\\r\\n\\r\\n                ', '0:24', '43:25'], ['109', '1166', '\\r\\n\\r\\n                    GRACE MCBARRON\\r\\n\\r\\n                ', 'F', '23', 'PORTLAND', 'OR', '13:52', '43:01', '\\r\\n\\r\\n                    52 of 113\\r\\n\\r\\n                ', 'F 21-39', '\\r\\n\\r\\n                    33 of 53\\r\\n\\r\\n                ', '0:25', '43:26'], ['110', '1164', '\\r\\n\\r\\n                    AMIYAH HOLFORD\\r\\n\\r\\n                ', 'F', '15', 'PORTLAND', 'OR', '13:54', '43:07', '\\r\\n\\r\\n                    53 of 113\\r\\n\\r\\n                ', 'F 20 and Under', '\\r\\n\\r\\n                    2 of 6\\r\\n\\r\\n                ', '0:25', '43:32'], ['111', '1222', '\\r\\n\\r\\n                    KENNETH MARSHALL\\r\\n\\r\\n                ', 'M', '26', 'VANCOUVER', 'WA', '13:58', '43:20', '\\r\\n\\r\\n                    58 of 78\\r\\n\\r\\n                ', 'M 21-39', '\\r\\n\\r\\n                    27 of 33\\r\\n\\r\\n                ', '0:11', '43:31'], ['112', '1097', '\\r\\n\\r\\n                    VERNA MARSHALL\\r\\n\\r\\n                ', 'F', '64', 'CAMAS', 'WA', '13:59', '43:20', '\\r\\n\\r\\n                    54 of 113\\r\\n\\r\\n                ', 'F 55+', '\\r\\n\\r\\n                    6 of 14\\r\\n\\r\\n                ', '0:12', '43:32'], ['113', '1101', '\\r\\n\\r\\n                    ERIN SCHWARZ\\r\\n\\r\\n                ', 'F', '29', 'PORTLAND', 'OR', '14:08', '43:50', '\\r\\n\\r\\n                    55 of 113\\r\\n\\r\\n                ', 'F 21-39', '\\r\\n\\r\\n                    34 of 53\\r\\n\\r\\n                ', '0:37', '44:27'], ['114', '1144', '\\r\\n\\r\\n                    KIMBERLEY JACKSON\\r\\n\\r\\n                ', 'F', '51', 'PORTLAND', 'OR', '14:26', '44:46', '\\r\\n\\r\\n                    56 of 113\\r\\n\\r\\n                ', 'F 40-54', '\\r\\n\\r\\n                    13 of 37\\r\\n\\r\\n                ', '0:32', '45:18'], ['115', '1007', '\\r\\n\\r\\n                    KYLE NEWELL\\r\\n\\r\\n                ', 'M', '57', 'PORTLAND', 'OR', '14:30', '44:58', '\\r\\n\\r\\n                    59 of 78\\r\\n\\r\\n                ', 'M 55+', '\\r\\n\\r\\n                    3 of 5\\r\\n\\r\\n                ', '0:31', '45:29'], ['116', '1229', '\\r\\n\\r\\n                    KAREN FOSTER\\r\\n\\r\\n                ', 'F', '39', 'PORTLAND', 'OR', '14:32', '45:06', '\\r\\n\\r\\n                    57 of 113\\r\\n\\r\\n                ', 'F 21-39', '\\r\\n\\r\\n                    35 of 53\\r\\n\\r\\n                ', '0:13', '45:19'], ['117', '1005', '\\r\\n\\r\\n                    DELIA GRENVILLE\\r\\n\\r\\n                ', 'F', '52', 'PORTLAND', 'OR', '14:34', '45:10', '\\r\\n\\r\\n                    58 of 113\\r\\n\\r\\n                ', 'F 40-54', '\\r\\n\\r\\n                    14 of 37\\r\\n\\r\\n                ', '0:15', '45:25'], ['118', '1295', '\\r\\n\\r\\n                    THOMAS RUKS\\r\\n\\r\\n                ', 'M', '50', 'PORTLAND', 'OR', '14:36', '45:15', '\\r\\n\\r\\n                    60 of 78\\r\\n\\r\\n                ', 'M 40-54', '\\r\\n\\r\\n                    22 of 27\\r\\n\\r\\n                ', '0:37', '45:52'], ['119', '1054', '\\r\\n\\r\\n                    TRACY BOWLES\\r\\n\\r\\n                ', 'F', '38', 'PORTLAND', 'OR', '14:55', '46:17', '\\r\\n\\r\\n                    59 of 113\\r\\n\\r\\n                ', 'F 21-39', '\\r\\n\\r\\n                    36 of 53\\r\\n\\r\\n                ', '0:23', '46:40'], ['120', '1262', '\\r\\n\\r\\n                    KARI SCHLINKMEIER\\r\\n\\r\\n                ', 'F', '', '', '', '15:18', '47:28', '\\r\\n\\r\\n                    60 of 113\\r\\n\\r\\n                ', '', '\\r\\n\\r\\n                    8 of 9\\r\\n\\r\\n                ', '0:13', '47:41'], ['121', '1024', '\\r\\n\\r\\n                    CINZIA CORIO-HOLMAN\\r\\n\\r\\n                ', 'F', '52', 'PORTLAND', 'OR', '15:22', '47:41', '\\r\\n\\r\\n                    61 of 113\\r\\n\\r\\n                ', 'F 40-54', '\\r\\n\\r\\n                    15 of 37\\r\\n\\r\\n                ', '0:23', '48:04'], ['122', '1088', '\\r\\n\\r\\n                    GALEN HARDEN\\r\\n\\r\\n                ', 'M', '52', 'PORTLAND', '', '15:27', '47:56', '\\r\\n\\r\\n                    61 of 78\\r\\n\\r\\n                ', 'M 40-54', '\\r\\n\\r\\n                    23 of 27\\r\\n\\r\\n                ', '0:17', '48:13'], ['123', '1059', '\\r\\n\\r\\n                    AMIYAH BERRY\\r\\n\\r\\n                ', 'F', '9', 'PORTLAND', 'OR', '15:29', '48:00', '\\r\\n\\r\\n                    62 of 113\\r\\n\\r\\n                ', 'F 20 and Under', '\\r\\n\\r\\n                    3 of 6\\r\\n\\r\\n                ', '0:31', '48:31'], ['124', '1014', '\\r\\n\\r\\n                    DESIREE VIELMETTI\\r\\n\\r\\n                ', 'F', '34', 'PORTLAND', 'OR', '15:29', '48:02', '\\r\\n\\r\\n                    63 of 113\\r\\n\\r\\n                ', 'F 21-39', '\\r\\n\\r\\n                    37 of 53\\r\\n\\r\\n                ', '0:29', '48:31'], ['125', '1015', '\\r\\n\\r\\n                    BRITTANY BERRY HILL\\r\\n\\r\\n                ', 'F', '29', 'PORTLAND', 'OR', '15:30', '48:03', '\\r\\n\\r\\n                    64 of 113\\r\\n\\r\\n                ', 'F 21-39', '\\r\\n\\r\\n                    38 of 53\\r\\n\\r\\n                ', '0:31', '48:34'], ['126', '1035', '\\r\\n\\r\\n                    JESSE CHRISTENSON\\r\\n\\r\\n                ', 'M', '37', 'PORTLAND', 'OR', '15:31', '48:07', '\\r\\n\\r\\n                    62 of 78\\r\\n\\r\\n                ', 'M 21-39', '\\r\\n\\r\\n                    28 of 33\\r\\n\\r\\n                ', '0:30', '48:37'], ['127', '1172', '\\r\\n\\r\\n                    LOUISE MOROZ\\r\\n\\r\\n                ', 'F', '48', 'PEORIA', 'AZ', '15:37', '48:26', '\\r\\n\\r\\n                    65 of 113\\r\\n\\r\\n                ', 'F 40-54', '\\r\\n\\r\\n                    16 of 37\\r\\n\\r\\n                ', '0:44', '49:10'], ['128', '1012', '\\r\\n\\r\\n                    MEREDITH BOWIE\\r\\n\\r\\n                ', 'F', '37', 'SHERWOOD', 'OR', '15:38', '48:28', '\\r\\n\\r\\n                    66 of 113\\r\\n\\r\\n                ', 'F 21-39', '\\r\\n\\r\\n                    39 of 53\\r\\n\\r\\n                ', '0:43', '49:11'], ['129', '1248', '\\r\\n\\r\\n                    TERI UNTALAN\\r\\n\\r\\n                ', 'F', '51', 'PORTLAND', 'OR', '15:54', '49:20', '\\r\\n\\r\\n                    67 of 113\\r\\n\\r\\n                ', 'F 40-54', '\\r\\n\\r\\n                    17 of 37\\r\\n\\r\\n                ', '0:27', '49:47'], ['130', '1249', '\\r\\n\\r\\n                    SAM MCKINSTRY\\r\\n\\r\\n                ', 'M', '33', 'PORTLAND', 'OR', '15:54', '49:20', '\\r\\n\\r\\n                    63 of 78\\r\\n\\r\\n                ', 'M 21-39', '\\r\\n\\r\\n                    29 of 33\\r\\n\\r\\n                ', '0:26', '49:46'], ['131', '1131', '\\r\\n\\r\\n                    MARGARET PETERSEN\\r\\n\\r\\n                ', 'F', '13', 'VANCOUVER', 'WA', '16:33', '51:20', '\\r\\n\\r\\n                    68 of 113\\r\\n\\r\\n                ', 'F 20 and Under', '\\r\\n\\r\\n                    4 of 6\\r\\n\\r\\n                ', '0:36', '51:56'], ['132', '1188', '\\r\\n\\r\\n                    BARBARA WOODFORD\\r\\n\\r\\n                ', 'F', '65', 'PORTLAND', 'OR', '16:33', '51:21', '\\r\\n\\r\\n                    69 of 113\\r\\n\\r\\n                ', 'F 55+', '\\r\\n\\r\\n                    7 of 14\\r\\n\\r\\n                ', '0:39', '52:00'], ['133', '1130', '\\r\\n\\r\\n                    DAVID PETERSEN\\r\\n\\r\\n                ', 'M', '43', 'VANCOUVER', 'WA', '16:34', '51:21', '\\r\\n\\r\\n                    64 of 78\\r\\n\\r\\n                ', 'M 40-54', '\\r\\n\\r\\n                    24 of 27\\r\\n\\r\\n                ', '0:36', '51:57'], ['134', '1187', '\\r\\n\\r\\n                    TOM KELLY\\r\\n\\r\\n                ', 'M', '67', 'PORTLAND', 'OR', '16:35', '51:24', '\\r\\n\\r\\n                    65 of 78\\r\\n\\r\\n                ', 'M 55+', '\\r\\n\\r\\n                    4 of 5\\r\\n\\r\\n                ', '0:38', '52:02'], ['135', '1039', '\\r\\n\\r\\n                    BRIONA HILL\\r\\n\\r\\n                ', 'F', '21', 'PORTLAND', 'OR', '16:38', '51:36', '\\r\\n\\r\\n                    70 of 113\\r\\n\\r\\n                ', 'F 21-39', '\\r\\n\\r\\n                    40 of 53\\r\\n\\r\\n                ', '0:32', '52:08'], ['136', '1044', '\\r\\n\\r\\n                    MICHELE CRUSE\\r\\n\\r\\n                ', 'F', '45', 'VANCOUVER', 'WA', '16:41', '51:43', '\\r\\n\\r\\n                    71 of 113\\r\\n\\r\\n                ', 'F 40-54', '\\r\\n\\r\\n                    18 of 37\\r\\n\\r\\n                ', '0:34', '52:17'], ['137', '1045', '\\r\\n\\r\\n                    MICHAEL CRUSE\\r\\n\\r\\n                ', 'F', '51', 'VANCOUVER', 'WA', '16:52', '52:18', '\\r\\n\\r\\n                    72 of 113\\r\\n\\r\\n                ', 'F 40-54', '\\r\\n\\r\\n                    19 of 37\\r\\n\\r\\n                ', '0:36', '52:54'], ['138', '1141', '\\r\\n\\r\\n                    ALLYSON PRENTICE\\r\\n\\r\\n                ', 'F', '56', 'GLADSTONE', 'OR', '17:05', '52:58', '\\r\\n\\r\\n                    73 of 113\\r\\n\\r\\n                ', 'F 55+', '\\r\\n\\r\\n                    8 of 14\\r\\n\\r\\n                ', '0:19', '53:17'], ['139', '1140', '\\r\\n\\r\\n                    DAPHNE TENNYSON\\r\\n\\r\\n                ', 'F', '30', 'PORTLAND', 'OR', '17:05', '52:59', '\\r\\n\\r\\n                    74 of 113\\r\\n\\r\\n                ', 'F 21-39', '\\r\\n\\r\\n                    41 of 53\\r\\n\\r\\n                ', '0:20', '53:19'], ['140', '1198', '\\r\\n\\r\\n                    BRITTANY MASHIA\\r\\n\\r\\n                ', 'F', '23', 'PORTLAND', 'OR', '17:10', '53:13', '\\r\\n\\r\\n                    75 of 113\\r\\n\\r\\n                ', 'F 21-39', '\\r\\n\\r\\n                    42 of 53\\r\\n\\r\\n                ', '0:38', '53:51'], ['141', '1214', '\\r\\n\\r\\n                    AVERY WIESLER\\r\\n\\r\\n                ', 'M', '11', '', '', '17:15', '53:30', '\\r\\n\\r\\n                    66 of 78\\r\\n\\r\\n                ', 'M 20 and Under', '\\r\\n\\r\\n                    3 of 7\\r\\n\\r\\n                ', '0:32', '54:02'], ['142', '1215', '\\r\\n\\r\\n                    ELISE HENDRICKSON\\r\\n\\r\\n                ', 'F', '48', '', '', '17:15', '53:31', '\\r\\n\\r\\n                    76 of 113\\r\\n\\r\\n                ', 'F 40-54', '\\r\\n\\r\\n                    20 of 37\\r\\n\\r\\n                ', '0:31', '54:02'], ['143', '1133', '\\r\\n\\r\\n                    AJIANNAH TURNER\\r\\n\\r\\n                ', 'F', '13', 'PORTLAND', 'OR', '17:16', '53:33', '\\r\\n\\r\\n                    77 of 113\\r\\n\\r\\n                ', 'F 20 and Under', '\\r\\n\\r\\n                    5 of 6\\r\\n\\r\\n                ', '0:28', '54:01'], ['144', '1250', '\\r\\n\\r\\n                    KIM ONTI WILSON\\r\\n\\r\\n                ', 'F', '', '', '', '17:42', '54:53', '\\r\\n\\r\\n                    78 of 113\\r\\n\\r\\n                ', '', '\\r\\n\\r\\n                    9 of 9\\r\\n\\r\\n                ', '0:13', '55:06'], ['145', '1228', '\\r\\n\\r\\n                    KAMELAH ADAMS\\r\\n\\r\\n                ', 'F', '38', 'PORTLAND', 'OR', '17:43', '54:55', '\\r\\n\\r\\n                    79 of 113\\r\\n\\r\\n                ', 'F 21-39', '\\r\\n\\r\\n                    43 of 53\\r\\n\\r\\n                ', '0:13', '55:08'], ['146', '1243', '\\r\\n\\r\\n                    KATHY RUSSELL\\r\\n\\r\\n                ', 'F', '60', 'PORTLAND', 'OR', '17:51', '55:22', '\\r\\n\\r\\n                    80 of 113\\r\\n\\r\\n                ', 'F 55+', '\\r\\n\\r\\n                    9 of 14\\r\\n\\r\\n                ', '0:17', '55:39'], ['147', '1060', '\\r\\n\\r\\n                    KARIN PRICE\\r\\n\\r\\n                ', 'F', '38', 'VANCOUVER', 'WA', '18:28', '57:16', '\\r\\n\\r\\n                    81 of 113\\r\\n\\r\\n                ', 'F 21-39', '\\r\\n\\r\\n                    44 of 53\\r\\n\\r\\n                ', '0:32', '57:48'], ['148', '1009', '\\r\\n\\r\\n                    PATRICIA SNYDER\\r\\n\\r\\n                ', 'F', '73', 'GLADSTONE', 'OR', '18:51', '58:27', '\\r\\n\\r\\n                    82 of 113\\r\\n\\r\\n                ', 'F 55+', '\\r\\n\\r\\n                    10 of 14\\r\\n\\r\\n                ', '0:34', '59:01'], ['149', '1008', '\\r\\n\\r\\n                    SANDIE KIEHL\\r\\n\\r\\n                ', 'F', '71', 'GLADSTONE', 'OR', '18:51', '58:28', '\\r\\n\\r\\n                    83 of 113\\r\\n\\r\\n                ', 'F 55+', '\\r\\n\\r\\n                    11 of 14\\r\\n\\r\\n                ', '0:34', '59:02'], ['150', '1218', '\\r\\n\\r\\n                    JESSIE RICKER\\r\\n\\r\\n                ', 'F', '33', 'PORTLAND', 'OR', '19:08', '59:20', '\\r\\n\\r\\n                    84 of 113\\r\\n\\r\\n                ', 'F 21-39', '\\r\\n\\r\\n                    45 of 53\\r\\n\\r\\n                ', '0:36', '59:56'], ['151', '1217', '\\r\\n\\r\\n                    LETICIA FOWLER\\r\\n\\r\\n                ', 'F', '34', 'PORTLAND', 'OR', '19:09', '59:22', '\\r\\n\\r\\n                    85 of 113\\r\\n\\r\\n                ', 'F 21-39', '\\r\\n\\r\\n                    46 of 53\\r\\n\\r\\n                ', '0:35', '59:57'], ['152', '1206', '\\r\\n\\r\\n                    LISA WILLIAMS\\r\\n\\r\\n                ', 'F', '48', 'PORTLAND', 'OR', '19:20', '59:58', '\\r\\n\\r\\n                    86 of 113\\r\\n\\r\\n                ', 'F 40-54', '\\r\\n\\r\\n                    21 of 37\\r\\n\\r\\n                ', '0:33', '1:00:31'], ['153', '1205', '\\r\\n\\r\\n                    ANDREA DEBNAM\\r\\n\\r\\n                ', 'F', '45', 'PORTLAND', 'OR', '19:21', '1:00:01', '\\r\\n\\r\\n                    87 of 113\\r\\n\\r\\n                ', 'F 40-54', '\\r\\n\\r\\n                    22 of 37\\r\\n\\r\\n                ', '0:32', '1:00:33'], ['154', '1147', '\\r\\n\\r\\n                    KYM USSING\\r\\n\\r\\n                ', 'F', '47', 'PORTLAND', 'OR', '19:23', '1:00:08', '\\r\\n\\r\\n                    88 of 113\\r\\n\\r\\n                ', 'F 40-54', '\\r\\n\\r\\n                    23 of 37\\r\\n\\r\\n                ', '0:29', '1:00:37'], ['155', '1129', '\\r\\n\\r\\n                    HEATHER ROSENTHAL\\r\\n\\r\\n                ', 'F', '53', 'PORTLAND', 'OR', '19:24', '1:00:09', '\\r\\n\\r\\n                    89 of 113\\r\\n\\r\\n                ', 'F 40-54', '\\r\\n\\r\\n                    24 of 37\\r\\n\\r\\n                ', '0:27', '1:00:36'], ['156', '1211', '\\r\\n\\r\\n                    ARMISSA LYLES\\r\\n\\r\\n                ', 'F', '44', 'GRESHAM', 'OR', '19:26', '1:00:16', '\\r\\n\\r\\n                    90 of 113\\r\\n\\r\\n                ', 'F 40-54', '\\r\\n\\r\\n                    25 of 37\\r\\n\\r\\n                ', '0:22', '1:00:38'], ['157', '1210', '\\r\\n\\r\\n                    ANGELA PLEDGER\\r\\n\\r\\n                ', 'F', '49', 'GRESHAM', 'OR', '19:26', '1:00:17', '\\r\\n\\r\\n                    91 of 113\\r\\n\\r\\n                ', 'F 40-54', '\\r\\n\\r\\n                    26 of 37\\r\\n\\r\\n                ', '0:21', '1:00:38'], ['158', '1091', '\\r\\n\\r\\n                    CARLOS LASUNCET\\r\\n\\r\\n                ', 'M', '44', 'BEAVERTON', '', '19:29', '1:00:24', '\\r\\n\\r\\n                    67 of 78\\r\\n\\r\\n                ', 'M 40-54', '\\r\\n\\r\\n                    25 of 27\\r\\n\\r\\n                ', '0:42', '1:01:06'], ['159', '1093', '\\r\\n\\r\\n                    MARISOL LASUNCET\\r\\n\\r\\n                ', 'M', '9', '', '', '19:29', '1:00:24', '\\r\\n\\r\\n                    68 of 78\\r\\n\\r\\n                ', 'M 20 and Under', '\\r\\n\\r\\n                    4 of 7\\r\\n\\r\\n                ', '0:41', '1:01:05'], ['160', '1092', '\\r\\n\\r\\n                    DAWNNESHA LASUNCET\\r\\n\\r\\n                ', 'F', '43', '', '', '19:30', '1:00:27', '\\r\\n\\r\\n                    92 of 113\\r\\n\\r\\n                ', 'F 40-54', '\\r\\n\\r\\n                    27 of 37\\r\\n\\r\\n                ', '0:40', '1:01:07'], ['161', '1109', '\\r\\n\\r\\n                    JACQUELINE PAUL\\r\\n\\r\\n                ', 'F', '47', 'PORTLAND', 'OR', '19:36', '1:00:46', '\\r\\n\\r\\n                    93 of 113\\r\\n\\r\\n                ', 'F 40-54', '\\r\\n\\r\\n                    28 of 37\\r\\n\\r\\n                ', '0:17', '1:01:03'], ['162', '1138', '\\r\\n\\r\\n                    KAYLA PAUL\\r\\n\\r\\n                ', 'F', '27', 'PORTLAND', 'OR', '19:36', '1:00:48', '\\r\\n\\r\\n                    94 of 113\\r\\n\\r\\n                ', 'F 21-39', '\\r\\n\\r\\n                    47 of 53\\r\\n\\r\\n                ', '0:17', '1:01:05'], ['163', '1259', '\\r\\n\\r\\n                    RICO GARCIA\\r\\n\\r\\n                ', 'M', '17', '', '', '19:36', '1:00:48', '\\r\\n\\r\\n                    69 of 78\\r\\n\\r\\n                ', 'M 20 and Under', '\\r\\n\\r\\n                    5 of 7\\r\\n\\r\\n                ', '0:29', '1:01:17'], ['164', '1258', '\\r\\n\\r\\n                    CARLOS GARCIA\\r\\n\\r\\n                ', 'M', '15', '', '', '19:37', '1:00:51', '\\r\\n\\r\\n                    70 of 78\\r\\n\\r\\n                ', 'M 20 and Under', '\\r\\n\\r\\n                    6 of 7\\r\\n\\r\\n                ', '0:24', '1:01:15'], ['165', '1260', '\\r\\n\\r\\n                    PEPE GARCIA\\r\\n\\r\\n                ', 'M', '20', 'PORTLAND', 'OR', '19:37', '1:00:51', '\\r\\n\\r\\n                    71 of 78\\r\\n\\r\\n                ', 'M 20 and Under', '\\r\\n\\r\\n                    7 of 7\\r\\n\\r\\n                ', '0:29', '1:01:20'], ['166', '1255', '\\r\\n\\r\\n                    NAYANA GARCIA\\r\\n\\r\\n                ', 'F', '11', 'PORTLAND', 'OR', '19:38', '1:00:53', '\\r\\n\\r\\n                    95 of 113\\r\\n\\r\\n                ', 'F 20 and Under', '\\r\\n\\r\\n                    6 of 6\\r\\n\\r\\n                ', '0:26', '1:01:19'], ['167', '1235', '\\r\\n\\r\\n                    MICHONNÈ GAMBLE-RIVERS\\r\\n\\r\\n                ', 'F', '33', 'TIGARD', 'OR', '19:53', '1:01:40', '\\r\\n\\r\\n                    96 of 113\\r\\n\\r\\n                ', 'F 21-39', '\\r\\n\\r\\n                    48 of 53\\r\\n\\r\\n                ', '0:34', '1:02:14'], ['168', '1021', '\\r\\n\\r\\n                    TALITHA SINGHAI\\r\\n\\r\\n                ', 'F', '53', 'PORTLAND', 'OR', '19:54', '1:01:43', '\\r\\n\\r\\n                    97 of 113\\r\\n\\r\\n                ', 'F 40-54', '\\r\\n\\r\\n                    29 of 37\\r\\n\\r\\n                ', '0:50', '1:02:33'], ['169', '1143', '\\r\\n\\r\\n                    DIANE BRANDSMA\\r\\n\\r\\n                ', 'F', '53', 'BEAVERTON', 'OR', '19:56', '1:01:49', '\\r\\n\\r\\n                    98 of 113\\r\\n\\r\\n                ', 'F 40-54', '\\r\\n\\r\\n                    30 of 37\\r\\n\\r\\n                ', '0:44', '1:02:33'], ['170', '1234', '\\r\\n\\r\\n                    LINDSAY HARRIS\\r\\n\\r\\n                ', 'F', '30', 'TIGARD', 'OR', '19:57', '1:01:50', '\\r\\n\\r\\n                    99 of 113\\r\\n\\r\\n                ', 'F 21-39', '\\r\\n\\r\\n                    49 of 53\\r\\n\\r\\n                ', '0:35', '1:02:25'], ['171', '1233', '\\r\\n\\r\\n                    WILLIE MURPHY\\r\\n\\r\\n                ', 'M', '68', '', '', '20:00', '1:02:00', '\\r\\n\\r\\n                    72 of 78\\r\\n\\r\\n                ', 'M 55+', '\\r\\n\\r\\n                    5 of 5\\r\\n\\r\\n                ', '0:28', '1:02:28'], ['172', '1194', '\\r\\n\\r\\n                    MICHELLE BENTON\\r\\n\\r\\n                ', 'F', '33', 'PORTLAND', 'OR', '20:00', '1:02:01', '\\r\\n\\r\\n                    100 of 113\\r\\n\\r\\n                ', 'F 21-39', '\\r\\n\\r\\n                    50 of 53\\r\\n\\r\\n                ', '0:39', '1:02:40'], ['173', '1232', '\\r\\n\\r\\n                    WAYNE MURPHY\\r\\n\\r\\n                ', 'M', '54', '', '', '20:00', '1:02:01', '\\r\\n\\r\\n                    73 of 78\\r\\n\\r\\n                ', 'M 40-54', '\\r\\n\\r\\n                    26 of 27\\r\\n\\r\\n                ', '0:29', '1:02:30'], ['174', '1256', '\\r\\n\\r\\n                    NICOLE GARCIA\\r\\n\\r\\n                ', 'F', '37', 'PORTLAND', 'OR', '20:00', '1:02:03', '\\r\\n\\r\\n                    101 of 113\\r\\n\\r\\n                ', 'F 21-39', '\\r\\n\\r\\n                    51 of 53\\r\\n\\r\\n                ', '0:26', '1:02:29'], ['175', '1193', '\\r\\n\\r\\n                    SHEILA RANDALL\\r\\n\\r\\n                ', 'F', '47', 'PORTLAND', 'OR', '20:01', '1:02:03', '\\r\\n\\r\\n                    102 of 113\\r\\n\\r\\n                ', 'F 40-54', '\\r\\n\\r\\n                    31 of 37\\r\\n\\r\\n                ', '0:39', '1:02:42'], ['176', '1171', '\\r\\n\\r\\n                    NEAL BROWN\\r\\n\\r\\n                ', 'M', '36', 'PORTLAND', 'OR', '20:06', '1:02:19', '\\r\\n\\r\\n                    74 of 78\\r\\n\\r\\n                ', 'M 21-39', '\\r\\n\\r\\n                    30 of 33\\r\\n\\r\\n                ', '0:15', '1:02:34'], ['177', '1257', '\\r\\n\\r\\n                    JOSE GARCIA\\r\\n\\r\\n                ', 'M', '38', 'PORTLAND', 'OR', '20:07', '1:02:24', '\\r\\n\\r\\n                    75 of 78\\r\\n\\r\\n                ', 'M 21-39', '\\r\\n\\r\\n                    31 of 33\\r\\n\\r\\n                ', '0:26', '1:02:50'], ['178', '1099', '\\r\\n\\r\\n                    CARLOS BANKS\\r\\n\\r\\n                ', 'M', '40', 'PORTLAND', 'OR', '20:14', '1:02:45', '\\r\\n\\r\\n                    76 of 78\\r\\n\\r\\n                ', 'M 40-54', '\\r\\n\\r\\n                    27 of 27\\r\\n\\r\\n                ', '0:14', '1:02:59'], ['179', '1220', '\\r\\n\\r\\n                    LISA CHURCH\\r\\n\\r\\n                ', 'F', '44', 'RIDGEFIELD', 'WA', '20:14', '1:02:46', '\\r\\n\\r\\n                    103 of 113\\r\\n\\r\\n                ', 'F 40-54', '\\r\\n\\r\\n                    32 of 37\\r\\n\\r\\n                ', '0:35', '1:03:21'], ['180', '1221', '\\r\\n\\r\\n                    ELAINE MYRICK\\r\\n\\r\\n                ', 'F', '50', 'RIDGEFIELD', 'WA', '20:15', '1:02:47', '\\r\\n\\r\\n                    104 of 113\\r\\n\\r\\n                ', 'F 40-54', '\\r\\n\\r\\n                    33 of 37\\r\\n\\r\\n                ', '0:35', '1:03:22'], ['181', '1113', '\\r\\n\\r\\n                    RICHARD LAWSON\\r\\n\\r\\n                ', 'M', '31', 'HILLSBORO', 'OR', '20:18', '1:02:58', '\\r\\n\\r\\n                    77 of 78\\r\\n\\r\\n                ', 'M 21-39', '\\r\\n\\r\\n                    32 of 33\\r\\n\\r\\n                ', '0:29', '1:03:27'], ['182', '1114', '\\r\\n\\r\\n                    TRISHA HUTESON\\r\\n\\r\\n                ', 'F', '46', 'VANCOUVER', 'WA', '20:20', '1:03:04', '\\r\\n\\r\\n                    105 of 113\\r\\n\\r\\n                ', 'F 40-54', '\\r\\n\\r\\n                    34 of 37\\r\\n\\r\\n                ', '0:24', '1:03:28'], ['183', '1240', '\\r\\n\\r\\n                    GEANIE ROBINSON\\r\\n\\r\\n                ', 'F', '60', '', '', '20:46', '1:04:23', '\\r\\n\\r\\n                    106 of 113\\r\\n\\r\\n                ', 'F 55+', '\\r\\n\\r\\n                    12 of 14\\r\\n\\r\\n                ', '0:32', '1:04:55'], ['184', '1098', '\\r\\n\\r\\n                    MICHELLE HOFFMAN\\r\\n\\r\\n                ', 'F', '46', 'EVERETT', 'WA', '20:59', '1:05:03', '\\r\\n\\r\\n                    107 of 113\\r\\n\\r\\n                ', 'F 40-54', '\\r\\n\\r\\n                    35 of 37\\r\\n\\r\\n                ', '0:30', '1:05:33'], ['185', '1119', '\\r\\n\\r\\n                    SANDY PAGE\\r\\n\\r\\n                ', 'F', '66', 'PORTLAND', 'OR', '20:59', '1:05:04', '\\r\\n\\r\\n                    108 of 113\\r\\n\\r\\n                ', 'F 55+', '\\r\\n\\r\\n                    13 of 14\\r\\n\\r\\n                ', '0:30', '1:05:34'], ['186', '1116', '\\r\\n\\r\\n                    CHRISTINA TURNER\\r\\n\\r\\n                ', 'F', '39', 'PORTLAND', 'OR', '21:01', '1:05:09', '\\r\\n\\r\\n                    109 of 113\\r\\n\\r\\n                ', 'F 21-39', '\\r\\n\\r\\n                    52 of 53\\r\\n\\r\\n                ', '0:28', '1:05:37'], ['187', '1254', '\\r\\n\\r\\n                    CYNTHIA HARRIS\\r\\n\\r\\n                ', 'F', '64', 'PORTLAND', 'OR', '21:53', '1:07:51', '\\r\\n\\r\\n                    110 of 113\\r\\n\\r\\n                ', 'F 55+', '\\r\\n\\r\\n                    14 of 14\\r\\n\\r\\n                ', '1:19', '1:09:10'], ['188', '1085', '\\r\\n\\r\\n                    EBONY LAWRENCE\\r\\n\\r\\n                ', 'F', '30', 'PORTLAND', 'OR', '22:00', '1:08:12', '\\r\\n\\r\\n                    111 of 113\\r\\n\\r\\n                ', 'F 21-39', '\\r\\n\\r\\n                    53 of 53\\r\\n\\r\\n                ', '0:58', '1:09:10'], ['189', '1170', '\\r\\n\\r\\n                    ANTHONY WILLIAMS\\r\\n\\r\\n                ', 'M', '39', 'PORTLAND', 'OR', '22:19', '1:09:11', '\\r\\n\\r\\n                    78 of 78\\r\\n\\r\\n                ', 'M 21-39', '\\r\\n\\r\\n                    33 of 33\\r\\n\\r\\n                ', '0:08', '1:09:19'], ['190', '2087', '\\r\\n\\r\\n                    LEESHA POSEY\\r\\n\\r\\n                ', 'F', '43', 'PORTLAND', 'OR', '30:17', '1:33:53', '\\r\\n\\r\\n                    112 of 113\\r\\n\\r\\n                ', 'F 40-54', '\\r\\n\\r\\n                    36 of 37\\r\\n\\r\\n                ', '0:00', '1:33:53'], ['191', '1216', '\\r\\n\\r\\n                    ZULMA OCHOA\\r\\n\\r\\n                ', 'F', '40', 'GRESHAM', 'OR', '33:22', '1:43:27', '\\r\\n\\r\\n                    113 of 113\\r\\n\\r\\n                ', 'F 40-54', '\\r\\n\\r\\n                    37 of 37\\r\\n\\r\\n                ', '0:00', '1:43:27']]\n"
     ]
    }
   ],
   "source": [
    "data=[]\n",
    "allrows= soup.find_all(\"tr\")\n",
    "for row in allrows:\n",
    "    row_list= row.find_all(\"td\")\n",
    "    dataRow = []\n",
    "    for cell in row_list:\n",
    "        dataRow.append(cell.text)\n",
    "    data.append(dataRow)\n",
    "print(data)    "
   ]
  },
  {
   "cell_type": "code",
   "execution_count": 23,
   "id": "c1842cd6",
   "metadata": {},
   "outputs": [
    {
     "name": "stdout",
     "output_type": "stream",
     "text": [
      "[]\n",
      "[['190', '2087', '\\r\\n\\r\\n                    LEESHA POSEY\\r\\n\\r\\n                ', 'F', '43', 'PORTLAND', 'OR', '30:17', '1:33:53', '\\r\\n\\r\\n                    112 of 113\\r\\n\\r\\n                ', 'F 40-54', '\\r\\n\\r\\n                    36 of 37\\r\\n\\r\\n                ', '0:00', '1:33:53'], ['191', '1216', '\\r\\n\\r\\n                    ZULMA OCHOA\\r\\n\\r\\n                ', 'F', '40', 'GRESHAM', 'OR', '33:22', '1:43:27', '\\r\\n\\r\\n                    113 of 113\\r\\n\\r\\n                ', 'F 40-54', '\\r\\n\\r\\n                    37 of 37\\r\\n\\r\\n                ', '0:00', '1:43:27']]\n"
     ]
    }
   ],
   "source": [
    "data=[]\n",
    "allrows= soup.find_all(\"tr\")\n",
    "for row in allrows:\n",
    "    row_list= row.find_all(\"td\")\n",
    "    dataRow = []\n",
    "    for cell in row_list:\n",
    "        dataRow.append(cell.text)\n",
    "    data.append(dataRow)\n",
    "titles= data[0]    \n",
    "data= data[1:]   \n",
    "print(titles)\n",
    "print(data[-2:]) "
   ]
  },
  {
   "cell_type": "code",
   "execution_count": 27,
   "id": "4d68547c",
   "metadata": {},
   "outputs": [
    {
     "name": "stdout",
     "output_type": "stream",
     "text": [
      "[['190', '2087', '\\r\\n\\r\\n                    LEESHA POSEY\\r\\n\\r\\n                ', 'F', '43', 'PORTLAND', 'OR', '30:17', '1:33:53', '\\r\\n\\r\\n                    112 of 113\\r\\n\\r\\n                ', 'F 40-54', '\\r\\n\\r\\n                    36 of 37\\r\\n\\r\\n                ', '0:00', '1:33:53'], ['191', '1216', '\\r\\n\\r\\n                    ZULMA OCHOA\\r\\n\\r\\n                ', 'F', '40', 'GRESHAM', 'OR', '33:22', '1:43:27', '\\r\\n\\r\\n                    113 of 113\\r\\n\\r\\n                ', 'F 40-54', '\\r\\n\\r\\n                    37 of 37\\r\\n\\r\\n                ', '0:00', '1:43:27']]\n"
     ]
    }
   ],
   "source": [
    "data=[]\n",
    "allrows= soup.find_all(\"tr\")\n",
    "for row in allrows:\n",
    "    row_list= row.find_all(\"td\")\n",
    "    dataRow = []\n",
    "    for cell in row_list:\n",
    "        dataRow.append(cell.text)\n",
    "    data.append(dataRow)\n",
    "data= data[4:]   \n",
    "print(data[-2:]) "
   ]
  },
  {
   "cell_type": "code",
   "execution_count": 28,
   "id": "792d1b92",
   "metadata": {},
   "outputs": [
    {
     "name": "stdout",
     "output_type": "stream",
     "text": [
      "       0     1                                                  2     3   \\\n",
      "0    None  None                                               None  None   \n",
      "1       1  1191  \\r\\n\\r\\n                    MAX RANDOLPH\\r\\n\\r...     M   \n",
      "2       2  1080  \\r\\n\\r\\n                    NEED NAME KAISER R...     M   \n",
      "3       3  1275  \\r\\n\\r\\n                    DAN FRANEK\\r\\n\\r\\n...     M   \n",
      "4       4  1223  \\r\\n\\r\\n                    PAUL TAYLOR\\r\\n\\r\\...     M   \n",
      "..    ...   ...                                                ...   ...   \n",
      "187   187  1254  \\r\\n\\r\\n                    CYNTHIA HARRIS\\r\\n...     F   \n",
      "188   188  1085  \\r\\n\\r\\n                    EBONY LAWRENCE\\r\\n...     F   \n",
      "189   189  1170  \\r\\n\\r\\n                    ANTHONY WILLIAMS\\r...     M   \n",
      "190   190  2087  \\r\\n\\r\\n                    LEESHA POSEY\\r\\n\\r...     F   \n",
      "191   191  1216  \\r\\n\\r\\n                    ZULMA OCHOA\\r\\n\\r\\...     F   \n",
      "\n",
      "       4           5     6      7        8   \\\n",
      "0    None        None  None   None     None   \n",
      "1      29  WASHINGTON    DC   5:25    16:48   \n",
      "2      25    PORTLAND    OR   5:39    17:31   \n",
      "3      52    PORTLAND    OR   5:53    18:15   \n",
      "4      54    PORTLAND    OR   5:58    18:31   \n",
      "..    ...         ...   ...    ...      ...   \n",
      "187    64    PORTLAND    OR  21:53  1:07:51   \n",
      "188    30    PORTLAND    OR  22:00  1:08:12   \n",
      "189    39    PORTLAND    OR  22:19  1:09:11   \n",
      "190    43    PORTLAND    OR  30:17  1:33:53   \n",
      "191    40     GRESHAM    OR  33:22  1:43:27   \n",
      "\n",
      "                                                    9        10  \\\n",
      "0                                                 None     None   \n",
      "1    \\r\\n\\r\\n                    1 of 78\\r\\n\\r\\n   ...  M 21-39   \n",
      "2    \\r\\n\\r\\n                    2 of 78\\r\\n\\r\\n   ...  M 21-39   \n",
      "3    \\r\\n\\r\\n                    3 of 78\\r\\n\\r\\n   ...  M 40-54   \n",
      "4    \\r\\n\\r\\n                    4 of 78\\r\\n\\r\\n   ...  M 40-54   \n",
      "..                                                 ...      ...   \n",
      "187  \\r\\n\\r\\n                    110 of 113\\r\\n\\r\\n...    F 55+   \n",
      "188  \\r\\n\\r\\n                    111 of 113\\r\\n\\r\\n...  F 21-39   \n",
      "189  \\r\\n\\r\\n                    78 of 78\\r\\n\\r\\n  ...  M 21-39   \n",
      "190  \\r\\n\\r\\n                    112 of 113\\r\\n\\r\\n...  F 40-54   \n",
      "191  \\r\\n\\r\\n                    113 of 113\\r\\n\\r\\n...  F 40-54   \n",
      "\n",
      "                                                    11    12       13  \n",
      "0                                                 None  None     None  \n",
      "1    \\r\\n\\r\\n                    1 of 33\\r\\n\\r\\n   ...  0:08    16:56  \n",
      "2    \\r\\n\\r\\n                    2 of 33\\r\\n\\r\\n   ...  0:09    17:40  \n",
      "3    \\r\\n\\r\\n                    1 of 27\\r\\n\\r\\n   ...  0:07    18:22  \n",
      "4    \\r\\n\\r\\n                    2 of 27\\r\\n\\r\\n   ...  0:07    18:38  \n",
      "..                                                 ...   ...      ...  \n",
      "187  \\r\\n\\r\\n                    14 of 14\\r\\n\\r\\n  ...  1:19  1:09:10  \n",
      "188  \\r\\n\\r\\n                    53 of 53\\r\\n\\r\\n  ...  0:58  1:09:10  \n",
      "189  \\r\\n\\r\\n                    33 of 33\\r\\n\\r\\n  ...  0:08  1:09:19  \n",
      "190  \\r\\n\\r\\n                    36 of 37\\r\\n\\r\\n  ...  0:00  1:33:53  \n",
      "191  \\r\\n\\r\\n                    37 of 37\\r\\n\\r\\n  ...  0:00  1:43:27  \n",
      "\n",
      "[192 rows x 14 columns]\n"
     ]
    }
   ],
   "source": [
    "df= pd.DataFrame(data)\n",
    "print(df)"
   ]
  },
  {
   "cell_type": "code",
   "execution_count": 29,
   "id": "27af4a46",
   "metadata": {},
   "outputs": [
    {
     "name": "stdout",
     "output_type": "stream",
     "text": [
      "     0     1                                                  2     3     4   \\\n",
      "0  None  None                                               None  None  None   \n",
      "1     1  1191  \\r\\n\\r\\n                    MAX RANDOLPH\\r\\n\\r...     M    29   \n",
      "2     2  1080  \\r\\n\\r\\n                    NEED NAME KAISER R...     M    25   \n",
      "3     3  1275  \\r\\n\\r\\n                    DAN FRANEK\\r\\n\\r\\n...     M    52   \n",
      "4     4  1223  \\r\\n\\r\\n                    PAUL TAYLOR\\r\\n\\r\\...     M    54   \n",
      "\n",
      "           5     6     7      8   \\\n",
      "0        None  None  None   None   \n",
      "1  WASHINGTON    DC  5:25  16:48   \n",
      "2    PORTLAND    OR  5:39  17:31   \n",
      "3    PORTLAND    OR  5:53  18:15   \n",
      "4    PORTLAND    OR  5:58  18:31   \n",
      "\n",
      "                                                  9        10  \\\n",
      "0                                               None     None   \n",
      "1  \\r\\n\\r\\n                    1 of 78\\r\\n\\r\\n   ...  M 21-39   \n",
      "2  \\r\\n\\r\\n                    2 of 78\\r\\n\\r\\n   ...  M 21-39   \n",
      "3  \\r\\n\\r\\n                    3 of 78\\r\\n\\r\\n   ...  M 40-54   \n",
      "4  \\r\\n\\r\\n                    4 of 78\\r\\n\\r\\n   ...  M 40-54   \n",
      "\n",
      "                                                  11    12     13  \n",
      "0                                               None  None   None  \n",
      "1  \\r\\n\\r\\n                    1 of 33\\r\\n\\r\\n   ...  0:08  16:56  \n",
      "2  \\r\\n\\r\\n                    2 of 33\\r\\n\\r\\n   ...  0:09  17:40  \n",
      "3  \\r\\n\\r\\n                    1 of 27\\r\\n\\r\\n   ...  0:07  18:22  \n",
      "4  \\r\\n\\r\\n                    2 of 27\\r\\n\\r\\n   ...  0:07  18:38  \n"
     ]
    }
   ],
   "source": [
    "print(df.head())"
   ]
  },
  {
   "cell_type": "code",
   "execution_count": 30,
   "id": "9c35b931",
   "metadata": {},
   "outputs": [
    {
     "name": "stdout",
     "output_type": "stream",
     "text": [
      "      0     1                                                  2  3   4   \\\n",
      "187  187  1254  \\r\\n\\r\\n                    CYNTHIA HARRIS\\r\\n...  F  64   \n",
      "188  188  1085  \\r\\n\\r\\n                    EBONY LAWRENCE\\r\\n...  F  30   \n",
      "189  189  1170  \\r\\n\\r\\n                    ANTHONY WILLIAMS\\r...  M  39   \n",
      "190  190  2087  \\r\\n\\r\\n                    LEESHA POSEY\\r\\n\\r...  F  43   \n",
      "191  191  1216  \\r\\n\\r\\n                    ZULMA OCHOA\\r\\n\\r\\...  F  40   \n",
      "\n",
      "           5   6      7        8   \\\n",
      "187  PORTLAND  OR  21:53  1:07:51   \n",
      "188  PORTLAND  OR  22:00  1:08:12   \n",
      "189  PORTLAND  OR  22:19  1:09:11   \n",
      "190  PORTLAND  OR  30:17  1:33:53   \n",
      "191   GRESHAM  OR  33:22  1:43:27   \n",
      "\n",
      "                                                    9        10  \\\n",
      "187  \\r\\n\\r\\n                    110 of 113\\r\\n\\r\\n...    F 55+   \n",
      "188  \\r\\n\\r\\n                    111 of 113\\r\\n\\r\\n...  F 21-39   \n",
      "189  \\r\\n\\r\\n                    78 of 78\\r\\n\\r\\n  ...  M 21-39   \n",
      "190  \\r\\n\\r\\n                    112 of 113\\r\\n\\r\\n...  F 40-54   \n",
      "191  \\r\\n\\r\\n                    113 of 113\\r\\n\\r\\n...  F 40-54   \n",
      "\n",
      "                                                    11    12       13  \n",
      "187  \\r\\n\\r\\n                    14 of 14\\r\\n\\r\\n  ...  1:19  1:09:10  \n",
      "188  \\r\\n\\r\\n                    53 of 53\\r\\n\\r\\n  ...  0:58  1:09:10  \n",
      "189  \\r\\n\\r\\n                    33 of 33\\r\\n\\r\\n  ...  0:08  1:09:19  \n",
      "190  \\r\\n\\r\\n                    36 of 37\\r\\n\\r\\n  ...  0:00  1:33:53  \n",
      "191  \\r\\n\\r\\n                    37 of 37\\r\\n\\r\\n  ...  0:00  1:43:27  \n"
     ]
    }
   ],
   "source": [
    "print(df.tail())"
   ]
  },
  {
   "cell_type": "code",
   "execution_count": 31,
   "id": "4c554266",
   "metadata": {},
   "outputs": [
    {
     "name": "stdout",
     "output_type": "stream",
     "text": [
      "     0     1                                                  2     3     4   \\\n",
      "0  None  None                                               None  None  None   \n",
      "1     1  1191  \\r\\n\\r\\n                    MAX RANDOLPH\\r\\n\\r...     M    29   \n",
      "\n",
      "           5     6     7      8   \\\n",
      "0        None  None  None   None   \n",
      "1  WASHINGTON    DC  5:25  16:48   \n",
      "\n",
      "                                                  9        10  \\\n",
      "0                                               None     None   \n",
      "1  \\r\\n\\r\\n                    1 of 78\\r\\n\\r\\n   ...  M 21-39   \n",
      "\n",
      "                                                  11    12     13  \n",
      "0                                               None  None   None  \n",
      "1  \\r\\n\\r\\n                    1 of 33\\r\\n\\r\\n   ...  0:08  16:56  \n",
      "      0     1                                                  2  3   4   \\\n",
      "190  190  2087  \\r\\n\\r\\n                    LEESHA POSEY\\r\\n\\r...  F  43   \n",
      "191  191  1216  \\r\\n\\r\\n                    ZULMA OCHOA\\r\\n\\r\\...  F  40   \n",
      "\n",
      "           5   6      7        8   \\\n",
      "190  PORTLAND  OR  30:17  1:33:53   \n",
      "191   GRESHAM  OR  33:22  1:43:27   \n",
      "\n",
      "                                                    9        10  \\\n",
      "190  \\r\\n\\r\\n                    112 of 113\\r\\n\\r\\n...  F 40-54   \n",
      "191  \\r\\n\\r\\n                    113 of 113\\r\\n\\r\\n...  F 40-54   \n",
      "\n",
      "                                                    11    12       13  \n",
      "190  \\r\\n\\r\\n                    36 of 37\\r\\n\\r\\n  ...  0:00  1:33:53  \n",
      "191  \\r\\n\\r\\n                    37 of 37\\r\\n\\r\\n  ...  0:00  1:43:27  \n"
     ]
    }
   ],
   "source": [
    "print(df.head(2))\n",
    "print(df.tail(2))"
   ]
  },
  {
   "cell_type": "code",
   "execution_count": 32,
   "id": "07aebc28",
   "metadata": {},
   "outputs": [
    {
     "data": {
      "text/plain": [
       "[<th>Place</th>,\n",
       " <th>Bib</th>,\n",
       " <th>Name</th>,\n",
       " <th>Gender</th>,\n",
       " <th>Age</th>,\n",
       " <th>City</th>,\n",
       " <th>State</th>,\n",
       " <th>Chip Pace</th>,\n",
       " <th>Chip Time</th>,\n",
       " <th>Gender Place</th>,\n",
       " <th>Age Group</th>,\n",
       " <th>Age Group Place</th>,\n",
       " <th>Time to Start</th>,\n",
       " <th>Gun Time</th>]"
      ]
     },
     "execution_count": 32,
     "metadata": {},
     "output_type": "execute_result"
    }
   ],
   "source": [
    "col_headers= soup.find_all('th')\n",
    "col_headers"
   ]
  },
  {
   "cell_type": "code",
   "execution_count": 33,
   "id": "4351386c",
   "metadata": {},
   "outputs": [
    {
     "name": "stdout",
     "output_type": "stream",
     "text": [
      "['Place', 'Bib', 'Name', 'Gender', 'Age', 'City', 'State', 'Chip Pace', 'Chip Time', 'Gender Place', 'Age Group', 'Age Group Place', 'Time to Start', 'Gun Time']\n"
     ]
    }
   ],
   "source": [
    "header_list = []\n",
    "col_headers= soup.find_all('th')\n",
    "for col in col_headers:\n",
    "    header_list.append(col.text)\n",
    "print(header_list)"
   ]
  },
  {
   "cell_type": "code",
   "execution_count": 34,
   "id": "4f5be66d",
   "metadata": {},
   "outputs": [
    {
     "name": "stdout",
     "output_type": "stream",
     "text": [
      "  Place   Bib                                               Name Gender   Age  \\\n",
      "0  None  None                                               None   None  None   \n",
      "1     1  1191  \\r\\n\\r\\n                    MAX RANDOLPH\\r\\n\\r...      M    29   \n",
      "2     2  1080  \\r\\n\\r\\n                    NEED NAME KAISER R...      M    25   \n",
      "3     3  1275  \\r\\n\\r\\n                    DAN FRANEK\\r\\n\\r\\n...      M    52   \n",
      "4     4  1223  \\r\\n\\r\\n                    PAUL TAYLOR\\r\\n\\r\\...      M    54   \n",
      "\n",
      "         City State Chip Pace Chip Time  \\\n",
      "0        None  None      None      None   \n",
      "1  WASHINGTON    DC      5:25     16:48   \n",
      "2    PORTLAND    OR      5:39     17:31   \n",
      "3    PORTLAND    OR      5:53     18:15   \n",
      "4    PORTLAND    OR      5:58     18:31   \n",
      "\n",
      "                                        Gender Place Age Group  \\\n",
      "0                                               None      None   \n",
      "1  \\r\\n\\r\\n                    1 of 78\\r\\n\\r\\n   ...   M 21-39   \n",
      "2  \\r\\n\\r\\n                    2 of 78\\r\\n\\r\\n   ...   M 21-39   \n",
      "3  \\r\\n\\r\\n                    3 of 78\\r\\n\\r\\n   ...   M 40-54   \n",
      "4  \\r\\n\\r\\n                    4 of 78\\r\\n\\r\\n   ...   M 40-54   \n",
      "\n",
      "                                     Age Group Place Time to Start Gun Time  \n",
      "0                                               None          None     None  \n",
      "1  \\r\\n\\r\\n                    1 of 33\\r\\n\\r\\n   ...          0:08    16:56  \n",
      "2  \\r\\n\\r\\n                    2 of 33\\r\\n\\r\\n   ...          0:09    17:40  \n",
      "3  \\r\\n\\r\\n                    1 of 27\\r\\n\\r\\n   ...          0:07    18:22  \n",
      "4  \\r\\n\\r\\n                    2 of 27\\r\\n\\r\\n   ...          0:07    18:38  \n"
     ]
    }
   ],
   "source": [
    "df.columns= header_list\n",
    "print(df.head())"
   ]
  },
  {
   "cell_type": "code",
   "execution_count": 35,
   "id": "8a6807d7",
   "metadata": {},
   "outputs": [
    {
     "name": "stdout",
     "output_type": "stream",
     "text": [
      "<class 'pandas.core.frame.DataFrame'>\n",
      "RangeIndex: 192 entries, 0 to 191\n",
      "Data columns (total 14 columns):\n",
      " #   Column           Non-Null Count  Dtype \n",
      "---  ------           --------------  ----- \n",
      " 0   Place            191 non-null    object\n",
      " 1   Bib              191 non-null    object\n",
      " 2   Name             191 non-null    object\n",
      " 3   Gender           191 non-null    object\n",
      " 4   Age              191 non-null    object\n",
      " 5   City             191 non-null    object\n",
      " 6   State            191 non-null    object\n",
      " 7   Chip Pace        191 non-null    object\n",
      " 8   Chip Time        191 non-null    object\n",
      " 9   Gender Place     191 non-null    object\n",
      " 10  Age Group        191 non-null    object\n",
      " 11  Age Group Place  191 non-null    object\n",
      " 12  Time to Start    191 non-null    object\n",
      " 13  Gun Time         191 non-null    object\n",
      "dtypes: object(14)\n",
      "memory usage: 21.1+ KB\n"
     ]
    }
   ],
   "source": [
    "df.info()"
   ]
  },
  {
   "cell_type": "code",
   "execution_count": 36,
   "id": "85fb2c6d",
   "metadata": {},
   "outputs": [
    {
     "data": {
      "text/plain": [
       "(192, 14)"
      ]
     },
     "execution_count": 36,
     "metadata": {},
     "output_type": "execute_result"
    }
   ],
   "source": [
    "df.shape"
   ]
  },
  {
   "cell_type": "code",
   "execution_count": 37,
   "id": "66081c61",
   "metadata": {},
   "outputs": [
    {
     "data": {
      "text/plain": [
       "(192, 14)"
      ]
     },
     "execution_count": 37,
     "metadata": {},
     "output_type": "execute_result"
    }
   ],
   "source": [
    "df2= df.dropna(axis=0, how='any')\n",
    "df.shape"
   ]
  },
  {
   "cell_type": "code",
   "execution_count": 53,
   "id": "104f6679",
   "metadata": {},
   "outputs": [
    {
     "name": "stdout",
     "output_type": "stream",
     "text": [
      "<class 'pandas.core.frame.DataFrame'>\n",
      "Int64Index: 191 entries, 1 to 191\n",
      "Data columns (total 1 columns):\n",
      " #   Column     Non-Null Count  Dtype \n",
      "---  ------     --------------  ----- \n",
      " 0   Chip Time  191 non-null    object\n",
      "dtypes: object(1)\n",
      "memory usage: 3.0+ KB\n"
     ]
    }
   ],
   "source": [
    "# df2['ChipTime_minutes'] = pd.to_timedelta(df2['Chip Time'].str.replace(':'))\n",
    "df2[['Chip Time']].info()"
   ]
  },
  {
   "cell_type": "code",
   "execution_count": 62,
   "id": "8f8911ca",
   "metadata": {},
   "outputs": [
    {
     "name": "stdout",
     "output_type": "stream",
     "text": [
      "<class 'pandas.core.frame.DataFrame'>\n",
      "Int64Index: 191 entries, 1 to 191\n",
      "Data columns (total 1 columns):\n",
      " #   Column     Non-Null Count  Dtype \n",
      "---  ------     --------------  ----- \n",
      " 0   Chip Time  191 non-null    object\n",
      "dtypes: object(1)\n",
      "memory usage: 3.0+ KB\n",
      "  Gender Chip Time\n",
      "1      M     16:48\n",
      "2      M     17:31\n",
      "3      M     18:15\n",
      "4      M     18:31\n",
      "5      M     19:31\n"
     ]
    }
   ],
   "source": [
    "# df2['ChipTime_minutes'] = pd.to_timedelta(df2['Chip Time'])\n",
    "# df2['ChipTime_minutes'] = df2['ChipTime_minutes'].astype('timedelta64[s]')/60\n",
    "df2[['Chip Time']].info()\n",
    "print(df2[['Gender','Chip Time']].head())"
   ]
  },
  {
   "cell_type": "code",
   "execution_count": 80,
   "id": "e229ca09",
   "metadata": {},
   "outputs": [
    {
     "name": "stdout",
     "output_type": "stream",
     "text": [
      "<class 'pandas.core.frame.DataFrame'>\n",
      "Int64Index: 191 entries, 1 to 191\n",
      "Data columns (total 1 columns):\n",
      " #   Column            Non-Null Count  Dtype  \n",
      "---  ------            --------------  -----  \n",
      " 0   ChipTime_minutes  39 non-null     float64\n",
      "dtypes: float64(1)\n",
      "memory usage: 3.0 KB\n"
     ]
    },
    {
     "name": "stderr",
     "output_type": "stream",
     "text": [
      "C:\\Users\\sgitu\\AppData\\Local\\Temp\\ipykernel_25380\\1974668295.py:1: SettingWithCopyWarning: \n",
      "A value is trying to be set on a copy of a slice from a DataFrame.\n",
      "Try using .loc[row_indexer,col_indexer] = value instead\n",
      "\n",
      "See the caveats in the documentation: https://pandas.pydata.org/pandas-docs/stable/user_guide/indexing.html#returning-a-view-versus-a-copy\n",
      "  df2['ChipTime_minutes'] = pd.to_timedelta(df2['Chip Time'], errors='coerce')\n",
      "C:\\Users\\sgitu\\AppData\\Local\\Temp\\ipykernel_25380\\1974668295.py:2: SettingWithCopyWarning: \n",
      "A value is trying to be set on a copy of a slice from a DataFrame.\n",
      "Try using .loc[row_indexer,col_indexer] = value instead\n",
      "\n",
      "See the caveats in the documentation: https://pandas.pydata.org/pandas-docs/stable/user_guide/indexing.html#returning-a-view-versus-a-copy\n",
      "  df2['ChipTime_minutes'] = df2['ChipTime_minutes'].astype('timedelta64[s]')/60\n"
     ]
    }
   ],
   "source": [
    "df2['ChipTime_minutes'] = pd.to_timedelta(df2['Chip Time'], errors='coerce')\n",
    "df2['ChipTime_minutes'] = df2['ChipTime_minutes'].astype('timedelta64[s]')/60\n",
    "df2[['ChipTime_minutes']].info()"
   ]
  },
  {
   "cell_type": "code",
   "execution_count": 81,
   "id": "e1933416",
   "metadata": {},
   "outputs": [
    {
     "data": {
      "text/plain": [
       "Text(0.5, 1.0, 'Comparison of average minutes run by male and female')"
      ]
     },
     "execution_count": 81,
     "metadata": {},
     "output_type": "execute_result"
    },
    {
     "data": {
      "image/png": "[encoded data removed]",
      "text/plain": [
       "<Figure size 432x288 with 1 Axes>"
      ]
     },
     "metadata": {
      "needs_background": "light"
     },
     "output_type": "display_data"
    }
   ],
   "source": [
    "plt.bar(df2['Gender'], df2['ChipTime_minutes'])\n",
    "plt.xlabel('Gender')\n",
    "plt.ylabel('ChipTime_minutes')\n",
    "plt.title(\"Comparison of average minutes run by male and female\")"
   ]
  },
  {
   "cell_type": "code",
   "execution_count": 82,
   "id": "f0be60f2",
   "metadata": {},
   "outputs": [
    {
     "data": {
      "text/html": [
       "<div>\n",
       "<style scoped>\n",
       "    .dataframe tbody tr th:only-of-type {\n",
       "        vertical-align: middle;\n",
       "    }\n",
       "\n",
       "    .dataframe tbody tr th {\n",
       "        vertical-align: top;\n",
       "    }\n",
       "\n",
       "    .dataframe thead th {\n",
       "        text-align: right;\n",
       "    }\n",
       "</style>\n",
       "<table border=\"1\" class=\"dataframe\">\n",
       "  <thead>\n",
       "    <tr style=\"text-align: right;\">\n",
       "      <th></th>\n",
       "      <th>ChipTime_minutes</th>\n",
       "    </tr>\n",
       "  </thead>\n",
       "  <tbody>\n",
       "    <tr>\n",
       "      <th>count</th>\n",
       "      <td>39.000000</td>\n",
       "    </tr>\n",
       "    <tr>\n",
       "      <th>mean</th>\n",
       "      <td>64.243162</td>\n",
       "    </tr>\n",
       "    <tr>\n",
       "      <th>std</th>\n",
       "      <td>8.482094</td>\n",
       "    </tr>\n",
       "    <tr>\n",
       "      <th>min</th>\n",
       "      <td>60.016667</td>\n",
       "    </tr>\n",
       "    <tr>\n",
       "      <th>25%</th>\n",
       "      <td>60.800000</td>\n",
       "    </tr>\n",
       "    <tr>\n",
       "      <th>50%</th>\n",
       "      <td>62.016667</td>\n",
       "    </tr>\n",
       "    <tr>\n",
       "      <th>75%</th>\n",
       "      <td>63.016667</td>\n",
       "    </tr>\n",
       "    <tr>\n",
       "      <th>max</th>\n",
       "      <td>103.450000</td>\n",
       "    </tr>\n",
       "  </tbody>\n",
       "</table>\n",
       "</div>"
      ],
      "text/plain": [
       "       ChipTime_minutes\n",
       "count         39.000000\n",
       "mean          64.243162\n",
       "std            8.482094\n",
       "min           60.016667\n",
       "25%           60.800000\n",
       "50%           62.016667\n",
       "75%           63.016667\n",
       "max          103.450000"
      ]
     },
     "execution_count": 82,
     "metadata": {},
     "output_type": "execute_result"
    }
   ],
   "source": [
    "df2.describe(include=[np.number])"
   ]
  },
  {
   "cell_type": "code",
   "execution_count": 83,
   "id": "956c73ee",
   "metadata": {},
   "outputs": [
    {
     "data": {
      "text/plain": [
       "Text(0, 0.5, 'Run Time')"
      ]
     },
     "execution_count": 83,
     "metadata": {},
     "output_type": "execute_result"
    },
    {
     "data": {
      "image/png": "[encoded data removed]",
      "text/plain": [
       "<Figure size 432x288 with 1 Axes>"
      ]
     },
     "metadata": {
      "needs_background": "light"
     },
     "output_type": "display_data"
    }
   ],
   "source": [
    "df2.boxplot(column='ChipTime_minutes', by= 'Gender')\n",
    "plt.title('')\n",
    "plt.ylabel('Run Time')"
   ]
  },
  {
   "cell_type": "code",
   "execution_count": 84,
   "id": "011fb9a4",
   "metadata": {},
   "outputs": [
    {
     "data": {
      "text/plain": [
       "<function matplotlib.pyplot.show(close=None, block=None)>"
      ]
     },
     "execution_count": 84,
     "metadata": {},
     "output_type": "execute_result"
    },
    {
     "data": {
      "image/png": "[encoded data removed]",
      "text/plain": [
       "<Figure size 432x288 with 1 Axes>"
      ]
     },
     "metadata": {
      "needs_background": "light"
     },
     "output_type": "display_data"
    }
   ],
   "source": [
    "# age vs chip time in minutes\n",
    "plt.scatter(df2['ChipTime_minutes'], df2['Age'])\n",
    "plt.show"
   ]
  },
  {
   "cell_type": "code",
   "execution_count": 88,
   "id": "b77d1474",
   "metadata": {},
   "outputs": [
    {
     "name": "stderr",
     "output_type": "stream",
     "text": [
      "C:\\Users\\sgitu\\AppData\\Local\\Temp\\ipykernel_25380\\80476703.py:2: SettingWithCopyWarning: \n",
      "A value is trying to be set on a copy of a slice from a DataFrame.\n",
      "Try using .loc[row_indexer,col_indexer] = value instead\n",
      "\n",
      "See the caveats in the documentation: https://pandas.pydata.org/pandas-docs/stable/user_guide/indexing.html#returning-a-view-versus-a-copy\n",
      "  df2['Age_i']= round(pd.to_numeric(df2['Age'], errors='coerce'))\n",
      "C:\\Users\\sgitu\\AppData\\Local\\Temp\\ipykernel_25380\\80476703.py:3: SettingWithCopyWarning: \n",
      "A value is trying to be set on a copy of a slice from a DataFrame\n",
      "\n",
      "See the caveats in the documentation: https://pandas.pydata.org/pandas-docs/stable/user_guide/indexing.html#returning-a-view-versus-a-copy\n",
      "  df2.dropna(how='any', inplace=True)\n"
     ]
    },
    {
     "data": {
      "text/plain": [
       "<function matplotlib.pyplot.show(close=None, block=None)>"
      ]
     },
     "execution_count": 88,
     "metadata": {},
     "output_type": "execute_result"
    },
    {
     "data": {
      "image/png": "[encoded data removed]",
      "text/plain": [
       "<Figure size 432x288 with 1 Axes>"
      ]
     },
     "metadata": {
      "needs_background": "light"
     },
     "output_type": "display_data"
    }
   ],
   "source": [
    "# age vs chip time in minutes\n",
    "df2['Age_i']= round(pd.to_numeric(df2['Age'], errors='coerce'))\n",
    "df2.dropna(how='any', inplace=True)\n",
    "\n",
    "\n",
    "plt.scatter(df2['ChipTime_minutes'], df2['Age'])\n",
    "plt.show"
   ]
  },
  {
   "cell_type": "code",
   "execution_count": null,
   "id": "1c773540",
   "metadata": {},
   "outputs": [],
   "source": []
  }
 ],
 "metadata": {
  "kernelspec": {
   "display_name": "Python 3 (ipykernel)",
   "language": "python",
   "name": "python3"
  },
  "language_info": {
   "codemirror_mode": {
    "name": "ipython",
    "version": 3
   },
   "file_extension": ".py",
   "mimetype": "text/x-python",
   "name": "python",
   "nbconvert_exporter": "python",
   "pygments_lexer": "ipython3",
   "version": "3.9.12"
  }
 },
 "nbformat": 4,
 "nbformat_minor": 5
}
