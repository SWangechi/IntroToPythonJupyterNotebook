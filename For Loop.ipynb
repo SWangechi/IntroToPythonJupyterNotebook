{
 "cells": [
  {
   "cell_type": "markdown",
   "id": "691cbbe9",
   "metadata": {},
   "source": [
    "# For Loop"
   ]
  },
  {
   "cell_type": "code",
   "execution_count": 2,
   "id": "defe0dcb",
   "metadata": {},
   "outputs": [
    {
     "name": "stdout",
     "output_type": "stream",
     "text": [
      "1 4.2 Simplilearn\n"
     ]
    }
   ],
   "source": [
    "# Use for loop to access elements in a list\n",
    "x=[1,4.2,\"Simplilearn\"]\n",
    "print(x[0],x[1],x[2])"
   ]
  },
  {
   "cell_type": "code",
   "execution_count": 5,
   "id": "3d54e0da",
   "metadata": {},
   "outputs": [
    {
     "name": "stdout",
     "output_type": "stream",
     "text": [
      "1\n",
      "4.2\n",
      "Simplilearn\n"
     ]
    }
   ],
   "source": [
    "x=[1,4.2,\"Simplilearn\"]\n",
    "for i in x :\n",
    "    print(i)"
   ]
  },
  {
   "cell_type": "code",
   "execution_count": 7,
   "id": "4c2be9d7",
   "metadata": {},
   "outputs": [
    {
     "name": "stdout",
     "output_type": "stream",
     "text": [
      "Simplilearn"
     ]
    }
   ],
   "source": [
    "# Print every character in your list\n",
    "x=\"Simplilearn\"\n",
    "for i in x :\n",
    "    print(i, end=\"\")"
   ]
  },
  {
   "cell_type": "markdown",
   "id": "7f972242",
   "metadata": {},
   "source": [
    "# print all even numbers in the range of 0-20"
   ]
  },
  {
   "cell_type": "code",
   "execution_count": 10,
   "id": "a6f01c14",
   "metadata": {},
   "outputs": [
    {
     "name": "stdout",
     "output_type": "stream",
     "text": [
      "0\n",
      "2\n",
      "4\n",
      "6\n",
      "8\n",
      "10\n",
      "12\n",
      "14\n",
      "16\n",
      "18\n",
      "20\n"
     ]
    }
   ],
   "source": [
    "for i in range(0,21,2) :\n",
    "    print(i)"
   ]
  },
  {
   "cell_type": "code",
   "execution_count": 12,
   "id": "676a02bb",
   "metadata": {},
   "outputs": [
    {
     "name": "stdout",
     "output_type": "stream",
     "text": [
      "110\n"
     ]
    }
   ],
   "source": [
    "# Find the sum\n",
    "sum=0\n",
    "for i in range(0,21) :\n",
    "    if i%2==0 :\n",
    "        sum=sum+i\n",
    "print(sum)        "
   ]
  },
  {
   "cell_type": "markdown",
   "id": "0088e3ca",
   "metadata": {},
   "source": [
    "# Print patterns"
   ]
  },
  {
   "cell_type": "code",
   "execution_count": 16,
   "id": "22a170fc",
   "metadata": {},
   "outputs": [
    {
     "name": "stdout",
     "output_type": "stream",
     "text": [
      "enter a number10\n",
      "1\n",
      "12\n",
      "123\n",
      "1234\n",
      "12345\n",
      "123456\n",
      "1234567\n",
      "12345678\n",
      "123456789\n",
      "12345678910\n"
     ]
    }
   ],
   "source": [
    "n=int(input(\"enter a number\"))\n",
    "for i in range(1,n+1) :\n",
    "    for j in range(1,i+1) :\n",
    "        print(j,end=\"\")\n",
    "    print()    "
   ]
  },
  {
   "cell_type": "markdown",
   "id": "26461eaa",
   "metadata": {},
   "source": [
    "# Access elements of a matrix"
   ]
  },
  {
   "cell_type": "code",
   "execution_count": 34,
   "id": "366f4a39",
   "metadata": {},
   "outputs": [
    {
     "name": "stdout",
     "output_type": "stream",
     "text": [
      "Enter number of rows2\n",
      "Enter number of columns2\n",
      "Enter the 0 * 0 element1\n",
      "Enter the 0 * 1 element2\n",
      "Enter the 1 * 0 element3\n",
      "Enter the 1 * 1 element4\n",
      "Enter the 0 * 0 element5\n",
      "Enter the 0 * 1 element6\n",
      "Enter the 1 * 0 element7\n",
      "Enter the 1 * 1 element8\n",
      "[[6, 7], [11, 12]]\n"
     ]
    }
   ],
   "source": [
    "r=int(input(\"Enter number of rows\"))\n",
    "c = int(input(\"Enter number of columns\"))\n",
    "x=[]\n",
    "val=[]\n",
    "for i in range(0,r) :\n",
    "    for j in range(0,c) :\n",
    "        val.insert(j, int(input(\"Enter the %d * %d element\" %(i,j))))\n",
    "    x.insert(i,val)\n",
    "    val=[]\n",
    "y=[]\n",
    "for i in range(0,r) :\n",
    "    for j in range(0,c) :\n",
    "        val.insert(j, int(input(\"Enter the %d * %d element\" %(i,j))))\n",
    "    y.insert(i,val)\n",
    "    val=[]\n",
    "    \n",
    "sum=[]\n",
    "for i in range(0,r) :\n",
    "    for j in range(0,c) :\n",
    "        val.insert(j, x[i][j] + y[i][i])\n",
    "    sum.insert(i,val)\n",
    "    val=[]\n",
    "print(sum)    "
   ]
  },
  {
   "cell_type": "code",
   "execution_count": null,
   "id": "b852a1a5",
   "metadata": {},
   "outputs": [],
   "source": []
  }
 ],
 "metadata": {
  "kernelspec": {
   "display_name": "Python 3 (ipykernel)",
   "language": "python",
   "name": "python3"
  },
  "language_info": {
   "codemirror_mode": {
    "name": "ipython",
    "version": 3
   },
   "file_extension": ".py",
   "mimetype": "text/x-python",
   "name": "python",
   "nbconvert_exporter": "python",
   "pygments_lexer": "ipython3",
   "version": "3.9.12"
  }
 },
 "nbformat": 4,
 "nbformat_minor": 5
}
