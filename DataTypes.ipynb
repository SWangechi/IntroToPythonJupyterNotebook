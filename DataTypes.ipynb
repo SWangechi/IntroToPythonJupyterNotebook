{
 "cells": [
  {
   "cell_type": "code",
   "execution_count": 2,
   "id": "7b5edf28",
   "metadata": {},
   "outputs": [],
   "source": [
    "x = 100"
   ]
  },
  {
   "cell_type": "code",
   "execution_count": 3,
   "id": "ad696e41",
   "metadata": {},
   "outputs": [
    {
     "data": {
      "text/plain": [
       "int"
      ]
     },
     "execution_count": 3,
     "metadata": {},
     "output_type": "execute_result"
    }
   ],
   "source": [
    "type(x)"
   ]
  },
  {
   "cell_type": "code",
   "execution_count": 5,
   "id": "60ab36c3",
   "metadata": {},
   "outputs": [
    {
     "data": {
      "text/plain": [
       "int"
      ]
     },
     "execution_count": 5,
     "metadata": {},
     "output_type": "execute_result"
    }
   ],
   "source": [
    "x = 654*6734\n",
    "type(x)"
   ]
  },
  {
   "cell_type": "code",
   "execution_count": 6,
   "id": "9bd24b42",
   "metadata": {},
   "outputs": [
    {
     "name": "stdout",
     "output_type": "stream",
     "text": [
      "4404036\n"
     ]
    }
   ],
   "source": [
    "print(x)"
   ]
  },
  {
   "cell_type": "code",
   "execution_count": 7,
   "id": "d92fa5d0",
   "metadata": {},
   "outputs": [],
   "source": [
    "y =3.14"
   ]
  },
  {
   "cell_type": "code",
   "execution_count": 8,
   "id": "967ae6c5",
   "metadata": {},
   "outputs": [
    {
     "name": "stdout",
     "output_type": "stream",
     "text": [
      "3.14 <class 'float'>\n"
     ]
    }
   ],
   "source": [
    "print(y, type(y))"
   ]
  },
  {
   "cell_type": "code",
   "execution_count": 9,
   "id": "a33e043d",
   "metadata": {},
   "outputs": [],
   "source": [
    "z = \"Simplilearn\""
   ]
  },
  {
   "cell_type": "code",
   "execution_count": 10,
   "id": "efa1b9f0",
   "metadata": {},
   "outputs": [
    {
     "name": "stdout",
     "output_type": "stream",
     "text": [
      "Simplilearn\n"
     ]
    }
   ],
   "source": [
    "print(z)"
   ]
  },
  {
   "cell_type": "code",
   "execution_count": 11,
   "id": "d6dd516a",
   "metadata": {},
   "outputs": [
    {
     "data": {
      "text/plain": [
       "str"
      ]
     },
     "execution_count": 11,
     "metadata": {},
     "output_type": "execute_result"
    }
   ],
   "source": [
    "type(z)"
   ]
  },
  {
   "cell_type": "code",
   "execution_count": 12,
   "id": "b5bbb2c4",
   "metadata": {},
   "outputs": [],
   "source": [
    "# Lists\n",
    "x= [14,67,9]"
   ]
  },
  {
   "cell_type": "code",
   "execution_count": 13,
   "id": "2c3abf54",
   "metadata": {},
   "outputs": [
    {
     "name": "stdout",
     "output_type": "stream",
     "text": [
      "[14, 67, 9]\n"
     ]
    }
   ],
   "source": [
    "print(x)"
   ]
  },
  {
   "cell_type": "code",
   "execution_count": 14,
   "id": "0e756b84",
   "metadata": {},
   "outputs": [
    {
     "data": {
      "text/plain": [
       "list"
      ]
     },
     "execution_count": 14,
     "metadata": {},
     "output_type": "execute_result"
    }
   ],
   "source": [
    "type(x)"
   ]
  },
  {
   "cell_type": "code",
   "execution_count": 17,
   "id": "42c75fee",
   "metadata": {},
   "outputs": [
    {
     "name": "stdout",
     "output_type": "stream",
     "text": [
      "14\n"
     ]
    }
   ],
   "source": [
    "# Extract the first value\n",
    "print(x[0])"
   ]
  },
  {
   "cell_type": "code",
   "execution_count": 16,
   "id": "3776aea1",
   "metadata": {},
   "outputs": [
    {
     "name": "stdout",
     "output_type": "stream",
     "text": [
      "9\n"
     ]
    }
   ],
   "source": [
    "print(x[2])"
   ]
  },
  {
   "cell_type": "code",
   "execution_count": 18,
   "id": "361e3257",
   "metadata": {},
   "outputs": [],
   "source": [
    "# Change a value in a list\n",
    "x[2]=67"
   ]
  },
  {
   "cell_type": "code",
   "execution_count": 19,
   "id": "e078de5d",
   "metadata": {},
   "outputs": [
    {
     "name": "stdout",
     "output_type": "stream",
     "text": [
      "[14, 67, 67]\n"
     ]
    }
   ],
   "source": [
    "print(x)"
   ]
  },
  {
   "cell_type": "code",
   "execution_count": 20,
   "id": "c9088365",
   "metadata": {},
   "outputs": [
    {
     "name": "stdout",
     "output_type": "stream",
     "text": [
      "(4, 8, 6)\n"
     ]
    }
   ],
   "source": [
    "# Tuples\n",
    "x = (4,8,6)\n",
    "print(x)"
   ]
  },
  {
   "cell_type": "code",
   "execution_count": 21,
   "id": "af685b9c",
   "metadata": {},
   "outputs": [
    {
     "data": {
      "text/plain": [
       "tuple"
      ]
     },
     "execution_count": 21,
     "metadata": {},
     "output_type": "execute_result"
    }
   ],
   "source": [
    "type(x)"
   ]
  },
  {
   "cell_type": "code",
   "execution_count": 22,
   "id": "59a57953",
   "metadata": {},
   "outputs": [
    {
     "name": "stdout",
     "output_type": "stream",
     "text": [
      "8\n"
     ]
    }
   ],
   "source": [
    "# Tuples are immutable: You cannot change the value\n",
    "print(x[1]) "
   ]
  },
  {
   "cell_type": "code",
   "execution_count": 24,
   "id": "91642aad",
   "metadata": {},
   "outputs": [],
   "source": [
    "x = open('DataTypes.ipynb', 'r')"
   ]
  },
  {
   "cell_type": "code",
   "execution_count": 25,
   "id": "7ca3fcd9",
   "metadata": {},
   "outputs": [
    {
     "data": {
      "text/plain": [
       "_io.TextIOWrapper"
      ]
     },
     "execution_count": 25,
     "metadata": {},
     "output_type": "execute_result"
    }
   ],
   "source": [
    "type(x)"
   ]
  },
  {
   "cell_type": "code",
   "execution_count": 26,
   "id": "cb5745f0",
   "metadata": {},
   "outputs": [],
   "source": [
    "(x,y,z)= 5,10,7"
   ]
  },
  {
   "cell_type": "code",
   "execution_count": 27,
   "id": "e68fe954",
   "metadata": {},
   "outputs": [
    {
     "name": "stdout",
     "output_type": "stream",
     "text": [
      "5\n",
      "10\n",
      "7\n"
     ]
    }
   ],
   "source": [
    "print(x)\n",
    "print(y)\n",
    "print(z)"
   ]
  },
  {
   "cell_type": "code",
   "execution_count": 28,
   "id": "698ea934",
   "metadata": {},
   "outputs": [],
   "source": [
    "# Same value with variables\n",
    "x=y=z=1"
   ]
  },
  {
   "cell_type": "code",
   "execution_count": 29,
   "id": "649a0f5c",
   "metadata": {},
   "outputs": [
    {
     "name": "stdout",
     "output_type": "stream",
     "text": [
      "1 1 1\n"
     ]
    }
   ],
   "source": [
    "print(x,y,z)"
   ]
  },
  {
   "cell_type": "code",
   "execution_count": 30,
   "id": "d9788ddb",
   "metadata": {},
   "outputs": [],
   "source": [
    "# Naming of variable\n",
    "abc = 100"
   ]
  },
  {
   "cell_type": "code",
   "execution_count": 31,
   "id": "68801a70",
   "metadata": {},
   "outputs": [],
   "source": [
    "_abc = 100"
   ]
  },
  {
   "cell_type": "code",
   "execution_count": 32,
   "id": "414c29af",
   "metadata": {},
   "outputs": [],
   "source": [
    "a100 = 100"
   ]
  },
  {
   "cell_type": "code",
   "execution_count": 33,
   "id": "acad49ba",
   "metadata": {},
   "outputs": [],
   "source": [
    "_a484_ = 100"
   ]
  },
  {
   "cell_type": "code",
   "execution_count": 34,
   "id": "55a15787",
   "metadata": {},
   "outputs": [
    {
     "name": "stdout",
     "output_type": "stream",
     "text": [
      "100 200\n"
     ]
    }
   ],
   "source": [
    "a100 = 100\n",
    "A100 = 200\n",
    "print(a100, A100)"
   ]
  },
  {
   "cell_type": "code",
   "execution_count": null,
   "id": "db9d5488",
   "metadata": {},
   "outputs": [],
   "source": []
  }
 ],
 "metadata": {
  "kernelspec": {
   "display_name": "Python 3 (ipykernel)",
   "language": "python",
   "name": "python3"
  },
  "language_info": {
   "codemirror_mode": {
    "name": "ipython",
    "version": 3
   },
   "file_extension": ".py",
   "mimetype": "text/x-python",
   "name": "python",
   "nbconvert_exporter": "python",
   "pygments_lexer": "ipython3",
   "version": "3.9.12"
  }
 },
 "nbformat": 4,
 "nbformat_minor": 5
}
