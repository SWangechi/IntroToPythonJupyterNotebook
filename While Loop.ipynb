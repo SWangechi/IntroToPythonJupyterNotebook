{
 "cells": [
  {
   "cell_type": "markdown",
   "id": "0d099f0f",
   "metadata": {},
   "source": [
    "# While Loop"
   ]
  },
  {
   "cell_type": "code",
   "execution_count": 1,
   "id": "1b61f8ef",
   "metadata": {},
   "outputs": [
    {
     "name": "stdout",
     "output_type": "stream",
     "text": [
      "Simplilearn\n",
      "Simplilearn\n",
      "Simplilearn\n",
      "Simplilearn\n",
      "Simplilearn\n",
      "Simplilearn\n",
      "Simplilearn\n",
      "Simplilearn\n",
      "Simplilearn\n",
      "Simplilearn\n"
     ]
    }
   ],
   "source": [
    "i=1\n",
    "while i<=10 :\n",
    "    print(\"Simplilearn\")\n",
    "    i+=1"
   ]
  },
  {
   "cell_type": "code",
   "execution_count": 4,
   "id": "29ef74c5",
   "metadata": {},
   "outputs": [
    {
     "name": "stdout",
     "output_type": "stream",
     "text": [
      "Simplilearn\n",
      "Simplilearn\n",
      "Simplilearn\n",
      "Simplilearn\n",
      "Simplilearn\n",
      "Simplilearn\n",
      "Simplilearn\n",
      "Simplilearn\n",
      "Simplilearn\n",
      "Simplilearn\n"
     ]
    }
   ],
   "source": [
    "i = 10\n",
    "while i>=1 :\n",
    "    print(\"Simplilearn\")\n",
    "    i-=1"
   ]
  },
  {
   "cell_type": "code",
   "execution_count": 7,
   "id": "e06546a8",
   "metadata": {},
   "outputs": [
    {
     "name": "stdout",
     "output_type": "stream",
     "text": [
      "55\n"
     ]
    }
   ],
   "source": [
    "# Find the sum of the 1st 10 numbers\n",
    "i=1\n",
    "sum=0\n",
    "while i<=10 :\n",
    "    sum=sum+i\n",
    "    i+=1\n",
    "print(sum)    "
   ]
  },
  {
   "cell_type": "code",
   "execution_count": 9,
   "id": "1b31fe78",
   "metadata": {},
   "outputs": [
    {
     "name": "stdout",
     "output_type": "stream",
     "text": [
      "30\n"
     ]
    }
   ],
   "source": [
    "# find the sum of even numbers\n",
    "i=1\n",
    "sum=0\n",
    "while i<=10 :\n",
    "    if i%2==0 :\n",
    "        sum=sum+i\n",
    "    i+=1\n",
    "print(sum)    "
   ]
  },
  {
   "cell_type": "markdown",
   "id": "d5124478",
   "metadata": {},
   "source": [
    "# Reverse an integer"
   ]
  },
  {
   "cell_type": "code",
   "execution_count": 10,
   "id": "9b030b84",
   "metadata": {},
   "outputs": [
    {
     "name": "stdout",
     "output_type": "stream",
     "text": [
      "Enter a  number4652\n",
      "2564\n"
     ]
    }
   ],
   "source": [
    "n=int(input(\"Enter a  number\"))\n",
    "nr=0\n",
    "while n%10!=0 :\n",
    "    c=n%10\n",
    "    nr=nr*10 + c\n",
    "    n=n//10\n",
    "print(nr)    \n",
    "# n=5678\n",
    "#nr=8765\n"
   ]
  },
  {
   "cell_type": "markdown",
   "id": "b984c07a",
   "metadata": {},
   "source": [
    "# Calculate the length of a list"
   ]
  },
  {
   "cell_type": "code",
   "execution_count": 12,
   "id": "56397c76",
   "metadata": {},
   "outputs": [
    {
     "name": "stdout",
     "output_type": "stream",
     "text": [
      "4\n"
     ]
    }
   ],
   "source": [
    "x = [1,2,3,\"Simplilearn\"]\n",
    "length=0\n",
    "i=0\n",
    "try:\n",
    "    while x[i] :\n",
    "        length+=1\n",
    "        i+=1\n",
    "except IndexError:\n",
    "    print(length)    "
   ]
  },
  {
   "cell_type": "markdown",
   "id": "614dd5f0",
   "metadata": {},
   "source": [
    "# Pattern"
   ]
  },
  {
   "cell_type": "code",
   "execution_count": 14,
   "id": "63f9f99b",
   "metadata": {},
   "outputs": [
    {
     "name": "stdout",
     "output_type": "stream",
     "text": [
      "Enter a number7\n",
      "1\n",
      "22\n",
      "333\n",
      "4444\n",
      "55555\n",
      "666666\n",
      "7777777\n"
     ]
    }
   ],
   "source": [
    "n=int(input(\"Enter a number\"))\n",
    "i=1\n",
    "while i<=n :\n",
    "    j=1\n",
    "    while j<=i :\n",
    "        print(i,end=\"\")\n",
    "        j+=1\n",
    "    i+=1\n",
    "    print()"
   ]
  },
  {
   "cell_type": "markdown",
   "id": "24be8e2a",
   "metadata": {},
   "source": [
    "# Guessing Game"
   ]
  },
  {
   "cell_type": "code",
   "execution_count": 21,
   "id": "1a937f2e",
   "metadata": {},
   "outputs": [
    {
     "name": "stdout",
     "output_type": "stream",
     "text": [
      "4126\n",
      "Enter a 4 digit number8890\n",
      "0 digits were guessed right\n",
      "Enter a 4 digit number7134\n",
      "1 digits were guessed right\n",
      "Enter a 4 digit number5129\n",
      "2 digits were guessed right\n",
      "Enter a 4 digit number8126\n",
      "3 digits were guessed right\n",
      "Enter a 4 digit number4126\n",
      "Congrats! you guesses it right\n"
     ]
    }
   ],
   "source": [
    "import random\n",
    "nump=random.randint(1000,9999)\n",
    "print(nump)\n",
    "n = int(input(\"Enter a 4 digit number\"))\n",
    "while n!=10 :\n",
    "    num = nump\n",
    "    cor = 0\n",
    "    while num%10 :\n",
    "        numc = num%10\n",
    "        nc = n%10\n",
    "        num = num//10\n",
    "        n = n//10\n",
    "        if numc == nc:\n",
    "            cor=cor+1\n",
    "    if cor==4 :\n",
    "        print(\"Congrats! you guesses it right\")\n",
    "        break\n",
    "    else :\n",
    "        print(\"%d digits were guessed right\"%cor)\n",
    "        n= int(input(\"Enter a 4 digit number\"))\n",
    "else :\n",
    "    print(\"You quit the game\")"
   ]
  },
  {
   "cell_type": "code",
   "execution_count": null,
   "id": "b325adce",
   "metadata": {},
   "outputs": [],
   "source": []
  }
 ],
 "metadata": {
  "kernelspec": {
   "display_name": "Python 3 (ipykernel)",
   "language": "python",
   "name": "python3"
  },
  "language_info": {
   "codemirror_mode": {
    "name": "ipython",
    "version": 3
   },
   "file_extension": ".py",
   "mimetype": "text/x-python",
   "name": "python",
   "nbconvert_exporter": "python",
   "pygments_lexer": "ipython3",
   "version": "3.9.12"
  }
 },
 "nbformat": 4,
 "nbformat_minor": 5
}
