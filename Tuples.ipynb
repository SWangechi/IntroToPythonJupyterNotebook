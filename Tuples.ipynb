{
 "cells": [
  {
   "cell_type": "markdown",
   "id": "38e90e3b",
   "metadata": {},
   "source": [
    "# Creating Tuples"
   ]
  },
  {
   "cell_type": "code",
   "execution_count": 1,
   "id": "3291bce0",
   "metadata": {},
   "outputs": [
    {
     "name": "stdout",
     "output_type": "stream",
     "text": [
      "<class 'tuple'>\n"
     ]
    }
   ],
   "source": [
    "emp=()\n",
    "print(type(emp))"
   ]
  },
  {
   "cell_type": "code",
   "execution_count": 2,
   "id": "ccfd415a",
   "metadata": {},
   "outputs": [
    {
     "name": "stdout",
     "output_type": "stream",
     "text": [
      "()\n"
     ]
    }
   ],
   "source": [
    "print(emp)"
   ]
  },
  {
   "cell_type": "code",
   "execution_count": 4,
   "id": "b3c53bbb",
   "metadata": {},
   "outputs": [],
   "source": [
    "city= \"Pune\","
   ]
  },
  {
   "cell_type": "code",
   "execution_count": 5,
   "id": "3d0dda7d",
   "metadata": {},
   "outputs": [
    {
     "data": {
      "text/plain": [
       "tuple"
      ]
     },
     "execution_count": 5,
     "metadata": {},
     "output_type": "execute_result"
    }
   ],
   "source": [
    "type(city)"
   ]
  },
  {
   "cell_type": "code",
   "execution_count": 6,
   "id": "bd82d743",
   "metadata": {},
   "outputs": [
    {
     "data": {
      "text/plain": [
       "'Pune'"
      ]
     },
     "execution_count": 6,
     "metadata": {},
     "output_type": "execute_result"
    }
   ],
   "source": [
    "city=(\"Pune\")\n",
    "city"
   ]
  },
  {
   "cell_type": "code",
   "execution_count": 7,
   "id": "c50bd28f",
   "metadata": {},
   "outputs": [
    {
     "data": {
      "text/plain": [
       "('Pune',)"
      ]
     },
     "execution_count": 7,
     "metadata": {},
     "output_type": "execute_result"
    }
   ],
   "source": [
    "city=(\"Pune\",)\n",
    "city"
   ]
  },
  {
   "cell_type": "code",
   "execution_count": 8,
   "id": "c2112538",
   "metadata": {},
   "outputs": [
    {
     "data": {
      "text/plain": [
       "('Nairobi', 'Mombasa', 'Kisumu')"
      ]
     },
     "execution_count": 8,
     "metadata": {},
     "output_type": "execute_result"
    }
   ],
   "source": [
    "city=(\"Nairobi\", \"Mombasa\", \"Kisumu\")\n",
    "city"
   ]
  },
  {
   "cell_type": "code",
   "execution_count": 17,
   "id": "f89f2d23",
   "metadata": {},
   "outputs": [
    {
     "data": {
      "text/plain": [
       "('Nairobi', 'Mombasa', 'Kisumu', 'Nakuru')"
      ]
     },
     "execution_count": 17,
     "metadata": {},
     "output_type": "execute_result"
    }
   ],
   "source": [
    "city=\"Nairobi\", \"Mombasa\", \"Kisumu\", \"Nakuru\"\n",
    "city"
   ]
  },
  {
   "cell_type": "code",
   "execution_count": 10,
   "id": "b7dd0bd4",
   "metadata": {},
   "outputs": [
    {
     "name": "stdout",
     "output_type": "stream",
     "text": [
      "[1, 2, 3, 4, 5]\n"
     ]
    }
   ],
   "source": [
    "list1=[1,2,3,4]\n",
    "tuple1=(1,2,3,4)\n",
    "list1.append(5)\n",
    "print(list1)"
   ]
  },
  {
   "cell_type": "code",
   "execution_count": 11,
   "id": "99f33ead",
   "metadata": {},
   "outputs": [
    {
     "ename": "AttributeError",
     "evalue": "'tuple' object has no attribute 'append'",
     "output_type": "error",
     "traceback": [
      "\u001b[1;31m---------------------------------------------------------------------------\u001b[0m",
      "\u001b[1;31mAttributeError\u001b[0m                            Traceback (most recent call last)",
      "Input \u001b[1;32mIn [11]\u001b[0m, in \u001b[0;36m<cell line: 1>\u001b[1;34m()\u001b[0m\n\u001b[1;32m----> 1\u001b[0m \u001b[43mtuple1\u001b[49m\u001b[38;5;241;43m.\u001b[39;49m\u001b[43mappend\u001b[49m(\u001b[38;5;241m5\u001b[39m)\n",
      "\u001b[1;31mAttributeError\u001b[0m: 'tuple' object has no attribute 'append'"
     ]
    }
   ],
   "source": [
    "tuple1.append(5)"
   ]
  },
  {
   "cell_type": "code",
   "execution_count": 12,
   "id": "2ddf2625",
   "metadata": {},
   "outputs": [],
   "source": [
    "# List is mutable, tuple is immutable\n",
    "# List uses square brackets, Tuples may or may not use parentheses."
   ]
  },
  {
   "cell_type": "code",
   "execution_count": 18,
   "id": "1ddd35db",
   "metadata": {},
   "outputs": [
    {
     "name": "stdout",
     "output_type": "stream",
     "text": [
      "('Nairobi', 'Mombasa', 'Kisumu', 'Nakuru')\n"
     ]
    }
   ],
   "source": [
    "print(city)"
   ]
  },
  {
   "cell_type": "code",
   "execution_count": 15,
   "id": "3d31a2cd",
   "metadata": {},
   "outputs": [
    {
     "data": {
      "text/plain": [
       "'Mombasa'"
      ]
     },
     "execution_count": 15,
     "metadata": {},
     "output_type": "execute_result"
    }
   ],
   "source": [
    "city[1]"
   ]
  },
  {
   "cell_type": "code",
   "execution_count": 19,
   "id": "039c0b88",
   "metadata": {},
   "outputs": [
    {
     "data": {
      "text/plain": [
       "'Nakuru'"
      ]
     },
     "execution_count": 19,
     "metadata": {},
     "output_type": "execute_result"
    }
   ],
   "source": [
    "city[-1]"
   ]
  },
  {
   "cell_type": "markdown",
   "id": "ed9cd5a8",
   "metadata": {},
   "source": [
    "# Concatenation"
   ]
  },
  {
   "cell_type": "code",
   "execution_count": 61,
   "id": "84919af4",
   "metadata": {},
   "outputs": [
    {
     "data": {
      "text/plain": [
       "('Nairobi', 'Mombasa', 'Kisumu', 'Nakuru')"
      ]
     },
     "execution_count": 61,
     "metadata": {},
     "output_type": "execute_result"
    }
   ],
   "source": [
    "city=\"Nairobi\", \"Mombasa\", \"Kisumu\", \"Nakuru\"\n",
    "city"
   ]
  },
  {
   "cell_type": "code",
   "execution_count": 63,
   "id": "07b66b3d",
   "metadata": {},
   "outputs": [],
   "source": [
    "num=1,2,3,4"
   ]
  },
  {
   "cell_type": "code",
   "execution_count": 64,
   "id": "e948b457",
   "metadata": {},
   "outputs": [
    {
     "data": {
      "text/plain": [
       "('Nairobi', 'Mombasa', 'Kisumu', 'Nakuru', 1, 2, 3, 4)"
      ]
     },
     "execution_count": 64,
     "metadata": {},
     "output_type": "execute_result"
    }
   ],
   "source": [
    "city + num"
   ]
  },
  {
   "cell_type": "markdown",
   "id": "dd898c25",
   "metadata": {},
   "source": [
    "# Nesting"
   ]
  },
  {
   "cell_type": "code",
   "execution_count": 65,
   "id": "636b38d1",
   "metadata": {},
   "outputs": [
    {
     "data": {
      "text/plain": [
       "(('Nairobi', 'Mombasa', 'Kisumu', 'Nakuru'), (1, 2, 3, 4))"
      ]
     },
     "execution_count": 65,
     "metadata": {},
     "output_type": "execute_result"
    }
   ],
   "source": [
    "nest=(city,num)\n",
    "nest"
   ]
  },
  {
   "cell_type": "markdown",
   "id": "4cc68e6b",
   "metadata": {},
   "source": [
    "# Repetition"
   ]
  },
  {
   "cell_type": "code",
   "execution_count": 67,
   "id": "8602efea",
   "metadata": {},
   "outputs": [
    {
     "data": {
      "text/plain": [
       "('Python', 'Python', 'Python', 'Python', 'Python')"
      ]
     },
     "execution_count": 67,
     "metadata": {},
     "output_type": "execute_result"
    }
   ],
   "source": [
    "rep=(\"Python\",)*5\n",
    "rep"
   ]
  },
  {
   "cell_type": "code",
   "execution_count": 68,
   "id": "2f199118",
   "metadata": {},
   "outputs": [
    {
     "data": {
      "text/plain": [
       "('Python',\n",
       " 'Python',\n",
       " 'Python',\n",
       " 'Python',\n",
       " 'Python',\n",
       " 'Python',\n",
       " 'Python',\n",
       " 'Python',\n",
       " 'Python',\n",
       " 'Python')"
      ]
     },
     "execution_count": 68,
     "metadata": {},
     "output_type": "execute_result"
    }
   ],
   "source": [
    "rep=(\"Python\",)\n",
    "rep*10"
   ]
  },
  {
   "cell_type": "code",
   "execution_count": 69,
   "id": "758dc3fc",
   "metadata": {},
   "outputs": [
    {
     "data": {
      "text/plain": [
       "('Python',)"
      ]
     },
     "execution_count": 69,
     "metadata": {},
     "output_type": "execute_result"
    }
   ],
   "source": [
    "rep"
   ]
  },
  {
   "cell_type": "markdown",
   "id": "4ea0e364",
   "metadata": {},
   "source": [
    "# Slicing"
   ]
  },
  {
   "cell_type": "code",
   "execution_count": 70,
   "id": "b479994d",
   "metadata": {},
   "outputs": [
    {
     "data": {
      "text/plain": [
       "(1, 2, 3, 4)"
      ]
     },
     "execution_count": 70,
     "metadata": {},
     "output_type": "execute_result"
    }
   ],
   "source": [
    "num"
   ]
  },
  {
   "cell_type": "code",
   "execution_count": 71,
   "id": "37e22964",
   "metadata": {},
   "outputs": [
    {
     "data": {
      "text/plain": [
       "(2, 3, 4)"
      ]
     },
     "execution_count": 71,
     "metadata": {},
     "output_type": "execute_result"
    }
   ],
   "source": [
    "num[1:]"
   ]
  },
  {
   "cell_type": "code",
   "execution_count": 72,
   "id": "d799877d",
   "metadata": {},
   "outputs": [
    {
     "data": {
      "text/plain": [
       "(4, 3, 2, 1)"
      ]
     },
     "execution_count": 72,
     "metadata": {},
     "output_type": "execute_result"
    }
   ],
   "source": [
    "num[::-1]"
   ]
  },
  {
   "cell_type": "markdown",
   "id": "449e1e31",
   "metadata": {},
   "source": [
    "# Unpacking"
   ]
  },
  {
   "cell_type": "code",
   "execution_count": 73,
   "id": "72468be7",
   "metadata": {},
   "outputs": [
    {
     "data": {
      "text/plain": [
       "('S', 'i', 'm', 'p', 'l', 'i', 'l', 'e', 'a', 'r', 'n')"
      ]
     },
     "execution_count": 73,
     "metadata": {},
     "output_type": "execute_result"
    }
   ],
   "source": [
    "tuple(\"Simplilearn\")"
   ]
  },
  {
   "cell_type": "code",
   "execution_count": 74,
   "id": "74179167",
   "metadata": {},
   "outputs": [
    {
     "data": {
      "text/plain": [
       "(1, 2, 3, 4)"
      ]
     },
     "execution_count": 74,
     "metadata": {},
     "output_type": "execute_result"
    }
   ],
   "source": [
    "num"
   ]
  },
  {
   "cell_type": "code",
   "execution_count": 75,
   "id": "0d4e9d8e",
   "metadata": {},
   "outputs": [],
   "source": [
    "a,b,c,d=num"
   ]
  },
  {
   "cell_type": "code",
   "execution_count": 78,
   "id": "2a0e59a5",
   "metadata": {},
   "outputs": [
    {
     "data": {
      "text/plain": [
       "(1, 2, 3, 4)"
      ]
     },
     "execution_count": 78,
     "metadata": {},
     "output_type": "execute_result"
    }
   ],
   "source": [
    "a,b,c,d"
   ]
  },
  {
   "cell_type": "code",
   "execution_count": 80,
   "id": "31253431",
   "metadata": {},
   "outputs": [
    {
     "data": {
      "text/plain": [
       "(1, [2, 3], 4)"
      ]
     },
     "execution_count": 80,
     "metadata": {},
     "output_type": "execute_result"
    }
   ],
   "source": [
    "a,*b,c=num\n",
    "a,b,c"
   ]
  },
  {
   "cell_type": "markdown",
   "id": "c37d4691",
   "metadata": {},
   "source": [
    "# Deleting a tuple"
   ]
  },
  {
   "cell_type": "code",
   "execution_count": 82,
   "id": "112398dd",
   "metadata": {},
   "outputs": [
    {
     "data": {
      "text/plain": [
       "(1, 2, 3, 4)"
      ]
     },
     "execution_count": 82,
     "metadata": {},
     "output_type": "execute_result"
    }
   ],
   "source": [
    "tuple1=(1,2,3,4)\n",
    "tuple1"
   ]
  },
  {
   "cell_type": "code",
   "execution_count": 84,
   "id": "ec5bfa52",
   "metadata": {},
   "outputs": [
    {
     "ename": "NameError",
     "evalue": "name 'tuple1' is not defined",
     "output_type": "error",
     "traceback": [
      "\u001b[1;31m---------------------------------------------------------------------------\u001b[0m",
      "\u001b[1;31mNameError\u001b[0m                                 Traceback (most recent call last)",
      "Input \u001b[1;32mIn [84]\u001b[0m, in \u001b[0;36m<cell line: 1>\u001b[1;34m()\u001b[0m\n\u001b[1;32m----> 1\u001b[0m \u001b[38;5;28;01mdel\u001b[39;00m tuple1\n\u001b[0;32m      2\u001b[0m tuple1\n",
      "\u001b[1;31mNameError\u001b[0m: name 'tuple1' is not defined"
     ]
    }
   ],
   "source": [
    "del tuple1\n",
    "tuple1"
   ]
  },
  {
   "cell_type": "markdown",
   "id": "1ff09e5d",
   "metadata": {},
   "source": [
    "# Built in function"
   ]
  },
  {
   "cell_type": "code",
   "execution_count": 85,
   "id": "bb12b1c8",
   "metadata": {},
   "outputs": [],
   "source": [
    "num1= (3,5,2,2,2,2,6,5,8)"
   ]
  },
  {
   "cell_type": "code",
   "execution_count": 86,
   "id": "641e43db",
   "metadata": {},
   "outputs": [
    {
     "data": {
      "text/plain": [
       "4"
      ]
     },
     "execution_count": 86,
     "metadata": {},
     "output_type": "execute_result"
    }
   ],
   "source": [
    "num1.count(2)"
   ]
  },
  {
   "cell_type": "code",
   "execution_count": 87,
   "id": "e8239eba",
   "metadata": {},
   "outputs": [
    {
     "data": {
      "text/plain": [
       "35"
      ]
     },
     "execution_count": 87,
     "metadata": {},
     "output_type": "execute_result"
    }
   ],
   "source": [
    "sum(num1)"
   ]
  },
  {
   "cell_type": "code",
   "execution_count": 88,
   "id": "d111a2ca",
   "metadata": {},
   "outputs": [
    {
     "data": {
      "text/plain": [
       "9"
      ]
     },
     "execution_count": 88,
     "metadata": {},
     "output_type": "execute_result"
    }
   ],
   "source": [
    "len(num1)"
   ]
  },
  {
   "cell_type": "code",
   "execution_count": 89,
   "id": "ac96e659",
   "metadata": {},
   "outputs": [
    {
     "data": {
      "text/plain": [
       "8"
      ]
     },
     "execution_count": 89,
     "metadata": {},
     "output_type": "execute_result"
    }
   ],
   "source": [
    "max(num1)"
   ]
  },
  {
   "cell_type": "code",
   "execution_count": 90,
   "id": "bd3e9cfe",
   "metadata": {},
   "outputs": [
    {
     "data": {
      "text/plain": [
       "2"
      ]
     },
     "execution_count": 90,
     "metadata": {},
     "output_type": "execute_result"
    }
   ],
   "source": [
    "min(num1)"
   ]
  },
  {
   "cell_type": "markdown",
   "id": "48f9d996",
   "metadata": {},
   "source": [
    "# Converting List to Tuple"
   ]
  },
  {
   "cell_type": "code",
   "execution_count": 92,
   "id": "88eb5f56",
   "metadata": {},
   "outputs": [
    {
     "data": {
      "text/plain": [
       "list"
      ]
     },
     "execution_count": 92,
     "metadata": {},
     "output_type": "execute_result"
    }
   ],
   "source": [
    "lst=[1,2,3,4]\n",
    "type(lst)"
   ]
  },
  {
   "cell_type": "code",
   "execution_count": 93,
   "id": "09e65d20",
   "metadata": {},
   "outputs": [],
   "source": [
    "tpl1=tuple(lst)"
   ]
  },
  {
   "cell_type": "code",
   "execution_count": 96,
   "id": "c8235930",
   "metadata": {},
   "outputs": [
    {
     "data": {
      "text/plain": [
       "(1, 2, 3, 4)"
      ]
     },
     "execution_count": 96,
     "metadata": {},
     "output_type": "execute_result"
    }
   ],
   "source": [
    "tpl1"
   ]
  },
  {
   "cell_type": "code",
   "execution_count": 98,
   "id": "2fc29a43",
   "metadata": {},
   "outputs": [
    {
     "data": {
      "text/plain": [
       "tuple"
      ]
     },
     "execution_count": 98,
     "metadata": {},
     "output_type": "execute_result"
    }
   ],
   "source": [
    "type(tpl1)"
   ]
  },
  {
   "cell_type": "markdown",
   "id": "8208da2f",
   "metadata": {},
   "source": [
    "# Nesting Tuples in a list"
   ]
  },
  {
   "cell_type": "code",
   "execution_count": 99,
   "id": "d81824ea",
   "metadata": {},
   "outputs": [
    {
     "data": {
      "text/plain": [
       "[(1, 2, 3), (4, 5, 6)]"
      ]
     },
     "execution_count": 99,
     "metadata": {},
     "output_type": "execute_result"
    }
   ],
   "source": [
    "lst=[(1,2,3), (4,5,6)]\n",
    "lst"
   ]
  },
  {
   "cell_type": "code",
   "execution_count": 101,
   "id": "0e3e388e",
   "metadata": {},
   "outputs": [],
   "source": [
    "lst.append((\"Tuple inside list\"))"
   ]
  },
  {
   "cell_type": "code",
   "execution_count": 102,
   "id": "05339995",
   "metadata": {},
   "outputs": [
    {
     "data": {
      "text/plain": [
       "[(1, 2, 3), (4, 5, 6), 'Tuple inside list']"
      ]
     },
     "execution_count": 102,
     "metadata": {},
     "output_type": "execute_result"
    }
   ],
   "source": [
    "lst"
   ]
  },
  {
   "cell_type": "code",
   "execution_count": 103,
   "id": "960fddd8",
   "metadata": {},
   "outputs": [
    {
     "data": {
      "text/plain": [
       "[(4, 5, 6), 'Tuple inside list']"
      ]
     },
     "execution_count": 103,
     "metadata": {},
     "output_type": "execute_result"
    }
   ],
   "source": [
    "lst.remove((1,2,3))\n",
    "lst"
   ]
  },
  {
   "cell_type": "markdown",
   "id": "01b38e8c",
   "metadata": {},
   "source": [
    "# Nesting lists in tuples"
   ]
  },
  {
   "cell_type": "code",
   "execution_count": 104,
   "id": "671b9a32",
   "metadata": {},
   "outputs": [],
   "source": [
    "tpl1=(['a','b','c'], ['d', 'e', 'f'])"
   ]
  },
  {
   "cell_type": "code",
   "execution_count": 105,
   "id": "674b2302",
   "metadata": {},
   "outputs": [
    {
     "data": {
      "text/plain": [
       "(['a', 'b', 'c'], ['d', 'e', 'f'])"
      ]
     },
     "execution_count": 105,
     "metadata": {},
     "output_type": "execute_result"
    }
   ],
   "source": [
    "tpl1"
   ]
  },
  {
   "cell_type": "code",
   "execution_count": 108,
   "id": "13b811f2",
   "metadata": {},
   "outputs": [],
   "source": [
    "tpl1[0].append('z')"
   ]
  },
  {
   "cell_type": "code",
   "execution_count": 109,
   "id": "d6e19dcf",
   "metadata": {},
   "outputs": [
    {
     "data": {
      "text/plain": [
       "(['a', 'b', 'c', 'z'], ['d', 'e', 'f'])"
      ]
     },
     "execution_count": 109,
     "metadata": {},
     "output_type": "execute_result"
    }
   ],
   "source": [
    "tpl1"
   ]
  },
  {
   "cell_type": "code",
   "execution_count": 110,
   "id": "5507b1b4",
   "metadata": {},
   "outputs": [],
   "source": [
    "tpl1[0].remove('z')"
   ]
  },
  {
   "cell_type": "code",
   "execution_count": 111,
   "id": "0f34b412",
   "metadata": {},
   "outputs": [
    {
     "data": {
      "text/plain": [
       "(['a', 'b', 'c'], ['d', 'e', 'f'])"
      ]
     },
     "execution_count": 111,
     "metadata": {},
     "output_type": "execute_result"
    }
   ],
   "source": [
    "tpl1"
   ]
  },
  {
   "cell_type": "code",
   "execution_count": 113,
   "id": "31af5de2",
   "metadata": {},
   "outputs": [
    {
     "ename": "AttributeError",
     "evalue": "'tuple' object has no attribute 'append'",
     "output_type": "error",
     "traceback": [
      "\u001b[1;31m---------------------------------------------------------------------------\u001b[0m",
      "\u001b[1;31mAttributeError\u001b[0m                            Traceback (most recent call last)",
      "Input \u001b[1;32mIn [113]\u001b[0m, in \u001b[0;36m<cell line: 2>\u001b[1;34m()\u001b[0m\n\u001b[0;32m      1\u001b[0m \u001b[38;5;66;03m# Tuples cannot be changed\u001b[39;00m\n\u001b[1;32m----> 2\u001b[0m \u001b[43mtpl1\u001b[49m\u001b[38;5;241;43m.\u001b[39;49m\u001b[43mappend\u001b[49m([\u001b[38;5;124m'\u001b[39m\u001b[38;5;124mx\u001b[39m\u001b[38;5;124m'\u001b[39m,\u001b[38;5;124m'\u001b[39m\u001b[38;5;124my\u001b[39m\u001b[38;5;124m'\u001b[39m,\u001b[38;5;124m'\u001b[39m\u001b[38;5;124mz\u001b[39m\u001b[38;5;124m'\u001b[39m])\n",
      "\u001b[1;31mAttributeError\u001b[0m: 'tuple' object has no attribute 'append'"
     ]
    }
   ],
   "source": [
    "# Tuples cannot be changed\n",
    "tpl1.append(['x','y','z'])"
   ]
  },
  {
   "cell_type": "code",
   "execution_count": null,
   "id": "a62c4559",
   "metadata": {},
   "outputs": [],
   "source": []
  }
 ],
 "metadata": {
  "kernelspec": {
   "display_name": "Python 3 (ipykernel)",
   "language": "python",
   "name": "python3"
  },
  "language_info": {
   "codemirror_mode": {
    "name": "ipython",
    "version": 3
   },
   "file_extension": ".py",
   "mimetype": "text/x-python",
   "name": "python",
   "nbconvert_exporter": "python",
   "pygments_lexer": "ipython3",
   "version": "3.9.12"
  }
 },
 "nbformat": 4,
 "nbformat_minor": 5
}
