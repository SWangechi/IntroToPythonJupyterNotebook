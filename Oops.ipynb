{
 "cells": [
  {
   "cell_type": "markdown",
   "id": "1c67607c",
   "metadata": {},
   "source": [
    "# create a class"
   ]
  },
  {
   "cell_type": "code",
   "execution_count": 5,
   "id": "7a62b5ab",
   "metadata": {},
   "outputs": [
    {
     "name": "stdout",
     "output_type": "stream",
     "text": [
      "155 mph\n",
      "155 mph\n",
      "155 mph\n",
      "155 mph\n"
     ]
    }
   ],
   "source": [
    "class car:\n",
    "    \n",
    "    def getSpeed(self):\n",
    "        print(\"155 mph\")\n",
    "BMW = car()\n",
    "FORD =car()\n",
    "car.getSpeed(BMW)\n",
    "car.getSpeed(FORD)\n",
    "\n",
    "BMW.getSpeed()\n",
    "FORD.getSpeed()"
   ]
  },
  {
   "cell_type": "code",
   "execution_count": 10,
   "id": "8647f12a",
   "metadata": {},
   "outputs": [
    {
     "name": "stdout",
     "output_type": "stream",
     "text": [
      "maximum speed is:  155\n",
      "maximum speed is:  140\n"
     ]
    }
   ],
   "source": [
    "class car:\n",
    "    def __init__(self,year,speed):\n",
    "            self.year=year\n",
    "            self.speed=speed\n",
    "    def getSpeed(self):\n",
    "        print(\"maximum speed is: \", self.speed)\n",
    "BMW = car(2018, 155)\n",
    "FORD =car(2016, 140)\n",
    "\n",
    "\n",
    "BMW.getSpeed()\n",
    "FORD.getSpeed()"
   ]
  },
  {
   "cell_type": "code",
   "execution_count": 13,
   "id": "20ba1ff1",
   "metadata": {},
   "outputs": [
    {
     "name": "stdout",
     "output_type": "stream",
     "text": [
      "maximum speed is:  155\n",
      "maximum speed is:  143\n",
      "maximum speed is:  140\n"
     ]
    }
   ],
   "source": [
    "class car:\n",
    "    def __init__(self,year,speed):\n",
    "            self.year=year\n",
    "            self.speed=speed\n",
    "    def getSpeed(self):\n",
    "        print(\"maximum speed is: \", self.speed)\n",
    "    def setSpeed(self,speed) :\n",
    "        self.speed=speed\n",
    "BMW = car(2018, 155)\n",
    "FORD =car(2016, 140)\n",
    "\n",
    "\n",
    "BMW.getSpeed()\n",
    "BMW.setSpeed(143)\n",
    "BMW.getSpeed()\n",
    "\n",
    "FORD.getSpeed()"
   ]
  },
  {
   "cell_type": "markdown",
   "id": "3e1872e6",
   "metadata": {},
   "source": [
    "# Inheritance"
   ]
  },
  {
   "cell_type": "code",
   "execution_count": 19,
   "id": "fc28a807",
   "metadata": {},
   "outputs": [
    {
     "name": "stdout",
     "output_type": "stream",
     "text": [
      "maximum speed is:  155\n",
      "maximum speed is:  150\n",
      "trunk has been opened\n",
      "137\n"
     ]
    }
   ],
   "source": [
    "class car:\n",
    "    def __init__(self,year,speed):\n",
    "            self.year=year\n",
    "            self.speed=speed\n",
    "    def getSpeed(self):\n",
    "        print(\"maximum speed is: \", self.speed)\n",
    "    def setSpeed(self,speed) :\n",
    "        self.speed=speed\n",
    "BMW = car(2018, 155)\n",
    "FORD =car(2016, 140)\n",
    "\n",
    "class Sedan(car): #child class\n",
    "    def accelerate(self):\n",
    "        print(137)\n",
    "    def openTrunk(self):\n",
    "        print(\"trunk has been opened\")\n",
    "        \n",
    "class SUV(car): #child class\n",
    "    def accelerate(self):\n",
    "        print(127)\n",
    "Honda = Sedan(2018,150)\n",
    "BMW.getSpeed()\n",
    "Honda.getSpeed()\n",
    "Honda.openTrunk()\n",
    "Honda.accelerate()"
   ]
  },
  {
   "cell_type": "markdown",
   "id": "238052a6",
   "metadata": {},
   "source": [
    "# Encapsulation"
   ]
  },
  {
   "cell_type": "code",
   "execution_count": 23,
   "id": "b49d0442",
   "metadata": {},
   "outputs": [
    {
     "name": "stdout",
     "output_type": "stream",
     "text": [
      "maximum speed is:  155\n",
      "maximum speed is:  150\n",
      "<bound method car.getSpeed of <__main__.car object at 0x000001B0209F9FA0>>\n"
     ]
    }
   ],
   "source": [
    "class car:\n",
    "    def __init__(self,year,speed):\n",
    "            self.year=year\n",
    "            self.speed=speed\n",
    "    def getSpeed(self):\n",
    "        print(\"maximum speed is: \", self.speed)\n",
    "    def setSpeed(self,speed) :\n",
    "        self.speed=speed\n",
    "BMW = car(2018, 155)\n",
    "FORD =car(2016, 140)\n",
    "BMW.getSpeed()\n",
    "\n",
    "BMW.setSpeed(150)\n",
    "BMW.getSpeed()\n",
    "print(BMW.getSpeed)"
   ]
  },
  {
   "cell_type": "markdown",
   "id": "7937f3ba",
   "metadata": {},
   "source": [
    "# Polymorphism"
   ]
  },
  {
   "cell_type": "code",
   "execution_count": 25,
   "id": "bd396de4",
   "metadata": {},
   "outputs": [
    {
     "name": "stdout",
     "output_type": "stream",
     "text": [
      "Camry : 150\n",
      "Scorpio : 180\n"
     ]
    }
   ],
   "source": [
    "class car:\n",
    "    def __init__(self,name):\n",
    "            self.name=name\n",
    "\n",
    "class Sedan(car): #child class\n",
    "    def accelerate(self):\n",
    "        print(\"150\")\n",
    "        \n",
    "class SUV(car): #child class\n",
    "    def accelerate(self):\n",
    "        print(\"180\")\n",
    "objL = [Sedan(\"Camry\"),SUV(\"Scorpio\")]\n",
    "\n",
    "for obj in objL :\n",
    "    print(obj.name + \" : \",end=\"\")\n",
    "    obj.accelerate()"
   ]
  },
  {
   "cell_type": "code",
   "execution_count": null,
   "id": "e0755cc6",
   "metadata": {},
   "outputs": [],
   "source": []
  }
 ],
 "metadata": {
  "kernelspec": {
   "display_name": "Python 3 (ipykernel)",
   "language": "python",
   "name": "python3"
  },
  "language_info": {
   "codemirror_mode": {
    "name": "ipython",
    "version": 3
   },
   "file_extension": ".py",
   "mimetype": "text/x-python",
   "name": "python",
   "nbconvert_exporter": "python",
   "pygments_lexer": "ipython3",
   "version": "3.9.12"
  }
 },
 "nbformat": 4,
 "nbformat_minor": 5
}
