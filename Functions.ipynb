{
 "cells": [
  {
   "cell_type": "markdown",
   "id": "d6da5925",
   "metadata": {},
   "source": [
    "# Create a function"
   ]
  },
  {
   "cell_type": "code",
   "execution_count": 2,
   "id": "df30ee04",
   "metadata": {},
   "outputs": [
    {
     "name": "stdout",
     "output_type": "stream",
     "text": [
      "Good Morning\n"
     ]
    }
   ],
   "source": [
    "def welcome():\n",
    "    print(\"Good Morning\")\n",
    "welcome()    "
   ]
  },
  {
   "cell_type": "markdown",
   "id": "82ab77a3",
   "metadata": {},
   "source": [
    "# parameters"
   ]
  },
  {
   "cell_type": "code",
   "execution_count": 4,
   "id": "8e89164c",
   "metadata": {},
   "outputs": [
    {
     "name": "stdout",
     "output_type": "stream",
     "text": [
      "a:10  b:20\n",
      "The sum is  30\n",
      "a:2  b:3\n",
      "The sum is  5\n"
     ]
    }
   ],
   "source": [
    "def add(a,b):\n",
    "    total=a+b\n",
    "    print(\"a:%d  b:%d\" %(a,b))\n",
    "    print(\"The sum is \", total)\n",
    "add(10,20)\n",
    "x=2\n",
    "y=3\n",
    "add(x,y)"
   ]
  },
  {
   "cell_type": "markdown",
   "id": "e479f205",
   "metadata": {},
   "source": [
    "# arguments"
   ]
  },
  {
   "cell_type": "code",
   "execution_count": 5,
   "id": "82695368",
   "metadata": {},
   "outputs": [
    {
     "name": "stdout",
     "output_type": "stream",
     "text": [
      "a:10  b:20\n",
      "The sum is  30\n",
      "a:3  b:2\n",
      "The sum is  5\n"
     ]
    }
   ],
   "source": [
    "def add(b,a):\n",
    "    total=a+b\n",
    "    print(\"a:%d  b:%d\" %(a,b))\n",
    "    print(\"The sum is \", total)\n",
    "add(a=10,b=20)\n",
    "x=2\n",
    "y=3\n",
    "add(x,y)"
   ]
  },
  {
   "cell_type": "code",
   "execution_count": 6,
   "id": "c04ec132",
   "metadata": {},
   "outputs": [
    {
     "name": "stdout",
     "output_type": "stream",
     "text": [
      "a:10  b:0\n",
      "The sum is  10\n"
     ]
    }
   ],
   "source": [
    "def add(a=0,b=0):\n",
    "    total=a+b\n",
    "    print(\"a:%d  b:%d\" %(a,b))\n",
    "    print(\"The sum is \", total)\n",
    "add(10)"
   ]
  },
  {
   "cell_type": "code",
   "execution_count": 10,
   "id": "db48c86b",
   "metadata": {},
   "outputs": [
    {
     "name": "stdout",
     "output_type": "stream",
     "text": [
      "The sum is  110\n"
     ]
    }
   ],
   "source": [
    "def add(*a):\n",
    "    total=0\n",
    "    for i in a:\n",
    "        total=total+i\n",
    "    print(\"The sum is \", total)\n",
    "add(10,20,30,50)\n",
    "add(1)"
   ]
  },
  {
   "cell_type": "code",
   "execution_count": 12,
   "id": "fd7f7607",
   "metadata": {},
   "outputs": [
    {
     "name": "stdout",
     "output_type": "stream",
     "text": [
      "The sum is  5\n",
      "The sum is  30\n"
     ]
    }
   ],
   "source": [
    "def add(a,b):\n",
    "    a=2\n",
    "    b=3\n",
    "    total=a+b\n",
    "    print(\"The sum is \", total)\n",
    "x=10\n",
    "y=20\n",
    "add(x,y)\n",
    "print(\"The sum is \", x+y)"
   ]
  },
  {
   "cell_type": "markdown",
   "id": "281a4a6a",
   "metadata": {},
   "source": [
    "# Call by reference"
   ]
  },
  {
   "cell_type": "code",
   "execution_count": 13,
   "id": "6817367d",
   "metadata": {},
   "outputs": [
    {
     "name": "stdout",
     "output_type": "stream",
     "text": [
      "1618716748368 1618716748688\n",
      "1618716748368 1618716748688\n",
      "1618716748112 1618716748144\n",
      "The sum is  5\n",
      "The sum is  30\n"
     ]
    }
   ],
   "source": [
    "def add(a,b):\n",
    "    print(id(a),id(b))\n",
    "    a=2\n",
    "    b=3\n",
    "    print(id(a),id(b))\n",
    "    total=a+b\n",
    "    print(\"The sum is \", total)\n",
    "x=10\n",
    "y=20\n",
    "print(id(x),id(y))\n",
    "add(x,y)\n",
    "print(\"The sum is \", x+y)"
   ]
  },
  {
   "cell_type": "code",
   "execution_count": 15,
   "id": "b773af7d",
   "metadata": {},
   "outputs": [
    {
     "name": "stdout",
     "output_type": "stream",
     "text": [
      "[0, 1, 2]\n",
      "[0, 1, 0]\n"
     ]
    }
   ],
   "source": [
    "def add(lst):\n",
    "    lst[2]=0\n",
    "    \n",
    "lst=[0,1,2]\n",
    "print(lst)\n",
    "add(lst)\n",
    "print(lst)"
   ]
  },
  {
   "cell_type": "code",
   "execution_count": 16,
   "id": "8b453cb3",
   "metadata": {},
   "outputs": [
    {
     "name": "stdout",
     "output_type": "stream",
     "text": [
      "The sum is  30\n"
     ]
    }
   ],
   "source": [
    "def add(a,b):\n",
    "    total=a+b\n",
    "    return total\n",
    "\n",
    "result=add(10,20)\n",
    "print(\"The sum is \",result)"
   ]
  },
  {
   "cell_type": "code",
   "execution_count": null,
   "id": "316a4161",
   "metadata": {},
   "outputs": [],
   "source": []
  }
 ],
 "metadata": {
  "kernelspec": {
   "display_name": "Python 3 (ipykernel)",
   "language": "python",
   "name": "python3"
  },
  "language_info": {
   "codemirror_mode": {
    "name": "ipython",
    "version": 3
   },
   "file_extension": ".py",
   "mimetype": "text/x-python",
   "name": "python",
   "nbconvert_exporter": "python",
   "pygments_lexer": "ipython3",
   "version": "3.9.12"
  }
 },
 "nbformat": 4,
 "nbformat_minor": 5
}
