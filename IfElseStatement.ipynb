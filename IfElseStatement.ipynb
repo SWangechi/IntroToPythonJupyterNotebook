{
 "cells": [
  {
   "cell_type": "code",
   "execution_count": 2,
   "id": "aa6bba40",
   "metadata": {},
   "outputs": [
    {
     "name": "stdout",
     "output_type": "stream",
     "text": [
      "This is the if body\n",
      "This is outside the if block\n"
     ]
    }
   ],
   "source": [
    "a=60\n",
    "if a >50:\n",
    "    print(\"This is the if body\")\n",
    "print(\"This is outside the if block\")    "
   ]
  },
  {
   "cell_type": "markdown",
   "id": "7e39ab54",
   "metadata": {},
   "source": [
    "# If else stament"
   ]
  },
  {
   "cell_type": "code",
   "execution_count": 3,
   "id": "913146d6",
   "metadata": {},
   "outputs": [
    {
     "name": "stdout",
     "output_type": "stream",
     "text": [
      "This is the if block\n",
      "i is an even number\n"
     ]
    }
   ],
   "source": [
    "i = 20\n",
    "if i%2==0:\n",
    "    print(\"This is the if block\")\n",
    "    print(\"i is an even number\")\n",
    "else:\n",
    "    print(\"This is the else block\")\n",
    "    print(\"i is an odd number\")"
   ]
  },
  {
   "cell_type": "markdown",
   "id": "d5b58bd1",
   "metadata": {},
   "source": [
    "# Nested if statement"
   ]
  },
  {
   "cell_type": "code",
   "execution_count": 4,
   "id": "9f2f5547",
   "metadata": {},
   "outputs": [
    {
     "name": "stdout",
     "output_type": "stream",
     "text": [
      "c is an odd number less than 25\n"
     ]
    }
   ],
   "source": [
    "c=21\n",
    "if c<25:\n",
    "    if c%2==0:\n",
    "        print(\"c is an even number less than 25\")\n",
    "    else:\n",
    "        print(\"c is an odd number less than 25\")\n",
    "else:\n",
    "    print(\"c is greater than 25\")"
   ]
  },
  {
   "cell_type": "markdown",
   "id": "af0e892e",
   "metadata": {},
   "source": [
    "# If-Elif-Else Stament"
   ]
  },
  {
   "cell_type": "code",
   "execution_count": 6,
   "id": "4baff2db",
   "metadata": {},
   "outputs": [
    {
     "name": "stdout",
     "output_type": "stream",
     "text": [
      "This is a vowel o\n"
     ]
    }
   ],
   "source": [
    "var=\"o\"\n",
    "if var=='a':\n",
    "    print(\"This is a vowel a\")\n",
    "elif var=='e':\n",
    "    print(\"This is a vowel e\")\n",
    "elif var=='i':\n",
    "    print(\"This is a vowel i\")\n",
    "elif var=='o':\n",
    "    print(\"This is a vowel o\") \n",
    "elif var=='u':\n",
    "    print(\"This is a vowel u\") \n",
    "else:\n",
    "    print(\"This is a consonant\")"
   ]
  },
  {
   "cell_type": "code",
   "execution_count": null,
   "id": "52e128ba",
   "metadata": {},
   "outputs": [],
   "source": []
  }
 ],
 "metadata": {
  "kernelspec": {
   "display_name": "Python 3 (ipykernel)",
   "language": "python",
   "name": "python3"
  },
  "language_info": {
   "codemirror_mode": {
    "name": "ipython",
    "version": 3
   },
   "file_extension": ".py",
   "mimetype": "text/x-python",
   "name": "python",
   "nbconvert_exporter": "python",
   "pygments_lexer": "ipython3",
   "version": "3.9.12"
  }
 },
 "nbformat": 4,
 "nbformat_minor": 5
}
