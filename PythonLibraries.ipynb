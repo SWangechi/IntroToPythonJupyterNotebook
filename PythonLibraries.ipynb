{
 "cells": [
  {
   "cell_type": "markdown",
   "id": "7590c292",
   "metadata": {},
   "source": [
    "# Numpy"
   ]
  },
  {
   "cell_type": "code",
   "execution_count": 1,
   "id": "2f2276cb",
   "metadata": {},
   "outputs": [
    {
     "name": "stdout",
     "output_type": "stream",
     "text": [
      "<class 'numpy.ndarray'>\n"
     ]
    }
   ],
   "source": [
    "import numpy as np\n",
    "a=np.array([1,2,3])\n",
    "print(type(a))"
   ]
  },
  {
   "cell_type": "code",
   "execution_count": 3,
   "id": "211b5f4a",
   "metadata": {},
   "outputs": [
    {
     "name": "stdout",
     "output_type": "stream",
     "text": [
      "(3,)\n"
     ]
    }
   ],
   "source": [
    "print (a.shape)"
   ]
  },
  {
   "cell_type": "code",
   "execution_count": 4,
   "id": "5624a3fd",
   "metadata": {},
   "outputs": [
    {
     "data": {
      "text/plain": [
       "array([ 0,  1,  2,  3,  4,  5,  6,  7,  8,  9, 10, 11])"
      ]
     },
     "execution_count": 4,
     "metadata": {},
     "output_type": "execute_result"
    }
   ],
   "source": [
    "b=np.arange(12)\n",
    "b"
   ]
  },
  {
   "cell_type": "code",
   "execution_count": 5,
   "id": "d659da21",
   "metadata": {},
   "outputs": [
    {
     "data": {
      "text/plain": [
       "array([[ 0,  1,  2,  3],\n",
       "       [ 4,  5,  6,  7],\n",
       "       [ 8,  9, 10, 11]])"
      ]
     },
     "execution_count": 5,
     "metadata": {},
     "output_type": "execute_result"
    }
   ],
   "source": [
    "b.reshape(3,4)"
   ]
  },
  {
   "cell_type": "code",
   "execution_count": 8,
   "id": "88425a80",
   "metadata": {},
   "outputs": [
    {
     "name": "stdout",
     "output_type": "stream",
     "text": [
      "[[ 0  1  2  3]\n",
      " [ 4  5  6  7]\n",
      " [ 8  9 10 11]]\n"
     ]
    }
   ],
   "source": [
    "b=np.arange(12).reshape(3,4)\n",
    "print(b)"
   ]
  },
  {
   "cell_type": "markdown",
   "id": "d47e6924",
   "metadata": {},
   "source": [
    "# Scipy"
   ]
  },
  {
   "cell_type": "code",
   "execution_count": 9,
   "id": "e4863af4",
   "metadata": {},
   "outputs": [],
   "source": [
    "from scipy import constants"
   ]
  },
  {
   "cell_type": "code",
   "execution_count": 10,
   "id": "23fc1627",
   "metadata": {},
   "outputs": [
    {
     "name": "stdout",
     "output_type": "stream",
     "text": [
      "299792458.0\n",
      "6.62607015e-34\n",
      "6.02214076e+23\n"
     ]
    }
   ],
   "source": [
    "print(constants.c) # speed of light\n",
    "print(constants.h) # plank's constants\n",
    "print(constants.N_A) # Avagadro's number"
   ]
  },
  {
   "cell_type": "markdown",
   "id": "c8789ceb",
   "metadata": {},
   "source": [
    "# Pandas"
   ]
  },
  {
   "cell_type": "code",
   "execution_count": 11,
   "id": "99b3dc21",
   "metadata": {},
   "outputs": [],
   "source": [
    "import pandas as pd"
   ]
  },
  {
   "cell_type": "code",
   "execution_count": 12,
   "id": "5d1bbbe2",
   "metadata": {},
   "outputs": [
    {
     "name": "stdout",
     "output_type": "stream",
     "text": [
      "          A         B         C         D\n",
      "0 -0.735404  0.002599  0.879536  0.131196\n",
      "1 -0.645758  1.211746 -1.712594  0.411321\n",
      "2 -0.630883 -1.291891  0.670354 -0.832274\n",
      "3  1.175261 -1.635973  1.412628 -0.886755\n",
      "4 -0.367610 -1.847664  0.116374 -0.467464\n",
      "5  0.206833 -0.856797 -0.462749  0.890907\n"
     ]
    }
   ],
   "source": [
    "df=pd.DataFrame(np.random.randn(6,4),index=list(range(6)),columns=list('ABCD'))\n",
    "print(df)"
   ]
  },
  {
   "cell_type": "code",
   "execution_count": 13,
   "id": "491f485a",
   "metadata": {},
   "outputs": [
    {
     "data": {
      "text/html": [
       "<div>\n",
       "<style scoped>\n",
       "    .dataframe tbody tr th:only-of-type {\n",
       "        vertical-align: middle;\n",
       "    }\n",
       "\n",
       "    .dataframe tbody tr th {\n",
       "        vertical-align: top;\n",
       "    }\n",
       "\n",
       "    .dataframe thead th {\n",
       "        text-align: right;\n",
       "    }\n",
       "</style>\n",
       "<table border=\"1\" class=\"dataframe\">\n",
       "  <thead>\n",
       "    <tr style=\"text-align: right;\">\n",
       "      <th></th>\n",
       "      <th>A</th>\n",
       "      <th>B</th>\n",
       "      <th>C</th>\n",
       "      <th>D</th>\n",
       "    </tr>\n",
       "  </thead>\n",
       "  <tbody>\n",
       "    <tr>\n",
       "      <th>count</th>\n",
       "      <td>6.000000</td>\n",
       "      <td>6.000000</td>\n",
       "      <td>6.000000</td>\n",
       "      <td>6.000000</td>\n",
       "    </tr>\n",
       "    <tr>\n",
       "      <th>mean</th>\n",
       "      <td>-0.166260</td>\n",
       "      <td>-0.736330</td>\n",
       "      <td>0.150591</td>\n",
       "      <td>-0.125512</td>\n",
       "    </tr>\n",
       "    <tr>\n",
       "      <th>std</th>\n",
       "      <td>0.741503</td>\n",
       "      <td>1.158326</td>\n",
       "      <td>1.117414</td>\n",
       "      <td>0.718767</td>\n",
       "    </tr>\n",
       "    <tr>\n",
       "      <th>min</th>\n",
       "      <td>-0.735404</td>\n",
       "      <td>-1.847664</td>\n",
       "      <td>-1.712594</td>\n",
       "      <td>-0.886755</td>\n",
       "    </tr>\n",
       "    <tr>\n",
       "      <th>25%</th>\n",
       "      <td>-0.642039</td>\n",
       "      <td>-1.549952</td>\n",
       "      <td>-0.317968</td>\n",
       "      <td>-0.741072</td>\n",
       "    </tr>\n",
       "    <tr>\n",
       "      <th>50%</th>\n",
       "      <td>-0.499246</td>\n",
       "      <td>-1.074344</td>\n",
       "      <td>0.393364</td>\n",
       "      <td>-0.168134</td>\n",
       "    </tr>\n",
       "    <tr>\n",
       "      <th>75%</th>\n",
       "      <td>0.063222</td>\n",
       "      <td>-0.212250</td>\n",
       "      <td>0.827241</td>\n",
       "      <td>0.341290</td>\n",
       "    </tr>\n",
       "    <tr>\n",
       "      <th>max</th>\n",
       "      <td>1.175261</td>\n",
       "      <td>1.211746</td>\n",
       "      <td>1.412628</td>\n",
       "      <td>0.890907</td>\n",
       "    </tr>\n",
       "  </tbody>\n",
       "</table>\n",
       "</div>"
      ],
      "text/plain": [
       "              A         B         C         D\n",
       "count  6.000000  6.000000  6.000000  6.000000\n",
       "mean  -0.166260 -0.736330  0.150591 -0.125512\n",
       "std    0.741503  1.158326  1.117414  0.718767\n",
       "min   -0.735404 -1.847664 -1.712594 -0.886755\n",
       "25%   -0.642039 -1.549952 -0.317968 -0.741072\n",
       "50%   -0.499246 -1.074344  0.393364 -0.168134\n",
       "75%    0.063222 -0.212250  0.827241  0.341290\n",
       "max    1.175261  1.211746  1.412628  0.890907"
      ]
     },
     "execution_count": 13,
     "metadata": {},
     "output_type": "execute_result"
    }
   ],
   "source": [
    "df.describe()"
   ]
  },
  {
   "cell_type": "markdown",
   "id": "390de0e4",
   "metadata": {},
   "source": [
    "# Matplotlib"
   ]
  },
  {
   "cell_type": "code",
   "execution_count": 14,
   "id": "9dfe4302",
   "metadata": {},
   "outputs": [],
   "source": [
    "import numpy as np\n",
    "import matplotlib.pyplot as plt\n",
    "%matplotlib inline"
   ]
  },
  {
   "cell_type": "code",
   "execution_count": 15,
   "id": "44993b6a",
   "metadata": {},
   "outputs": [],
   "source": [
    "np.random.seed(10)"
   ]
  },
  {
   "cell_type": "code",
   "execution_count": 16,
   "id": "83dfba87",
   "metadata": {},
   "outputs": [],
   "source": [
    "N=30\n",
    "x=np.random.rand(N)\n",
    "y=np.random.rand(N)\n",
    "colors=np.random.rand(N)"
   ]
  },
  {
   "cell_type": "code",
   "execution_count": 17,
   "id": "b2c7f9be",
   "metadata": {},
   "outputs": [],
   "source": [
    "area=(30*np.random.rand(N))**2"
   ]
  },
  {
   "cell_type": "code",
   "execution_count": 20,
   "id": "4c68a441",
   "metadata": {},
   "outputs": [
    {
     "data": {
      "image/png": "[encoded data removed]",
      "text/plain": [
       "<Figure size 432x288 with 1 Axes>"
      ]
     },
     "metadata": {
      "needs_background": "light"
     },
     "output_type": "display_data"
    }
   ],
   "source": [
    "plt.scatter(x, y, s=area, c=colors, alpha=0.4)\n",
    "plt.show()"
   ]
  },
  {
   "cell_type": "markdown",
   "id": "f8343ff2",
   "metadata": {},
   "source": [
    "# create a histogram"
   ]
  },
  {
   "cell_type": "code",
   "execution_count": 21,
   "id": "71075d58",
   "metadata": {},
   "outputs": [],
   "source": [
    "from matplotlib import style\n",
    "style.use('ggplot')\n",
    "\n",
    "x=[2,4,6]\n",
    "y=[12,14,16]\n",
    "\n",
    "x2=[3,3,4]\n",
    "y2=[7,14,5]"
   ]
  },
  {
   "cell_type": "code",
   "execution_count": 22,
   "id": "b549db69",
   "metadata": {},
   "outputs": [
    {
     "data": {
      "image/png": "[encoded data removed]",
      "text/plain": [
       "<Figure size 432x288 with 1 Axes>"
      ]
     },
     "metadata": {},
     "output_type": "display_data"
    }
   ],
   "source": [
    "plt.bar(x, y, color='r', align='center')\n",
    "plt.bar(x2, y2, color='b', align='center')\n",
    "\n",
    "plt.title('info')\n",
    "plt.ylabel('Y axis')\n",
    "plt.xlabel('X axis')\n",
    "plt.show()"
   ]
  },
  {
   "cell_type": "code",
   "execution_count": null,
   "id": "b0ddcd16",
   "metadata": {},
   "outputs": [],
   "source": []
  }
 ],
 "metadata": {
  "kernelspec": {
   "display_name": "Python 3 (ipykernel)",
   "language": "python",
   "name": "python3"
  },
  "language_info": {
   "codemirror_mode": {
    "name": "ipython",
    "version": 3
   },
   "file_extension": ".py",
   "mimetype": "text/x-python",
   "name": "python",
   "nbconvert_exporter": "python",
   "pygments_lexer": "ipython3",
   "version": "3.9.12"
  }
 },
 "nbformat": 4,
 "nbformat_minor": 5
}
