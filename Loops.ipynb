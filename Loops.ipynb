{
 "cells": [
  {
   "cell_type": "markdown",
   "id": "42a945fb",
   "metadata": {},
   "source": [
    "# While loop"
   ]
  },
  {
   "cell_type": "code",
   "execution_count": 2,
   "id": "8beec368",
   "metadata": {},
   "outputs": [
    {
     "name": "stdout",
     "output_type": "stream",
     "text": [
      "Enter a multiple of 718\n",
      "Enter a multiple of 745\n",
      "Enter a multiple of 790\n",
      "Enter a multiple of 714\n",
      "14 is a multimple of 7\n"
     ]
    }
   ],
   "source": [
    "val=int(input(\"Enter a multiple of 7\"))\n",
    "while val%7 !=0:\n",
    "    val=int(input(\"Enter a multiple of 7\"))\n",
    "else :\n",
    "    print(\"%d is a multimple of 7\" %val)\n",
    "    \n",
    "    "
   ]
  },
  {
   "cell_type": "markdown",
   "id": "806ef85c",
   "metadata": {},
   "source": [
    "# For loop"
   ]
  },
  {
   "cell_type": "code",
   "execution_count": 4,
   "id": "92605f97",
   "metadata": {},
   "outputs": [
    {
     "name": "stdout",
     "output_type": "stream",
     "text": [
      "1\n",
      "6\n",
      "Simplilearn\n"
     ]
    }
   ],
   "source": [
    "x= [1,6,\"Simplilearn\"]\n",
    "for i in x :\n",
    "    print(i)"
   ]
  },
  {
   "cell_type": "code",
   "execution_count": 5,
   "id": "4db09940",
   "metadata": {},
   "outputs": [
    {
     "name": "stdout",
     "output_type": "stream",
     "text": [
      "Simplilearn\n"
     ]
    }
   ],
   "source": [
    "x= [\"Simplilearn\"]\n",
    "for i in x :\n",
    "    print(i)"
   ]
  },
  {
   "cell_type": "markdown",
   "id": "2f3c29bf",
   "metadata": {},
   "source": [
    " # Nested Loops"
   ]
  },
  {
   "cell_type": "code",
   "execution_count": 7,
   "id": "8efdf851",
   "metadata": {},
   "outputs": [
    {
     "name": "stdout",
     "output_type": "stream",
     "text": [
      "123\n",
      "abc\n"
     ]
    }
   ],
   "source": [
    "x=[[1,2,3], ['a', 'b', 'c']]\n",
    "for i in x :\n",
    "    # j retrieves all elements\n",
    "    # i retrieves for 1st and 2nd list\n",
    "    for j in i :\n",
    "        print(j, end=\"\")\n",
    "    print()    "
   ]
  },
  {
   "cell_type": "markdown",
   "id": "920ad7aa",
   "metadata": {},
   "source": [
    "# Loop control Statements"
   ]
  },
  {
   "cell_type": "markdown",
   "id": "7a6f66ec",
   "metadata": {},
   "source": [
    "# Break Statement"
   ]
  },
  {
   "cell_type": "code",
   "execution_count": 11,
   "id": "6294386a",
   "metadata": {},
   "outputs": [
    {
     "name": "stdout",
     "output_type": "stream",
     "text": [
      "Hey there"
     ]
    }
   ],
   "source": [
    "x= \"Hey there. how are you?\"\n",
    "for i in x :\n",
    "    if i == \".\":\n",
    "        break\n",
    "    print(i, end=\"\") "
   ]
  },
  {
   "cell_type": "markdown",
   "id": "308337c7",
   "metadata": {},
   "source": [
    "# Continue Statement"
   ]
  },
  {
   "cell_type": "code",
   "execution_count": 13,
   "id": "a34a813a",
   "metadata": {},
   "outputs": [
    {
     "name": "stdout",
     "output_type": "stream",
     "text": [
      "1\n",
      "4\n",
      "6\n"
     ]
    }
   ],
   "source": [
    "for i in [1,13,56,4,6,] :\n",
    "    if i>10 :\n",
    "        continue\n",
    "    print(i)"
   ]
  },
  {
   "cell_type": "code",
   "execution_count": null,
   "id": "20fec6f7",
   "metadata": {},
   "outputs": [],
   "source": []
  }
 ],
 "metadata": {
  "kernelspec": {
   "display_name": "Python 3 (ipykernel)",
   "language": "python",
   "name": "python3"
  },
  "language_info": {
   "codemirror_mode": {
    "name": "ipython",
    "version": 3
   },
   "file_extension": ".py",
   "mimetype": "text/x-python",
   "name": "python",
   "nbconvert_exporter": "python",
   "pygments_lexer": "ipython3",
   "version": "3.9.12"
  }
 },
 "nbformat": 4,
 "nbformat_minor": 5
}
