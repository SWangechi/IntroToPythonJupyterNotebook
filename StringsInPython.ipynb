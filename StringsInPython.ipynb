{
 "cells": [
  {
   "cell_type": "code",
   "execution_count": 1,
   "id": "d166727d",
   "metadata": {},
   "outputs": [
    {
     "name": "stdout",
     "output_type": "stream",
     "text": [
      "Simplilearn\n"
     ]
    }
   ],
   "source": [
    "stg = \"Simplilearn\"\n",
    "print(stg)"
   ]
  },
  {
   "cell_type": "code",
   "execution_count": 2,
   "id": "74665a80",
   "metadata": {},
   "outputs": [
    {
     "name": "stdout",
     "output_type": "stream",
     "text": [
      "Tim's birthday\n"
     ]
    }
   ],
   "source": [
    "stg=\"Tim's birthday\"\n",
    "print(stg)"
   ]
  },
  {
   "cell_type": "code",
   "execution_count": 5,
   "id": "3dc28935",
   "metadata": {},
   "outputs": [
    {
     "name": "stdout",
     "output_type": "stream",
     "text": [
      "Tim said, \"I am busy today\"\n"
     ]
    }
   ],
   "source": [
    "stg='Tim said, \"I am busy today\"'\n",
    "print(stg)"
   ]
  },
  {
   "cell_type": "code",
   "execution_count": 7,
   "id": "6cd135a7",
   "metadata": {},
   "outputs": [
    {
     "name": "stdout",
     "output_type": "stream",
     "text": [
      "hey there!\n",
      "Welcome to Simplilearn\n"
     ]
    }
   ],
   "source": [
    "# String with mutiple lines\n",
    "stg = '''hey there!\n",
    "Welcome to Simplilearn'''\n",
    "print(stg)"
   ]
  },
  {
   "cell_type": "code",
   "execution_count": 8,
   "id": "0c444652",
   "metadata": {},
   "outputs": [
    {
     "name": "stdout",
     "output_type": "stream",
     "text": [
      "11\n"
     ]
    }
   ],
   "source": [
    "stg= 'Simplilearn'\n",
    "print(len(stg))"
   ]
  },
  {
   "cell_type": "code",
   "execution_count": 9,
   "id": "8f4a490b",
   "metadata": {},
   "outputs": [
    {
     "name": "stdout",
     "output_type": "stream",
     "text": [
      "i\n"
     ]
    }
   ],
   "source": [
    "print(stg[5])"
   ]
  },
  {
   "cell_type": "code",
   "execution_count": 11,
   "id": "b4602623",
   "metadata": {},
   "outputs": [
    {
     "name": "stdout",
     "output_type": "stream",
     "text": [
      "S\n",
      "i\n",
      "m\n",
      "p\n",
      "l\n",
      "i\n",
      "l\n",
      "e\n",
      "a\n",
      "r\n",
      "n\n"
     ]
    }
   ],
   "source": [
    "for i in stg:\n",
    "    print(i)"
   ]
  },
  {
   "cell_type": "code",
   "execution_count": 12,
   "id": "3e5c6d33",
   "metadata": {},
   "outputs": [
    {
     "name": "stdout",
     "output_type": "stream",
     "text": [
      "S i m p l i l e a r n "
     ]
    }
   ],
   "source": [
    "for i in stg:\n",
    "    print(i, end=\" \")"
   ]
  },
  {
   "cell_type": "markdown",
   "id": "199f550e",
   "metadata": {},
   "source": [
    "# Slicing"
   ]
  },
  {
   "cell_type": "code",
   "execution_count": 14,
   "id": "b42729b7",
   "metadata": {},
   "outputs": [
    {
     "name": "stdout",
     "output_type": "stream",
     "text": [
      "Simpl\n"
     ]
    }
   ],
   "source": [
    "stg='Simplilearn'\n",
    "print(stg[0:5])"
   ]
  },
  {
   "cell_type": "code",
   "execution_count": 15,
   "id": "282e65c2",
   "metadata": {},
   "outputs": [
    {
     "name": "stdout",
     "output_type": "stream",
     "text": [
      "Simpl\n"
     ]
    }
   ],
   "source": [
    "print(stg[:5])"
   ]
  },
  {
   "cell_type": "code",
   "execution_count": 16,
   "id": "ba4a40ae",
   "metadata": {},
   "outputs": [
    {
     "name": "stdout",
     "output_type": "stream",
     "text": [
      "ilearn\n"
     ]
    }
   ],
   "source": [
    "print(stg[5:])"
   ]
  },
  {
   "cell_type": "code",
   "execution_count": 17,
   "id": "b3ad419d",
   "metadata": {},
   "outputs": [
    {
     "name": "stdout",
     "output_type": "stream",
     "text": [
      "mpl\n"
     ]
    }
   ],
   "source": [
    "print(stg[2:5])"
   ]
  },
  {
   "cell_type": "markdown",
   "id": "0b342f61",
   "metadata": {},
   "source": [
    "# In built Methods"
   ]
  },
  {
   "cell_type": "code",
   "execution_count": 18,
   "id": "db992e82",
   "metadata": {},
   "outputs": [
    {
     "name": "stdout",
     "output_type": "stream",
     "text": [
      "WELCOME TO SIMPLILEARN\n"
     ]
    }
   ],
   "source": [
    "stg='Welcome to Simplilearn'\n",
    "print(stg.upper())"
   ]
  },
  {
   "cell_type": "code",
   "execution_count": 19,
   "id": "766553a0",
   "metadata": {},
   "outputs": [
    {
     "name": "stdout",
     "output_type": "stream",
     "text": [
      "welcome to simplilearn\n"
     ]
    }
   ],
   "source": [
    "print(stg.lower())"
   ]
  },
  {
   "cell_type": "code",
   "execution_count": 20,
   "id": "c73c0671",
   "metadata": {},
   "outputs": [
    {
     "name": "stdout",
     "output_type": "stream",
     "text": [
      "11\n"
     ]
    }
   ],
   "source": [
    "print(stg.find('S'))"
   ]
  },
  {
   "cell_type": "code",
   "execution_count": 21,
   "id": "88543899",
   "metadata": {},
   "outputs": [
    {
     "name": "stdout",
     "output_type": "stream",
     "text": [
      "11\n"
     ]
    }
   ],
   "source": [
    "print(stg.index('S'))"
   ]
  },
  {
   "cell_type": "code",
   "execution_count": 22,
   "id": "246bdd82",
   "metadata": {},
   "outputs": [
    {
     "name": "stdout",
     "output_type": "stream",
     "text": [
      "2\n"
     ]
    }
   ],
   "source": [
    "print(stg.find('l'))"
   ]
  },
  {
   "cell_type": "code",
   "execution_count": 23,
   "id": "501a8ff2",
   "metadata": {},
   "outputs": [
    {
     "name": "stdout",
     "output_type": "stream",
     "text": [
      "2\n"
     ]
    }
   ],
   "source": [
    "print(stg.index('l'))"
   ]
  },
  {
   "cell_type": "code",
   "execution_count": 24,
   "id": "06786adf",
   "metadata": {},
   "outputs": [
    {
     "name": "stdout",
     "output_type": "stream",
     "text": [
      "['Welcome', 'to', 'Simplilearn']\n"
     ]
    }
   ],
   "source": [
    "print(stg.split(\" \"))"
   ]
  },
  {
   "cell_type": "code",
   "execution_count": 25,
   "id": "179887f5",
   "metadata": {},
   "outputs": [
    {
     "name": "stdout",
     "output_type": "stream",
     "text": [
      "['Welcome', 'to', 'Simplilearn']\n"
     ]
    }
   ],
   "source": [
    "x= stg.split(\" \")\n",
    "print(x)"
   ]
  },
  {
   "cell_type": "code",
   "execution_count": 26,
   "id": "b142cf46",
   "metadata": {},
   "outputs": [
    {
     "name": "stdout",
     "output_type": "stream",
     "text": [
      "Welcome to Python tutorial\n"
     ]
    }
   ],
   "source": [
    "# Replace method\n",
    "print(stg.replace('Simplilearn', 'Python tutorial'))"
   ]
  },
  {
   "cell_type": "code",
   "execution_count": 29,
   "id": "c6fef6d5",
   "metadata": {},
   "outputs": [],
   "source": [
    "# partition method creates a tuple with 3 elements"
   ]
  },
  {
   "cell_type": "code",
   "execution_count": 30,
   "id": "ea1dd368",
   "metadata": {},
   "outputs": [
    {
     "name": "stdout",
     "output_type": "stream",
     "text": [
      "('Welcome', ' to ', 'Simplilearn')\n"
     ]
    }
   ],
   "source": [
    "print(stg.rpartition(\" to \"))"
   ]
  },
  {
   "cell_type": "markdown",
   "id": "5a5e4a3f",
   "metadata": {},
   "source": [
    "# Concatenation"
   ]
  },
  {
   "cell_type": "code",
   "execution_count": 32,
   "id": "b280b914",
   "metadata": {},
   "outputs": [
    {
     "name": "stdout",
     "output_type": "stream",
     "text": [
      "good morning\n"
     ]
    }
   ],
   "source": [
    "stg1='good'\n",
    "stg2='morning'\n",
    "stg= stg1 + \" \"+ stg2\n",
    "print(stg)"
   ]
  },
  {
   "cell_type": "code",
   "execution_count": 33,
   "id": "00470687",
   "metadata": {},
   "outputs": [
    {
     "name": "stdout",
     "output_type": "stream",
     "text": [
      "Hey there, all!\n"
     ]
    }
   ],
   "source": [
    "stg1 = 'Hey'\n",
    "stg2= 'there'\n",
    "stg3 = 'all'\n",
    "stg=\"{} {}, {}!\" . format(stg1,stg2,stg3)\n",
    "print(stg)"
   ]
  },
  {
   "cell_type": "code",
   "execution_count": null,
   "id": "fab5d4e8",
   "metadata": {},
   "outputs": [],
   "source": []
  }
 ],
 "metadata": {
  "kernelspec": {
   "display_name": "Python 3 (ipykernel)",
   "language": "python",
   "name": "python3"
  },
  "language_info": {
   "codemirror_mode": {
    "name": "ipython",
    "version": 3
   },
   "file_extension": ".py",
   "mimetype": "text/x-python",
   "name": "python",
   "nbconvert_exporter": "python",
   "pygments_lexer": "ipython3",
   "version": "3.9.12"
  }
 },
 "nbformat": 4,
 "nbformat_minor": 5
}
